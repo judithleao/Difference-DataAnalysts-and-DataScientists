{
 "cells": [
  {
   "cell_type": "markdown",
   "metadata": {},
   "source": [
    "Link to kaggle dataset: https://www.kaggle.com/andrewmvd/data-scientist-jobs from user Larxel. Downloaded on 30/06 at roughly 9:15am.\n",
    "\n",
    "Link to Stackoverflow dataset: https://insights.stackoverflow.com/survey - downloaded 2020 survey results.\n",
    "\n",
    "\n",
    "### Idea\n",
    "Compare Data Scientist and Data Analyst role profiles by required skills\n",
    "\n",
    "### Reasoning\n",
    "For people at the beginning of their career in data, it can be difficult to understand the difference between data scientist and data analyst roles. What is the day to day like? How much coding will I be doing? Having recently applied for jobs again myself, I find that the definition varies a lot between companies. Some, one might even argue, advertise using the \"data scientist\" title because it sounds more \"sexy\". So what is the difference? How clear-cut is it? And what skills are needed to land a job?\n",
    "\n",
    "A lot of what you do in a job day to day is defined by the technology you work with. The technology is also an indicator for how much code you will actually be writing and how \"technical\" a role is. I am therefore looking at the technology that's being used by data analysts versus data scientists to understand where the differences lie. I will be looking at two data sources: First, I will look at job descriptions to understand what skills are crucial to put on your CV to score a job in either field and how this differs. Secondly, I will have a look at the stackoverflow developer survey 2020 to understand which tools data analysts and data scientists use most and are planning to learn. \n",
    "Between these two analyses, we should be able to see the differences between Data Analyst and Data Scientist jobs. Also, we should be able to see if the reality of the jobs matches the job descriptions.\n",
    "\n",
    "##### Questions:\n",
    "* How distinctive are these roles from each other and from other roles in the field? \n",
    "    \n",
    "Looking only at the roles of Data Analysts and Data Scientists, 81% of people in the field say they are only one of the two. 19% state they are both. THis looks like people working in these roles seem to distinguish them quite clearly from one another. \n",
    "\n",
    "However, only a small share of Data Analysts and Data Scientists does not also consider themselves as working in another role. Data Analysts declare on average more other roles than Data Scientists. Those who state they are Data Analysts (but not Data Scientists) list on average 5.1 roles, whereas those who state they are Data Scientists (but not Data Analysts) list 3.9 roles.\n",
    "\n",
    "Data Analysts often also work as back-end Developers (57%), full-stack Developers (48%) or Database Administrators (38%). Only in 5th place with 31% comes 'Data Scientist or Machine Learning Specialist'.\n",
    "Data Scientists similarly also work as back-end Developers (47%) and full-stack Developers (37%). In third place comes 'Data or business analyst' with 32%.\n",
    "\n",
    "The biggest differences between Data Analysts and Data Scientists are for the roles Scientist and Academic Researcher (Data Scientist +12%pts) and Database Administrator, front-end Developer and desktop and enterprise applications Developer (Data Analyst +20%pts, +14%pts, +13%pts)\n",
    "\n",
    "The data unfortunately provides no insights into which role respondents consider their \"primary\" role. It is therefore quite possible that many consider themselves as Data Analysts, because data analysis is part of another, *primary* role they fulfil (likely a Developer role). Data Scientist, in comparison, seems to be somewhat more of a \"standalone\" role.\n",
    "\n",
    "What does this mean for aspiring Data Analysts? Will they always have to wear multiple hats and even bring developer skills to the table? Or is the stackoverflow data biased towards developers who also do data analysis and does not actually capture many \"pure\" Data Analysts? Based on my own recent job search, the latter seems more likely. \n",
    "\n",
    "> Data Analysis skills are important in many roles\n",
    "\n",
    "> Data Scientist is a more \"standalone\" role, at least in the Stackoverflow/Developer world\n",
    "\n",
    "* What tools are Data Analysts using versus what tools are Data Scientists using (Stackoverflow)?\n",
    "* What are they each looking to learn (Stackoverflow)?\n",
    "* What skills are required according to job descriptions (Kaggle)?\n",
    "\n",
    "\n",
    "### Other questions\n",
    "* Do people in smaller companies have to take on more different roles?\n",
    "* Do requirements become more similar or more different the more senior a role gets?\n",
    "* Is job satisfaction higher amongst Data Scientists?\n",
    "* Do Data Analysts try to learn tools that are used more by data scientists?\n",
    "* Which other roles do the DSs and DAs usually also fulfill? >> Done, could potentially make a nicer chart\n",
    "\n",
    "### Other information \n",
    "Using the list of tech and tools from stackoverflow survey plus some popular BI tools (list retrieved from....) and adding MS office applications.\n"
   ]
  },
  {
   "cell_type": "code",
   "execution_count": 1,
   "metadata": {},
   "outputs": [],
   "source": [
    "import os\n",
    "import numpy as np\n",
    "import pandas as pd\n",
    "import seaborn as sns\n",
    "import matplotlib.pyplot as plt"
   ]
  },
  {
   "cell_type": "code",
   "execution_count": 2,
   "metadata": {},
   "outputs": [],
   "source": [
    "os.chdir(r\"C:\\Users\\j\\Documents\\udacity-ds-nanodegree\\assignment1\\data\")"
   ]
  },
  {
   "cell_type": "code",
   "execution_count": 3,
   "metadata": {},
   "outputs": [],
   "source": [
    "pd.set_option(\"display.max_columns\", None)"
   ]
  },
  {
   "cell_type": "markdown",
   "metadata": {},
   "source": [
    "# Part 1 - The Kaggle Job Data"
   ]
  },
  {
   "cell_type": "markdown",
   "metadata": {},
   "source": [
    "# Part 2 - The Stackoverflow Data"
   ]
  },
  {
   "cell_type": "markdown",
   "metadata": {},
   "source": [
    "## Reading in data and having a look at it"
   ]
  },
  {
   "cell_type": "code",
   "execution_count": 4,
   "metadata": {},
   "outputs": [],
   "source": [
    "dfs = pd.read_csv(r\"stackoverflow_survey\\survey_results_public.csv\")"
   ]
  },
  {
   "cell_type": "code",
   "execution_count": null,
   "metadata": {},
   "outputs": [],
   "source": [
    "dfs.head(40)"
   ]
  },
  {
   "cell_type": "code",
   "execution_count": null,
   "metadata": {},
   "outputs": [],
   "source": [
    "dfs.shape"
   ]
  },
  {
   "cell_type": "markdown",
   "metadata": {},
   "source": [
    "## Defining functions"
   ]
  },
  {
   "cell_type": "code",
   "execution_count": 205,
   "metadata": {},
   "outputs": [],
   "source": [
    "def subset_creator(df, column_list):\n",
    "    '''\n",
    "    INPUT:\n",
    "    df: full dataframe\n",
    "    column_list: list of columns from which unique string values need to e extracted\n",
    "    \n",
    "    OUTPUT:\n",
    "    super_list2: list that contains each unqiue value from the columns in column_list once\n",
    "    \n",
    "    What the function does:\n",
    "    The functions takes in columns which contain string values, \n",
    "    where each row multiple can contained multiple values separated by a delimiter (e.g. 'dog;cat;rabbit').\n",
    "    The function extracts all unique strings values from all columns from column_list and returns them in super_list2.\n",
    "    Each value is only contained once in super_list2.\n",
    "    '''\n",
    "    df = df.fillna('No information')\n",
    "    super_list=[]\n",
    "    for i in column_list:\n",
    "        nested_list = list(df[i].str.split(';'))\n",
    "        flat_list = [item for sublist in nested_list for item in sublist]\n",
    "        all_set = set(flat_list)\n",
    "        all_list = list(all_set)\n",
    "        super_list.append(all_list)\n",
    "    super_list = [item for sublist in super_list for item in sublist]\n",
    "    super_list_all_set = set(super_list)\n",
    "    super_list_all_list = list(super_list_all_set)\n",
    "    super_list2 = [i for i in super_list_all_list if i != 'No information']\n",
    "    return super_list2"
   ]
  },
  {
   "cell_type": "markdown",
   "metadata": {},
   "source": [
    "## Filtering"
   ]
  },
  {
   "cell_type": "code",
   "execution_count": null,
   "metadata": {},
   "outputs": [],
   "source": [
    "#Sensible filters:\n",
    "# MainBranch: developers by profession; code sometimes as part of their work\n",
    "# Employment: employed full-time; employed part-time; independent contractor, freelancer or self-employed\n",
    "# DevType: Not NA\n",
    "# Working as (DevType): Data or business analyst; Data scientist or machine learning specialist\n",
    "\n",
    "'''\n",
    "dfs.groupby(\"MainBranch\").count()['Respondent']\n",
    "dfs.groupby(\"Employment\").count()['Respondent']\n",
    "dfs.groupby(\"DevType\").count()['Respondent']\n",
    "'''"
   ]
  },
  {
   "cell_type": "code",
   "execution_count": 5,
   "metadata": {},
   "outputs": [],
   "source": [
    "# Filerting on MainBranch\n",
    "dfs=dfs.loc[(dfs['MainBranch']==\"I am a developer by profession\")|(dfs['MainBranch']==\"I am not primarily a developer, but I write code sometimes as part of my work\")]"
   ]
  },
  {
   "cell_type": "code",
   "execution_count": 6,
   "metadata": {},
   "outputs": [],
   "source": [
    "# Filtering on Employment status\n",
    "dfs=dfs.loc[(dfs['Employment']==\"Employed full-time\")|(dfs['Employment']==\"Employed part-time\")|(dfs['Employment']==\"Independent contractor, freelancer, or self-employed\")]"
   ]
  },
  {
   "cell_type": "code",
   "execution_count": 7,
   "metadata": {
    "scrolled": true
   },
   "outputs": [],
   "source": [
    "# Filerting on DevType = NaN\n",
    "dfs=dfs.dropna(subset=['DevType'])"
   ]
  },
  {
   "cell_type": "code",
   "execution_count": 8,
   "metadata": {},
   "outputs": [],
   "source": [
    "# Need to create columns for two professions I am interested in\n",
    "# https://stackoverflow.com/questions/18889588/create-dummies-from-column-with-multiple-values-in-pandas\n",
    "dfs_d1 = dfs['DevType'].str.get_dummies(sep=';')"
   ]
  },
  {
   "cell_type": "code",
   "execution_count": 9,
   "metadata": {},
   "outputs": [],
   "source": [
    "# Merging the dummy dataframe onto the original dataframe\n",
    "dfs = pd.merge(dfs, dfs_d1, left_index=True, right_index=True)"
   ]
  },
  {
   "cell_type": "code",
   "execution_count": 10,
   "metadata": {},
   "outputs": [],
   "source": [
    "# Filtering on respondents that work as Data Scientist or Data Analyst\n",
    "dfs = dfs.loc[(dfs['Data or business analyst']==1)|(dfs['Data scientist or machine learning specialist']==1)]"
   ]
  },
  {
   "cell_type": "code",
   "execution_count": null,
   "metadata": {},
   "outputs": [],
   "source": [
    "dfs.shape"
   ]
  },
  {
   "cell_type": "markdown",
   "metadata": {},
   "source": [
    "## Distinctiveness of the roles\n",
    "### How distinctive are these roles from each other?"
   ]
  },
  {
   "cell_type": "code",
   "execution_count": null,
   "metadata": {},
   "outputs": [],
   "source": [
    "# How many people are Data Analysts, how many Data Scientists and how many are both?\n",
    "dfs['Data or business analyst'].mean()"
   ]
  },
  {
   "cell_type": "code",
   "execution_count": null,
   "metadata": {},
   "outputs": [],
   "source": [
    "dfs['Data scientist or machine learning specialist'].mean()"
   ]
  },
  {
   "cell_type": "code",
   "execution_count": 11,
   "metadata": {},
   "outputs": [
    {
     "data": {
      "text/plain": [
       "0.18716397849462366"
      ]
     },
     "execution_count": 11,
     "metadata": {},
     "output_type": "execute_result"
    }
   ],
   "source": [
    "dfs['DA and DS']=0\n",
    "dfs.loc[(dfs['Data or business analyst']==1) & (dfs['Data scientist or machine learning specialist']==1),'DA and DS']=1\n",
    "dfs['DA and DS'].mean()"
   ]
  },
  {
   "cell_type": "code",
   "execution_count": 12,
   "metadata": {},
   "outputs": [],
   "source": [
    "# Creating a variable to identify DAs, DSs and those who are both DA and DS\n",
    "dfs['DevType_RoleDescription']=np.nan\n",
    "dfs.loc[dfs['DA and DS']==1,'DevType_RoleDescription']='DA and DS'\n",
    "dfs.loc[(dfs['DA and DS']==0) & (dfs['Data scientist or machine learning specialist']==1),'DevType_RoleDescription']='DS only'\n",
    "dfs.loc[(dfs['DA and DS']==0) & (dfs['Data or business analyst']==1),'DevType_RoleDescription']='DA only'"
   ]
  },
  {
   "cell_type": "code",
   "execution_count": null,
   "metadata": {},
   "outputs": [],
   "source": [
    "# Get base size for each of the three groups\n",
    "dfs.groupby(\"DevType_RoleDescription\").count()['Respondent']"
   ]
  },
  {
   "cell_type": "markdown",
   "metadata": {},
   "source": [
    "### How distinctive are they from other roles in the field?"
   ]
  },
  {
   "cell_type": "code",
   "execution_count": 200,
   "metadata": {},
   "outputs": [],
   "source": [
    "# Preparation: Retrieving all DevTypes (only works for list with nesting level 2)\n",
    "'''\n",
    "nested_devtypes=list(dfs['DevType'].str.split(';'))\n",
    "flat_list = [item for sublist in nested_devtypes for item in sublist]\n",
    "all_devtypes = set(flat_list)\n",
    "all_devtypes = list(all_devtypes)\n",
    "'''\n",
    "# Now using my new function\n",
    "\n",
    "all_devtypes = subset_creator(dfs, ['DevType'])"
   ]
  },
  {
   "cell_type": "markdown",
   "metadata": {},
   "source": [
    "##### How many respondents claim to ONLY be a Data Analyst or a Data Scientist?"
   ]
  },
  {
   "cell_type": "code",
   "execution_count": 14,
   "metadata": {},
   "outputs": [],
   "source": [
    "# Create column that shows number of roles chosen\n",
    "dfs['NumberOfRoles']=dfs[all_devtypes].sum(axis=1)"
   ]
  },
  {
   "cell_type": "code",
   "execution_count": null,
   "metadata": {
    "scrolled": true
   },
   "outputs": [],
   "source": [
    "pd.crosstab(dfs['NumberOfRoles'],dfs['DevType_RoleDescription'])"
   ]
  },
  {
   "cell_type": "markdown",
   "metadata": {},
   "source": [
    "##### How many roles do respondents say they fill on average?"
   ]
  },
  {
   "cell_type": "code",
   "execution_count": 84,
   "metadata": {
    "scrolled": false
   },
   "outputs": [
    {
     "data": {
      "text/plain": [
       "DevType_RoleDescription\n",
       "DA and DS    6.427289\n",
       "DA only      5.118035\n",
       "DS only      3.892754\n",
       "Name: NumberOfRoles, dtype: float64"
      ]
     },
     "execution_count": 84,
     "metadata": {},
     "output_type": "execute_result"
    }
   ],
   "source": [
    "dfs.groupby('DevType_RoleDescription')['NumberOfRoles'].mean()\n"
   ]
  },
  {
   "cell_type": "markdown",
   "metadata": {},
   "source": [
    "##### What else do they claim to be?"
   ]
  },
  {
   "cell_type": "code",
   "execution_count": null,
   "metadata": {},
   "outputs": [],
   "source": [
    "# https://tm4ss.github.io/docs/Tutorial_5_Co-occurrence.html"
   ]
  },
  {
   "cell_type": "code",
   "execution_count": null,
   "metadata": {
    "scrolled": true
   },
   "outputs": [],
   "source": [
    "# Creating a co-occurence table\n",
    "dfs_cooc = dfs.groupby('DevType_RoleDescription')[all_devtypes].sum().transpose()"
   ]
  },
  {
   "cell_type": "code",
   "execution_count": null,
   "metadata": {},
   "outputs": [],
   "source": [
    "# !!!!! IMPROVE THIS TO ADHERE TO DRY PRINCIPLES !!!! Adding % columns into the co-occurence table\n",
    "dfs_cooc['DA_share']=dfs_cooc['DA']/dfs.loc[dfs['DevType_RoleDescription']=='DA'].count()\n",
    "dfs_cooc['DA and DS_share']=dfs_cooc['DA and DS']/dfs.loc[dfs['DevType_RoleDescription']=='DA and DS'].count()\n",
    "dfs_cooc['DS_share']=dfs_cooc['DS']/dfs.loc[dfs['DevType_RoleDescription']=='DS'].count()"
   ]
  },
  {
   "cell_type": "code",
   "execution_count": null,
   "metadata": {
    "scrolled": true
   },
   "outputs": [],
   "source": [
    "# Plotting the table using a heatmap\n",
    "plt.figure(figsize=(10,10))\n",
    "ax=sns.heatmap(dfs_cooc[['DA_share','DS_share','DA and DS_share']].sort_values(by=['DA_share']), annot=True, fmt='.2f')\n",
    "ax.set_ylim(0,23);"
   ]
  },
  {
   "cell_type": "code",
   "execution_count": 64,
   "metadata": {},
   "outputs": [],
   "source": [
    "def grouping(df, all_devtypes, column):\n",
    "    '''\n",
    "    INPUT:\n",
    "    df: dataframe with all data\n",
    "    all_devtypes: list of all different Developer roles\n",
    "    column: binary coded column\n",
    "    \n",
    "    OUTPUT:\n",
    "    df_cooc: grouped by df that is transposed and contains column % based on total\n",
    "    \n",
    "    What this function does:\n",
    "    1. Save the base size n for DevType of interest\n",
    "    2. Create new df by running groupby, immediately followed by transposing and dividing counts by n\n",
    "    3. Tidying up the new df\n",
    "    '''\n",
    "    n = df[column].sum()\n",
    "    df_cooc = df.groupby([column])[all_devtypes].sum().transpose()/n\n",
    "    df_cooc = df_cooc.reset_index()\n",
    "    df_cooc = df_cooc.drop(columns=[0], axis=1)\n",
    "    df_cooc = df_cooc.rename(columns={\"index\":\"DevType\", 1:column})\n",
    "    return df_cooc"
   ]
  },
  {
   "cell_type": "code",
   "execution_count": 75,
   "metadata": {},
   "outputs": [],
   "source": [
    "dfs_cooc2_da = grouping(dfs, all_devtypes, 'Data or business analyst')\n",
    "dfs_cooc2_ds = grouping(dfs, all_devtypes, 'Data scientist or machine learning specialist')\n",
    "dfs_cooc2 = pd.merge(dfs_cooc2_da, \n",
    "        dfs_cooc2_ds,\n",
    "        left_on = 'DevType',\n",
    "        right_on = 'DevType')\n",
    "dfs_cooc2 = dfs_cooc2.set_index('DevType')"
   ]
  },
  {
   "cell_type": "code",
   "execution_count": 76,
   "metadata": {
    "collapsed": true
   },
   "outputs": [
    {
     "data": {
      "text/html": [
       "<div>\n",
       "<style scoped>\n",
       "    .dataframe tbody tr th:only-of-type {\n",
       "        vertical-align: middle;\n",
       "    }\n",
       "\n",
       "    .dataframe tbody tr th {\n",
       "        vertical-align: top;\n",
       "    }\n",
       "\n",
       "    .dataframe thead th {\n",
       "        text-align: right;\n",
       "    }\n",
       "</style>\n",
       "<table border=\"1\" class=\"dataframe\">\n",
       "  <thead>\n",
       "    <tr style=\"text-align: right;\">\n",
       "      <th></th>\n",
       "      <th>Data or business analyst</th>\n",
       "      <th>Data scientist or machine learning specialist</th>\n",
       "    </tr>\n",
       "    <tr>\n",
       "      <th>DevType</th>\n",
       "      <th></th>\n",
       "      <th></th>\n",
       "    </tr>\n",
       "  </thead>\n",
       "  <tbody>\n",
       "    <tr>\n",
       "      <th>Engineer, data</th>\n",
       "      <td>0.277071</td>\n",
       "      <td>0.297818</td>\n",
       "    </tr>\n",
       "    <tr>\n",
       "      <th>Developer, back-end</th>\n",
       "      <td>0.569692</td>\n",
       "      <td>0.471805</td>\n",
       "    </tr>\n",
       "    <tr>\n",
       "      <th>Senior executive/VP</th>\n",
       "      <td>0.065875</td>\n",
       "      <td>0.050156</td>\n",
       "    </tr>\n",
       "    <tr>\n",
       "      <th>DevOps specialist</th>\n",
       "      <td>0.166525</td>\n",
       "      <td>0.142817</td>\n",
       "    </tr>\n",
       "    <tr>\n",
       "      <th>Educator</th>\n",
       "      <td>0.108284</td>\n",
       "      <td>0.113630</td>\n",
       "    </tr>\n",
       "    <tr>\n",
       "      <th>Product manager</th>\n",
       "      <td>0.139949</td>\n",
       "      <td>0.075659</td>\n",
       "    </tr>\n",
       "    <tr>\n",
       "      <th>Developer, embedded applications or devices</th>\n",
       "      <td>0.113090</td>\n",
       "      <td>0.122698</td>\n",
       "    </tr>\n",
       "    <tr>\n",
       "      <th>Developer, game or graphics</th>\n",
       "      <td>0.057959</td>\n",
       "      <td>0.067158</td>\n",
       "    </tr>\n",
       "    <tr>\n",
       "      <th>Data scientist or machine learning specialist</th>\n",
       "      <td>0.314956</td>\n",
       "      <td>1.000000</td>\n",
       "    </tr>\n",
       "    <tr>\n",
       "      <th>Developer, full-stack</th>\n",
       "      <td>0.477241</td>\n",
       "      <td>0.370077</td>\n",
       "    </tr>\n",
       "    <tr>\n",
       "      <th>System administrator</th>\n",
       "      <td>0.219960</td>\n",
       "      <td>0.124398</td>\n",
       "    </tr>\n",
       "    <tr>\n",
       "      <th>Data or business analyst</th>\n",
       "      <td>1.000000</td>\n",
       "      <td>0.315670</td>\n",
       "    </tr>\n",
       "    <tr>\n",
       "      <th>Developer, desktop or enterprise applications</th>\n",
       "      <td>0.316935</td>\n",
       "      <td>0.188155</td>\n",
       "    </tr>\n",
       "    <tr>\n",
       "      <th>Engineering manager</th>\n",
       "      <td>0.091320</td>\n",
       "      <td>0.076226</td>\n",
       "    </tr>\n",
       "    <tr>\n",
       "      <th>Designer</th>\n",
       "      <td>0.207803</td>\n",
       "      <td>0.099462</td>\n",
       "    </tr>\n",
       "    <tr>\n",
       "      <th>Scientist</th>\n",
       "      <td>0.097823</td>\n",
       "      <td>0.222159</td>\n",
       "    </tr>\n",
       "    <tr>\n",
       "      <th>Developer, front-end</th>\n",
       "      <td>0.353124</td>\n",
       "      <td>0.213942</td>\n",
       "    </tr>\n",
       "    <tr>\n",
       "      <th>Developer, mobile</th>\n",
       "      <td>0.164829</td>\n",
       "      <td>0.130349</td>\n",
       "    </tr>\n",
       "    <tr>\n",
       "      <th>Developer, QA or test</th>\n",
       "      <td>0.142776</td>\n",
       "      <td>0.077359</td>\n",
       "    </tr>\n",
       "    <tr>\n",
       "      <th>Engineer, site reliability</th>\n",
       "      <td>0.065592</td>\n",
       "      <td>0.053556</td>\n",
       "    </tr>\n",
       "    <tr>\n",
       "      <th>Database administrator</th>\n",
       "      <td>0.377721</td>\n",
       "      <td>0.180788</td>\n",
       "    </tr>\n",
       "    <tr>\n",
       "      <th>Academic researcher</th>\n",
       "      <td>0.153237</td>\n",
       "      <td>0.275432</td>\n",
       "    </tr>\n",
       "    <tr>\n",
       "      <th>Marketing or sales professional</th>\n",
       "      <td>0.048629</td>\n",
       "      <td>0.023519</td>\n",
       "    </tr>\n",
       "  </tbody>\n",
       "</table>\n",
       "</div>"
      ],
      "text/plain": [
       "                                               Data or business analyst  \\\n",
       "DevType                                                                   \n",
       "Engineer, data                                                 0.277071   \n",
       "Developer, back-end                                            0.569692   \n",
       "Senior executive/VP                                            0.065875   \n",
       "DevOps specialist                                              0.166525   \n",
       "Educator                                                       0.108284   \n",
       "Product manager                                                0.139949   \n",
       "Developer, embedded applications or devices                    0.113090   \n",
       "Developer, game or graphics                                    0.057959   \n",
       "Data scientist or machine learning specialist                  0.314956   \n",
       "Developer, full-stack                                          0.477241   \n",
       "System administrator                                           0.219960   \n",
       "Data or business analyst                                       1.000000   \n",
       "Developer, desktop or enterprise applications                  0.316935   \n",
       "Engineering manager                                            0.091320   \n",
       "Designer                                                       0.207803   \n",
       "Scientist                                                      0.097823   \n",
       "Developer, front-end                                           0.353124   \n",
       "Developer, mobile                                              0.164829   \n",
       "Developer, QA or test                                          0.142776   \n",
       "Engineer, site reliability                                     0.065592   \n",
       "Database administrator                                         0.377721   \n",
       "Academic researcher                                            0.153237   \n",
       "Marketing or sales professional                                0.048629   \n",
       "\n",
       "                                               Data scientist or machine learning specialist  \n",
       "DevType                                                                                       \n",
       "Engineer, data                                                                      0.297818  \n",
       "Developer, back-end                                                                 0.471805  \n",
       "Senior executive/VP                                                                 0.050156  \n",
       "DevOps specialist                                                                   0.142817  \n",
       "Educator                                                                            0.113630  \n",
       "Product manager                                                                     0.075659  \n",
       "Developer, embedded applications or devices                                         0.122698  \n",
       "Developer, game or graphics                                                         0.067158  \n",
       "Data scientist or machine learning specialist                                       1.000000  \n",
       "Developer, full-stack                                                               0.370077  \n",
       "System administrator                                                                0.124398  \n",
       "Data or business analyst                                                            0.315670  \n",
       "Developer, desktop or enterprise applications                                       0.188155  \n",
       "Engineering manager                                                                 0.076226  \n",
       "Designer                                                                            0.099462  \n",
       "Scientist                                                                           0.222159  \n",
       "Developer, front-end                                                                0.213942  \n",
       "Developer, mobile                                                                   0.130349  \n",
       "Developer, QA or test                                                               0.077359  \n",
       "Engineer, site reliability                                                          0.053556  \n",
       "Database administrator                                                              0.180788  \n",
       "Academic researcher                                                                 0.275432  \n",
       "Marketing or sales professional                                                     0.023519  "
      ]
     },
     "execution_count": 76,
     "metadata": {},
     "output_type": "execute_result"
    }
   ],
   "source": [
    "dfs_cooc2"
   ]
  },
  {
   "cell_type": "code",
   "execution_count": 85,
   "metadata": {},
   "outputs": [],
   "source": [
    "dfs_cooc2['Difference'] = dfs_cooc2['Data scientist or machine learning specialist'] - dfs_cooc2['Data or business analyst']"
   ]
  },
  {
   "cell_type": "code",
   "execution_count": 131,
   "metadata": {
    "collapsed": true
   },
   "outputs": [
    {
     "data": {
      "image/png": "[encoded data removed]",
      "text/plain": [
       "<Figure size 720x720 with 2 Axes>"
      ]
     },
     "metadata": {
      "needs_background": "light"
     },
     "output_type": "display_data"
    }
   ],
   "source": [
    "# Plotting the table using a heatmap\n",
    "plt.figure(figsize=(10,10))\n",
    "ax=sns.heatmap(dfs_cooc2.sort_values(by=['Difference']), annot=True, fmt='.2f')\n",
    "ax.set_ylim(0,23);"
   ]
  },
  {
   "cell_type": "code",
   "execution_count": 132,
   "metadata": {
    "collapsed": true
   },
   "outputs": [
    {
     "data": {
      "text/plain": [
       "<AxesSubplot:ylabel='DevType'>"
      ]
     },
     "execution_count": 132,
     "metadata": {},
     "output_type": "execute_result"
    },
    {
     "data": {
      "image/png": "[encoded data removed]",
      "text/plain": [
       "<Figure size 720x720 with 1 Axes>"
      ]
     },
     "metadata": {
      "needs_background": "light"
     },
     "output_type": "display_data"
    }
   ],
   "source": [
    "plt.rcParams[\"figure.figsize\"] = [10, 10]\n",
    "dfs_cooc2[['Data or business analyst','Data scientist or machine learning specialist']].sort_values(by=['Data or business analyst']).plot.barh()"
   ]
  },
  {
   "cell_type": "markdown",
   "metadata": {},
   "source": [
    "## Do tools used by Data Analysts versus Data Scientists differ?"
   ]
  },
  {
   "cell_type": "code",
   "execution_count": 143,
   "metadata": {},
   "outputs": [],
   "source": [
    "'''\n",
    "I have a porblem here, because Microsoft Azure was in the survey TWICE. So Pandas labels them _x and _y. I need to \n",
    "prevent this duplication\n",
    "\n",
    "THis function creates dummy variables for my various categorical columns. \n",
    "It is also used further up in the code already for the DevType variable. \n",
    "Once it is de-bugged, move it up to your functions'''\n",
    "def dummies(df, column_list):\n",
    "    for i in column_list:\n",
    "        df_interim = df[i].str.get_dummies(sep=';')\n",
    "        df = pd.merge(df, df_interim, left_index=True, right_index=True)\n",
    "    ''' \n",
    "    At this stage I should somehow remove the duplicated columns\n",
    "    '''\n",
    "    return df  "
   ]
  },
  {
   "cell_type": "code",
   "execution_count": 175,
   "metadata": {},
   "outputs": [],
   "source": [
    "# Listing all columns that refer to tech and tools variables\n",
    "column_list = ['MiscTechWorkedWith',\n",
    "               'LanguageWorkedWith',\n",
    "               'NEWCollabToolsWorkedWith',\n",
    "               'DatabaseWorkedWith',\n",
    "               'PlatformWorkedWith',\n",
    "               'WebframeWorkedWith']"
   ]
  },
  {
   "cell_type": "code",
   "execution_count": 145,
   "metadata": {},
   "outputs": [],
   "source": [
    "# Need to create columns for all tools\n",
    "# https://stackoverflow.com/questions/18889588/create-dummies-from-column-with-multiple-values-in-pandas\n",
    "dfs_tools = dummies(dfs, column_list)"
   ]
  },
  {
   "cell_type": "code",
   "execution_count": 206,
   "metadata": {
    "scrolled": true
   },
   "outputs": [],
   "source": [
    "all_tools = subset_creator(dfs_tools, column_list)"
   ]
  },
  {
   "cell_type": "code",
   "execution_count": 202,
   "metadata": {
    "collapsed": true
   },
   "outputs": [
    {
     "ename": "KeyError",
     "evalue": "\"Columns not found: 'Microsoft Azure'\"",
     "output_type": "error",
     "traceback": [
      "\u001b[1;31m---------------------------------------------------------------------------\u001b[0m",
      "\u001b[1;31mKeyError\u001b[0m                                  Traceback (most recent call last)",
      "\u001b[1;32m<ipython-input-202-0826ecc8a422>\u001b[0m in \u001b[0;36m<module>\u001b[1;34m\u001b[0m\n\u001b[1;32m----> 1\u001b[1;33m \u001b[0mdfs_tools\u001b[0m\u001b[1;33m.\u001b[0m\u001b[0mgroupby\u001b[0m\u001b[1;33m(\u001b[0m\u001b[1;34m'DevType_RoleDescription'\u001b[0m\u001b[1;33m)\u001b[0m\u001b[1;33m[\u001b[0m\u001b[0mall_tools\u001b[0m\u001b[1;33m]\u001b[0m\u001b[1;33m.\u001b[0m\u001b[0msum\u001b[0m\u001b[1;33m(\u001b[0m\u001b[1;33m)\u001b[0m\u001b[1;33m.\u001b[0m\u001b[0mtranspose\u001b[0m\u001b[1;33m(\u001b[0m\u001b[1;33m)\u001b[0m\u001b[1;33m\u001b[0m\u001b[1;33m\u001b[0m\u001b[0m\n\u001b[0m",
      "\u001b[1;32m~\\Python\\lib\\site-packages\\pandas\\core\\groupby\\generic.py\u001b[0m in \u001b[0;36m__getitem__\u001b[1;34m(self, key)\u001b[0m\n\u001b[0;32m   1540\u001b[0m                 \u001b[0mstacklevel\u001b[0m\u001b[1;33m=\u001b[0m\u001b[1;36m2\u001b[0m\u001b[1;33m,\u001b[0m\u001b[1;33m\u001b[0m\u001b[1;33m\u001b[0m\u001b[0m\n\u001b[0;32m   1541\u001b[0m             )\n\u001b[1;32m-> 1542\u001b[1;33m         \u001b[1;32mreturn\u001b[0m \u001b[0msuper\u001b[0m\u001b[1;33m(\u001b[0m\u001b[1;33m)\u001b[0m\u001b[1;33m.\u001b[0m\u001b[0m__getitem__\u001b[0m\u001b[1;33m(\u001b[0m\u001b[0mkey\u001b[0m\u001b[1;33m)\u001b[0m\u001b[1;33m\u001b[0m\u001b[1;33m\u001b[0m\u001b[0m\n\u001b[0m\u001b[0;32m   1543\u001b[0m \u001b[1;33m\u001b[0m\u001b[0m\n\u001b[0;32m   1544\u001b[0m     \u001b[1;32mdef\u001b[0m \u001b[0m_gotitem\u001b[0m\u001b[1;33m(\u001b[0m\u001b[0mself\u001b[0m\u001b[1;33m,\u001b[0m \u001b[0mkey\u001b[0m\u001b[1;33m,\u001b[0m \u001b[0mndim\u001b[0m\u001b[1;33m:\u001b[0m \u001b[0mint\u001b[0m\u001b[1;33m,\u001b[0m \u001b[0msubset\u001b[0m\u001b[1;33m=\u001b[0m\u001b[1;32mNone\u001b[0m\u001b[1;33m)\u001b[0m\u001b[1;33m:\u001b[0m\u001b[1;33m\u001b[0m\u001b[1;33m\u001b[0m\u001b[0m\n",
      "\u001b[1;32m~\\Python\\lib\\site-packages\\pandas\\core\\base.py\u001b[0m in \u001b[0;36m__getitem__\u001b[1;34m(self, key)\u001b[0m\n\u001b[0;32m    266\u001b[0m                     \u001b[0mset\u001b[0m\u001b[1;33m(\u001b[0m\u001b[0mkey\u001b[0m\u001b[1;33m)\u001b[0m\u001b[1;33m.\u001b[0m\u001b[0mdifference\u001b[0m\u001b[1;33m(\u001b[0m\u001b[0mself\u001b[0m\u001b[1;33m.\u001b[0m\u001b[0mobj\u001b[0m\u001b[1;33m.\u001b[0m\u001b[0mcolumns\u001b[0m\u001b[1;33m)\u001b[0m  \u001b[1;31m# type: ignore[attr-defined]\u001b[0m\u001b[1;33m\u001b[0m\u001b[1;33m\u001b[0m\u001b[0m\n\u001b[0;32m    267\u001b[0m                 )\n\u001b[1;32m--> 268\u001b[1;33m                 \u001b[1;32mraise\u001b[0m \u001b[0mKeyError\u001b[0m\u001b[1;33m(\u001b[0m\u001b[1;34mf\"Columns not found: {str(bad_keys)[1:-1]}\"\u001b[0m\u001b[1;33m)\u001b[0m\u001b[1;33m\u001b[0m\u001b[1;33m\u001b[0m\u001b[0m\n\u001b[0m\u001b[0;32m    269\u001b[0m             \u001b[1;32mreturn\u001b[0m \u001b[0mself\u001b[0m\u001b[1;33m.\u001b[0m\u001b[0m_gotitem\u001b[0m\u001b[1;33m(\u001b[0m\u001b[0mlist\u001b[0m\u001b[1;33m(\u001b[0m\u001b[0mkey\u001b[0m\u001b[1;33m)\u001b[0m\u001b[1;33m,\u001b[0m \u001b[0mndim\u001b[0m\u001b[1;33m=\u001b[0m\u001b[1;36m2\u001b[0m\u001b[1;33m)\u001b[0m\u001b[1;33m\u001b[0m\u001b[1;33m\u001b[0m\u001b[0m\n\u001b[0;32m    270\u001b[0m \u001b[1;33m\u001b[0m\u001b[0m\n",
      "\u001b[1;31mKeyError\u001b[0m: \"Columns not found: 'Microsoft Azure'\""
     ]
    }
   ],
   "source": [
    "# CURRENTLY NOT WORKING, because the function doesn't consider duplicated rows\n",
    "dfs_tools.groupby('DevType_RoleDescription')[all_tools].sum().transpose()"
   ]
  }
 ],
 "metadata": {
  "kernelspec": {
   "display_name": "Python 3",
   "language": "python",
   "name": "python3"
  },
  "language_info": {
   "codemirror_mode": {
    "name": "ipython",
    "version": 3
   },
   "file_extension": ".py",
   "mimetype": "text/x-python",
   "name": "python",
   "nbconvert_exporter": "python",
   "pygments_lexer": "ipython3",
   "version": "3.7.10"
  }
 },
 "nbformat": 4,
 "nbformat_minor": 2
}
