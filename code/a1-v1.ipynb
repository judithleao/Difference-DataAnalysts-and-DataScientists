{
 "cells": [
  {
   "cell_type": "markdown",
   "metadata": {},
   "source": [
    "Link to kaggle dataset: https://www.kaggle.com/andrewmvd/data-scientist-jobs from user Larxel. Downloaded on 30/06 at roughly 9:15am.\n",
    "\n",
    "Link to Stackoverflow dataset: https://insights.stackoverflow.com/survey - downloaded 2020 survey results.\n",
    "\n",
    "\n",
    "### Idea\n",
    "Compare Data Scientist and Data Analyst role profiles by required skills\n",
    "\n",
    "### Reasoning\n",
    "For people at the beginning of their career in data, it can be difficult to understand the difference between data scientist and data analyst roles. What is the day to day like? How much coding will I be doing? Having recently applied for jobs again myself, I find that the definition varies a lot between companies. Some, one might even argue, advertise using the \"data scientist\" title because it sounds more \"sexy\". So what is the difference? How clear-cut is it? And what skills are needed to land a job?\n",
    "\n",
    "A lot of what you do in a job day to day is defined by the technology you work with. The technology is also an indicator for how much code you will actually be writing and how \"technical\" a role is. I am therefore looking at the technology that's being used by data analysts versus data scientists to understand where the differences lie. I will be looking at two data sources: First, I will look at job descriptions to understand what skills are crucial to put on your CV to score a job in either field and how this differs. Secondly, I will have a look at the stackoverflow developer survey 2020 to understand which tools data analysts and data scientists use most and are planning to learn. \n",
    "Between these two analyses, we should be able to see the differences between Data Analyst and Data Scientist jobs. Also, we should be able to see if the reality of the jobs matches the job descriptions.\n",
    "\n",
    "##### Questions:\n",
    "* How distinctive are these roles from each other and from other roles in the field? \n",
    "    \n",
    "Looking only at the roles of Data Analysts and Data Scientists, 81% of people in the field say they are only one of the two. 19% state they are both. THis looks like people working in these roles seem to distinguish them quite clearly from one another. \n",
    "\n",
    "However, only a small share of Data Analysts and Data Scientists does not also consider themselves as working in another role. Data Analysts declare on average more other roles than Data Scientists. Those who state they are Data Analysts (but not Data Scientists) list on average 5.1 roles, whereas those who state they are Data Scientists (but not Data Analysts) list 3.9 roles.\n",
    "\n",
    "Data Analysts often also work as back-end Developers (57%), full-stack Developers (48%) or Database Administrators (38%). Only in 5th place with 31% comes 'Data Scientist or Machine Learning Specialist'.\n",
    "Data Scientists similarly also work as back-end Developers (47%) and full-stack Developers (37%). In third place comes 'Data or business analyst' with 32%.\n",
    "\n",
    "The biggest differences between Data Analysts and Data Scientists are for the roles Scientist and Academic Researcher (Data Scientist +12%pts) and Database Administrator, front-end Developer and desktop and enterprise applications Developer (Data Analyst +20%pts, +14%pts, +13%pts)\n",
    "\n",
    "The data unfortunately provides no insights into which role respondents consider their \"primary\" role. It is therefore quite possible that many consider themselves as Data Analysts, because data analysis is part of another, *primary* role they fulfil (likely a Developer role). Data Scientist, in comparison, seems to be somewhat more of a \"standalone\" role.\n",
    "\n",
    "What does this mean for aspiring Data Analysts? Will they always have to wear multiple hats and even bring developer skills to the table? Or is the stackoverflow data biased towards developers who also do data analysis and does not actually capture many \"pure\" Data Analysts? Based on my own recent job search, the latter seems more likely. \n",
    "\n",
    "> Data Analysis skills are important in many roles\n",
    "\n",
    "> Data Scientist is a more \"standalone\" role, at least in the Stackoverflow/Developer world\n",
    "\n",
    "* What tools are Data Analysts using versus what tools are Data Scientists using (Stackoverflow)?\n",
    "* What are they each looking to learn (Stackoverflow)?\n",
    "* What skills are required according to job descriptions (Kaggle)?\n",
    "\n",
    "\n",
    "### Other questions\n",
    "* Do people in smaller companies have to take on more different roles?\n",
    "* Do requirements become more similar or more different the more senior a role gets?\n",
    "* Is job satisfaction higher amongst Data Scientists?\n",
    "* Do Data Analysts try to learn tools that are used more by data scientists?\n",
    "* Which other roles do the DSs and DAs usually also fulfill? >> Done, could potentially make a nicer chart\n",
    "\n",
    "### Other information \n",
    "Using the list of tech and tools from stackoverflow survey plus some popular BI tools (list retrieved from....) and adding MS office applications.\n"
   ]
  },
  {
   "cell_type": "code",
   "execution_count": 1,
   "metadata": {},
   "outputs": [],
   "source": [
    "import os\n",
    "import numpy as np\n",
    "import pandas as pd\n",
    "import seaborn as sns\n",
    "import matplotlib.pyplot as plt"
   ]
  },
  {
   "cell_type": "code",
   "execution_count": 2,
   "metadata": {},
   "outputs": [],
   "source": [
    "os.chdir(r\"C:\\Users\\j\\Documents\\udacity-ds-nanodegree\\assignment1\\data\")"
   ]
  },
  {
   "cell_type": "code",
   "execution_count": 3,
   "metadata": {},
   "outputs": [],
   "source": [
    "pd.set_option(\"display.max_columns\", None)"
   ]
  },
  {
   "cell_type": "markdown",
   "metadata": {},
   "source": [
    "# Part 1 - The Kaggle Job Data"
   ]
  },
  {
   "cell_type": "markdown",
   "metadata": {},
   "source": [
    "# Part 2 - The Stackoverflow Data"
   ]
  },
  {
   "cell_type": "markdown",
   "metadata": {},
   "source": [
    "## Reading in data and having a look at it"
   ]
  },
  {
   "cell_type": "code",
   "execution_count": 4,
   "metadata": {},
   "outputs": [],
   "source": [
    "dfs = pd.read_csv(r\"stackoverflow_survey\\survey_results_public.csv\")"
   ]
  },
  {
   "cell_type": "code",
   "execution_count": null,
   "metadata": {},
   "outputs": [],
   "source": [
    "dfs.head(40)"
   ]
  },
  {
   "cell_type": "code",
   "execution_count": null,
   "metadata": {},
   "outputs": [],
   "source": [
    "dfs.shape"
   ]
  },
  {
   "cell_type": "markdown",
   "metadata": {},
   "source": [
    "## Defining functions"
   ]
  },
  {
   "cell_type": "code",
   "execution_count": 5,
   "metadata": {},
   "outputs": [],
   "source": [
    "def subset_creator(df, column_list):\n",
    "    '''\n",
    "    INPUT:\n",
    "    df: full dataframe\n",
    "    column_list: list of columns from which unique string values need to e extracted\n",
    "    \n",
    "    OUTPUT:\n",
    "    super_list2: list that contains each unqiue value from the columns in column_list once\n",
    "    \n",
    "    What the function does:\n",
    "    The functions takes in columns which contain string values, \n",
    "    where each row multiple can contained multiple values separated by a delimiter (e.g. 'dog;cat;rabbit').\n",
    "    The function extracts all unique strings values from all columns from column_list and returns them in super_list2.\n",
    "    Each value is only contained once in super_list2.\n",
    "    '''\n",
    "    df = df.fillna('No information')\n",
    "    super_list=[]\n",
    "    for i in column_list:\n",
    "        nested_list = list(df[i].str.split(';'))\n",
    "        flat_list = [item for sublist in nested_list for item in sublist]\n",
    "        all_set = set(flat_list)\n",
    "        all_list = list(all_set)\n",
    "        super_list.append(all_list)\n",
    "    super_list = [item for sublist in super_list for item in sublist]\n",
    "    super_list_all_set = set(super_list)\n",
    "    super_list_all_list = list(super_list_all_set)\n",
    "    super_list2 = [i for i in super_list_all_list if i != 'No information']\n",
    "    return super_list2"
   ]
  },
  {
   "cell_type": "code",
   "execution_count": 98,
   "metadata": {},
   "outputs": [],
   "source": [
    "def grouping_formatting(df, column):\n",
    "    '''\n",
    "    INPUT:\n",
    "    df: df to be reformatted\n",
    "    column: To set column name\n",
    "    \n",
    "    Output:\n",
    "    Reformatted dataframe\n",
    "    \n",
    "    What this function does:\n",
    "    This function reformats the dataframe after running groupby. It is used inside the grouping function.\n",
    "    '''\n",
    "    df = df.reset_index()\n",
    "    df = df.drop(columns=[0], axis=1)\n",
    "    df = df.rename(columns={\"index\":\"Categories\", 1:column})  \n",
    "    return df"
   ]
  },
  {
   "cell_type": "code",
   "execution_count": 130,
   "metadata": {},
   "outputs": [],
   "source": [
    "def grouping(df, all_items, column, bs):\n",
    "    '''\n",
    "    INPUT:\n",
    "    df: dataframe with all data\n",
    "    all_devtypes: list of all different Developer roles\n",
    "    column: binary coded column\n",
    "    bs: True/False value deciding whether to include base sizes\n",
    "    \n",
    "    OUTPUT:\n",
    "    df_cooc: grouped by df that is transposed and contains column % based on total and - if wanted - base sizes\n",
    "    \n",
    "    What this function does:\n",
    "    1. Save the base size n for DevType of interest\n",
    "    2. Create new df by running groupby, immediately followed by transposing and dividing counts by n\n",
    "    3. Tidying up the new df using grouping_formatting function\n",
    "    4. Adding in base size if requested\n",
    "    '''\n",
    "    n = df[column].sum()\n",
    "    df_cooc = df.groupby([column])[all_items].sum().transpose()/n\n",
    "    df_cooc = grouping_formatting(df_cooc, column)\n",
    "    if bs:\n",
    "        df_bs = df.groupby([column])[all_items].sum().transpose()\n",
    "        df_bs = grouping_formatting(df_bs, column)\n",
    "        # changing column names to indicate it is base size\n",
    "        bs_columns = list(df_bs.columns)\n",
    "        bs_columns.remove(\"Categories\")\n",
    "        for i in bs_columns:\n",
    "            df_bs = df_bs.rename(columns={i:i+\"_bs\"})\n",
    "        # merging\n",
    "        df_cooc = pd.merge(df_cooc, df_bs, left_on='Categories', right_on='Categories')\n",
    "    return df_cooc"
   ]
  },
  {
   "cell_type": "markdown",
   "metadata": {},
   "source": [
    "## Filtering"
   ]
  },
  {
   "cell_type": "code",
   "execution_count": null,
   "metadata": {},
   "outputs": [],
   "source": [
    "#Sensible filters:\n",
    "# MainBranch: developers by profession; code sometimes as part of their work\n",
    "# Employment: employed full-time; employed part-time; independent contractor, freelancer or self-employed\n",
    "# DevType: Not NA\n",
    "# Working as (DevType): Data or business analyst; Data scientist or machine learning specialist"
   ]
  },
  {
   "cell_type": "code",
   "execution_count": 6,
   "metadata": {},
   "outputs": [],
   "source": [
    "# Filerting on MainBranch\n",
    "dfs=dfs.loc[(dfs['MainBranch']==\"I am a developer by profession\")|(dfs['MainBranch']==\"I am not primarily a developer, but I write code sometimes as part of my work\")]"
   ]
  },
  {
   "cell_type": "code",
   "execution_count": 7,
   "metadata": {},
   "outputs": [],
   "source": [
    "# Filtering on Employment status\n",
    "dfs=dfs.loc[(dfs['Employment']==\"Employed full-time\")|(dfs['Employment']==\"Employed part-time\")|(dfs['Employment']==\"Independent contractor, freelancer, or self-employed\")]"
   ]
  },
  {
   "cell_type": "code",
   "execution_count": 8,
   "metadata": {
    "scrolled": true
   },
   "outputs": [],
   "source": [
    "# Filerting on DevType = NaN\n",
    "dfs=dfs.dropna(subset=['DevType'])"
   ]
  },
  {
   "cell_type": "code",
   "execution_count": 9,
   "metadata": {},
   "outputs": [],
   "source": [
    "# Need to create columns for two professions I am interested in\n",
    "# https://stackoverflow.com/questions/18889588/create-dummies-from-column-with-multiple-values-in-pandas\n",
    "dfs_d1 = dfs['DevType'].str.get_dummies(sep=';')"
   ]
  },
  {
   "cell_type": "code",
   "execution_count": 10,
   "metadata": {},
   "outputs": [],
   "source": [
    "# Merging the dummy dataframe onto the original dataframe\n",
    "dfs = pd.merge(dfs, dfs_d1, left_index=True, right_index=True)"
   ]
  },
  {
   "cell_type": "code",
   "execution_count": 11,
   "metadata": {},
   "outputs": [],
   "source": [
    "# Filtering on respondents that work as Data Scientist or Data Analyst\n",
    "dfs = dfs.loc[(dfs['Data or business analyst']==1)|(dfs['Data scientist or machine learning specialist']==1)]"
   ]
  },
  {
   "cell_type": "code",
   "execution_count": 12,
   "metadata": {},
   "outputs": [
    {
     "data": {
      "text/plain": [
       "(5952, 84)"
      ]
     },
     "execution_count": 12,
     "metadata": {},
     "output_type": "execute_result"
    }
   ],
   "source": [
    "dfs.shape"
   ]
  },
  {
   "cell_type": "markdown",
   "metadata": {},
   "source": [
    "## Distinctiveness of the roles\n",
    "### How distinctive are these roles from each other?"
   ]
  },
  {
   "cell_type": "code",
   "execution_count": 14,
   "metadata": {},
   "outputs": [
    {
     "data": {
      "text/plain": [
       "0.5942540322580645"
      ]
     },
     "execution_count": 14,
     "metadata": {},
     "output_type": "execute_result"
    }
   ],
   "source": [
    "# How many people are Data Analysts, how many Data Scientists and how many are both?\n",
    "dfs['Data or business analyst'].mean()"
   ]
  },
  {
   "cell_type": "code",
   "execution_count": 15,
   "metadata": {},
   "outputs": [
    {
     "data": {
      "text/plain": [
       "0.5929099462365591"
      ]
     },
     "execution_count": 15,
     "metadata": {},
     "output_type": "execute_result"
    }
   ],
   "source": [
    "dfs['Data scientist or machine learning specialist'].mean()"
   ]
  },
  {
   "cell_type": "code",
   "execution_count": 16,
   "metadata": {},
   "outputs": [
    {
     "data": {
      "text/plain": [
       "0.18716397849462366"
      ]
     },
     "execution_count": 16,
     "metadata": {},
     "output_type": "execute_result"
    }
   ],
   "source": [
    "dfs['DA and DS']=0\n",
    "dfs.loc[(dfs['Data or business analyst']==1) & (dfs['Data scientist or machine learning specialist']==1),'DA and DS']=1\n",
    "dfs['DA and DS'].mean()"
   ]
  },
  {
   "cell_type": "code",
   "execution_count": 17,
   "metadata": {},
   "outputs": [],
   "source": [
    "# Creating a variable to identify DAs, DSs and those who are both DA and DS\n",
    "dfs['DevType_RoleDescription']=np.nan\n",
    "dfs.loc[dfs['DA and DS']==1,'DevType_RoleDescription']='DA and DS'\n",
    "dfs.loc[(dfs['DA and DS']==0) & (dfs['Data scientist or machine learning specialist']==1),'DevType_RoleDescription']='DS only'\n",
    "dfs.loc[(dfs['DA and DS']==0) & (dfs['Data or business analyst']==1),'DevType_RoleDescription']='DA only'"
   ]
  },
  {
   "cell_type": "markdown",
   "metadata": {},
   "source": [
    "#### Creating base sizes for further analysis\n",
    "Get base size for each of the three groups (DA only, DS only, DA and DS)"
   ]
  },
  {
   "cell_type": "code",
   "execution_count": null,
   "metadata": {},
   "outputs": [],
   "source": [
    "n_da_only = dfs.loc[dfs['DevType_RoleDescription']=='DA only']['Respondent'].count()\n",
    "n_ds_only = dfs.loc[dfs['DevType_RoleDescription']=='DS only']['Respondent'].count()\n",
    "n_da_and_ds = dfs.loc[dfs['DevType_RoleDescription']=='DA and DS']['Respondent'].count()"
   ]
  },
  {
   "cell_type": "code",
   "execution_count": 77,
   "metadata": {},
   "outputs": [
    {
     "name": "stdout",
     "output_type": "stream",
     "text": [
      "Base size DA only:  2423\n",
      "Base size DS only:  2415\n",
      "Base size DA and DS:  1114\n"
     ]
    }
   ],
   "source": [
    "print(\"Base size DA only: \",n_da_only)\n",
    "print(\"Base size DS only: \",n_ds_only)\n",
    "print(\"Base size DA and DS: \",n_da_and_ds)"
   ]
  },
  {
   "cell_type": "markdown",
   "metadata": {},
   "source": [
    "Get base size for two groups (DS, DA >> They have a certain overlap)"
   ]
  },
  {
   "cell_type": "code",
   "execution_count": 79,
   "metadata": {},
   "outputs": [],
   "source": [
    "n_da = dfs['Data or business analyst'].sum()\n",
    "n_ds = dfs['Data scientist or machine learning specialist'].sum()"
   ]
  },
  {
   "cell_type": "code",
   "execution_count": 80,
   "metadata": {},
   "outputs": [
    {
     "name": "stdout",
     "output_type": "stream",
     "text": [
      "Base size DA:  3537\n",
      "Base size DS:  3529\n"
     ]
    }
   ],
   "source": [
    "print(\"Base size DA: \",n_da)\n",
    "print(\"Base size DS: \",n_ds)"
   ]
  },
  {
   "cell_type": "markdown",
   "metadata": {},
   "source": [
    "### How distinctive are they from other roles in the field?"
   ]
  },
  {
   "cell_type": "code",
   "execution_count": 19,
   "metadata": {},
   "outputs": [],
   "source": [
    "# Preparation: Retrieving all DevTypes (only works for list with nesting level 2)\n",
    "'''\n",
    "nested_devtypes=list(dfs['DevType'].str.split(';'))\n",
    "flat_list = [item for sublist in nested_devtypes for item in sublist]\n",
    "all_devtypes = set(flat_list)\n",
    "all_devtypes = list(all_devtypes)\n",
    "'''\n",
    "# Now using my new function\n",
    "\n",
    "all_devtypes = subset_creator(dfs, ['DevType'])"
   ]
  },
  {
   "cell_type": "markdown",
   "metadata": {},
   "source": [
    "##### How many respondents claim to ONLY be a Data Analyst or a Data Scientist?"
   ]
  },
  {
   "cell_type": "code",
   "execution_count": 20,
   "metadata": {},
   "outputs": [],
   "source": [
    "# Create column that shows number of roles chosen\n",
    "dfs['NumberOfRoles']=dfs[all_devtypes].sum(axis=1)"
   ]
  },
  {
   "cell_type": "code",
   "execution_count": 21,
   "metadata": {
    "collapsed": true
   },
   "outputs": [
    {
     "data": {
      "text/html": [
       "<div>\n",
       "<style scoped>\n",
       "    .dataframe tbody tr th:only-of-type {\n",
       "        vertical-align: middle;\n",
       "    }\n",
       "\n",
       "    .dataframe tbody tr th {\n",
       "        vertical-align: top;\n",
       "    }\n",
       "\n",
       "    .dataframe thead th {\n",
       "        text-align: right;\n",
       "    }\n",
       "</style>\n",
       "<table border=\"1\" class=\"dataframe\">\n",
       "  <thead>\n",
       "    <tr style=\"text-align: right;\">\n",
       "      <th>DevType_RoleDescription</th>\n",
       "      <th>DA and DS</th>\n",
       "      <th>DA only</th>\n",
       "      <th>DS only</th>\n",
       "    </tr>\n",
       "    <tr>\n",
       "      <th>NumberOfRoles</th>\n",
       "      <th></th>\n",
       "      <th></th>\n",
       "      <th></th>\n",
       "    </tr>\n",
       "  </thead>\n",
       "  <tbody>\n",
       "    <tr>\n",
       "      <th>1</th>\n",
       "      <td>0</td>\n",
       "      <td>225</td>\n",
       "      <td>325</td>\n",
       "    </tr>\n",
       "    <tr>\n",
       "      <th>2</th>\n",
       "      <td>164</td>\n",
       "      <td>313</td>\n",
       "      <td>476</td>\n",
       "    </tr>\n",
       "    <tr>\n",
       "      <th>3</th>\n",
       "      <td>174</td>\n",
       "      <td>344</td>\n",
       "      <td>495</td>\n",
       "    </tr>\n",
       "    <tr>\n",
       "      <th>4</th>\n",
       "      <td>151</td>\n",
       "      <td>292</td>\n",
       "      <td>395</td>\n",
       "    </tr>\n",
       "    <tr>\n",
       "      <th>5</th>\n",
       "      <td>124</td>\n",
       "      <td>315</td>\n",
       "      <td>248</td>\n",
       "    </tr>\n",
       "    <tr>\n",
       "      <th>6</th>\n",
       "      <td>98</td>\n",
       "      <td>246</td>\n",
       "      <td>147</td>\n",
       "    </tr>\n",
       "    <tr>\n",
       "      <th>7</th>\n",
       "      <td>85</td>\n",
       "      <td>203</td>\n",
       "      <td>118</td>\n",
       "    </tr>\n",
       "    <tr>\n",
       "      <th>8</th>\n",
       "      <td>56</td>\n",
       "      <td>136</td>\n",
       "      <td>59</td>\n",
       "    </tr>\n",
       "    <tr>\n",
       "      <th>9</th>\n",
       "      <td>52</td>\n",
       "      <td>120</td>\n",
       "      <td>47</td>\n",
       "    </tr>\n",
       "    <tr>\n",
       "      <th>10</th>\n",
       "      <td>40</td>\n",
       "      <td>71</td>\n",
       "      <td>33</td>\n",
       "    </tr>\n",
       "    <tr>\n",
       "      <th>11</th>\n",
       "      <td>25</td>\n",
       "      <td>58</td>\n",
       "      <td>28</td>\n",
       "    </tr>\n",
       "    <tr>\n",
       "      <th>12</th>\n",
       "      <td>33</td>\n",
       "      <td>34</td>\n",
       "      <td>23</td>\n",
       "    </tr>\n",
       "    <tr>\n",
       "      <th>13</th>\n",
       "      <td>21</td>\n",
       "      <td>25</td>\n",
       "      <td>10</td>\n",
       "    </tr>\n",
       "    <tr>\n",
       "      <th>14</th>\n",
       "      <td>16</td>\n",
       "      <td>20</td>\n",
       "      <td>5</td>\n",
       "    </tr>\n",
       "    <tr>\n",
       "      <th>15</th>\n",
       "      <td>16</td>\n",
       "      <td>5</td>\n",
       "      <td>2</td>\n",
       "    </tr>\n",
       "    <tr>\n",
       "      <th>16</th>\n",
       "      <td>9</td>\n",
       "      <td>8</td>\n",
       "      <td>1</td>\n",
       "    </tr>\n",
       "    <tr>\n",
       "      <th>17</th>\n",
       "      <td>9</td>\n",
       "      <td>1</td>\n",
       "      <td>2</td>\n",
       "    </tr>\n",
       "    <tr>\n",
       "      <th>18</th>\n",
       "      <td>5</td>\n",
       "      <td>4</td>\n",
       "      <td>0</td>\n",
       "    </tr>\n",
       "    <tr>\n",
       "      <th>19</th>\n",
       "      <td>5</td>\n",
       "      <td>3</td>\n",
       "      <td>0</td>\n",
       "    </tr>\n",
       "    <tr>\n",
       "      <th>20</th>\n",
       "      <td>4</td>\n",
       "      <td>0</td>\n",
       "      <td>0</td>\n",
       "    </tr>\n",
       "    <tr>\n",
       "      <th>21</th>\n",
       "      <td>1</td>\n",
       "      <td>0</td>\n",
       "      <td>0</td>\n",
       "    </tr>\n",
       "    <tr>\n",
       "      <th>22</th>\n",
       "      <td>2</td>\n",
       "      <td>0</td>\n",
       "      <td>1</td>\n",
       "    </tr>\n",
       "    <tr>\n",
       "      <th>23</th>\n",
       "      <td>24</td>\n",
       "      <td>0</td>\n",
       "      <td>0</td>\n",
       "    </tr>\n",
       "  </tbody>\n",
       "</table>\n",
       "</div>"
      ],
      "text/plain": [
       "DevType_RoleDescription  DA and DS  DA only  DS only\n",
       "NumberOfRoles                                       \n",
       "1                                0      225      325\n",
       "2                              164      313      476\n",
       "3                              174      344      495\n",
       "4                              151      292      395\n",
       "5                              124      315      248\n",
       "6                               98      246      147\n",
       "7                               85      203      118\n",
       "8                               56      136       59\n",
       "9                               52      120       47\n",
       "10                              40       71       33\n",
       "11                              25       58       28\n",
       "12                              33       34       23\n",
       "13                              21       25       10\n",
       "14                              16       20        5\n",
       "15                              16        5        2\n",
       "16                               9        8        1\n",
       "17                               9        1        2\n",
       "18                               5        4        0\n",
       "19                               5        3        0\n",
       "20                               4        0        0\n",
       "21                               1        0        0\n",
       "22                               2        0        1\n",
       "23                              24        0        0"
      ]
     },
     "execution_count": 21,
     "metadata": {},
     "output_type": "execute_result"
    }
   ],
   "source": [
    "pd.crosstab(dfs['NumberOfRoles'],dfs['DevType_RoleDescription'])"
   ]
  },
  {
   "cell_type": "markdown",
   "metadata": {},
   "source": [
    "##### How many roles do respondents say they fill on average?"
   ]
  },
  {
   "cell_type": "code",
   "execution_count": 22,
   "metadata": {
    "scrolled": false
   },
   "outputs": [
    {
     "data": {
      "text/plain": [
       "DevType_RoleDescription\n",
       "DA and DS    6.427289\n",
       "DA only      5.118035\n",
       "DS only      3.892754\n",
       "Name: NumberOfRoles, dtype: float64"
      ]
     },
     "execution_count": 22,
     "metadata": {},
     "output_type": "execute_result"
    }
   ],
   "source": [
    "dfs.groupby('DevType_RoleDescription')['NumberOfRoles'].mean()\n"
   ]
  },
  {
   "cell_type": "markdown",
   "metadata": {},
   "source": [
    "##### What else do they claim to be?"
   ]
  },
  {
   "cell_type": "code",
   "execution_count": null,
   "metadata": {},
   "outputs": [],
   "source": [
    "# https://tm4ss.github.io/docs/Tutorial_5_Co-occurrence.html"
   ]
  },
  {
   "cell_type": "code",
   "execution_count": 23,
   "metadata": {
    "scrolled": true
   },
   "outputs": [],
   "source": [
    "# Creating a co-occurence table\n",
    "dfs_cooc = dfs.groupby('DevType_RoleDescription')[all_devtypes].sum().transpose()"
   ]
  },
  {
   "cell_type": "code",
   "execution_count": 25,
   "metadata": {},
   "outputs": [
    {
     "data": {
      "text/html": [
       "<div>\n",
       "<style scoped>\n",
       "    .dataframe tbody tr th:only-of-type {\n",
       "        vertical-align: middle;\n",
       "    }\n",
       "\n",
       "    .dataframe tbody tr th {\n",
       "        vertical-align: top;\n",
       "    }\n",
       "\n",
       "    .dataframe thead th {\n",
       "        text-align: right;\n",
       "    }\n",
       "</style>\n",
       "<table border=\"1\" class=\"dataframe\">\n",
       "  <thead>\n",
       "    <tr style=\"text-align: right;\">\n",
       "      <th>DevType_RoleDescription</th>\n",
       "      <th>DA and DS</th>\n",
       "      <th>DA only</th>\n",
       "      <th>DS only</th>\n",
       "    </tr>\n",
       "  </thead>\n",
       "  <tbody>\n",
       "    <tr>\n",
       "      <th>DevOps specialist</th>\n",
       "      <td>206</td>\n",
       "      <td>383</td>\n",
       "      <td>298</td>\n",
       "    </tr>\n",
       "    <tr>\n",
       "      <th>Developer, QA or test</th>\n",
       "      <td>155</td>\n",
       "      <td>350</td>\n",
       "      <td>118</td>\n",
       "    </tr>\n",
       "    <tr>\n",
       "      <th>Senior executive/VP</th>\n",
       "      <td>94</td>\n",
       "      <td>139</td>\n",
       "      <td>83</td>\n",
       "    </tr>\n",
       "    <tr>\n",
       "      <th>System administrator</th>\n",
       "      <td>213</td>\n",
       "      <td>565</td>\n",
       "      <td>226</td>\n",
       "    </tr>\n",
       "    <tr>\n",
       "      <th>Product manager</th>\n",
       "      <td>150</td>\n",
       "      <td>345</td>\n",
       "      <td>117</td>\n",
       "    </tr>\n",
       "    <tr>\n",
       "      <th>Marketing or sales professional</th>\n",
       "      <td>68</td>\n",
       "      <td>104</td>\n",
       "      <td>15</td>\n",
       "    </tr>\n",
       "    <tr>\n",
       "      <th>Database administrator</th>\n",
       "      <td>371</td>\n",
       "      <td>965</td>\n",
       "      <td>267</td>\n",
       "    </tr>\n",
       "    <tr>\n",
       "      <th>Engineer, data</th>\n",
       "      <td>482</td>\n",
       "      <td>498</td>\n",
       "      <td>569</td>\n",
       "    </tr>\n",
       "    <tr>\n",
       "      <th>Engineer, site reliability</th>\n",
       "      <td>112</td>\n",
       "      <td>120</td>\n",
       "      <td>77</td>\n",
       "    </tr>\n",
       "    <tr>\n",
       "      <th>Developer, embedded applications or devices</th>\n",
       "      <td>171</td>\n",
       "      <td>229</td>\n",
       "      <td>262</td>\n",
       "    </tr>\n",
       "    <tr>\n",
       "      <th>Designer</th>\n",
       "      <td>195</td>\n",
       "      <td>540</td>\n",
       "      <td>156</td>\n",
       "    </tr>\n",
       "    <tr>\n",
       "      <th>Developer, desktop or enterprise applications</th>\n",
       "      <td>278</td>\n",
       "      <td>843</td>\n",
       "      <td>386</td>\n",
       "    </tr>\n",
       "    <tr>\n",
       "      <th>Scientist</th>\n",
       "      <td>249</td>\n",
       "      <td>97</td>\n",
       "      <td>535</td>\n",
       "    </tr>\n",
       "    <tr>\n",
       "      <th>Data scientist or machine learning specialist</th>\n",
       "      <td>1114</td>\n",
       "      <td>0</td>\n",
       "      <td>2415</td>\n",
       "    </tr>\n",
       "    <tr>\n",
       "      <th>Academic researcher</th>\n",
       "      <td>293</td>\n",
       "      <td>249</td>\n",
       "      <td>679</td>\n",
       "    </tr>\n",
       "    <tr>\n",
       "      <th>Developer, mobile</th>\n",
       "      <td>183</td>\n",
       "      <td>400</td>\n",
       "      <td>277</td>\n",
       "    </tr>\n",
       "    <tr>\n",
       "      <th>Developer, game or graphics</th>\n",
       "      <td>96</td>\n",
       "      <td>109</td>\n",
       "      <td>141</td>\n",
       "    </tr>\n",
       "    <tr>\n",
       "      <th>Educator</th>\n",
       "      <td>176</td>\n",
       "      <td>207</td>\n",
       "      <td>225</td>\n",
       "    </tr>\n",
       "    <tr>\n",
       "      <th>Engineering manager</th>\n",
       "      <td>133</td>\n",
       "      <td>190</td>\n",
       "      <td>136</td>\n",
       "    </tr>\n",
       "    <tr>\n",
       "      <th>Developer, back-end</th>\n",
       "      <td>566</td>\n",
       "      <td>1449</td>\n",
       "      <td>1099</td>\n",
       "    </tr>\n",
       "    <tr>\n",
       "      <th>Data or business analyst</th>\n",
       "      <td>1114</td>\n",
       "      <td>2423</td>\n",
       "      <td>0</td>\n",
       "    </tr>\n",
       "    <tr>\n",
       "      <th>Developer, front-end</th>\n",
       "      <td>310</td>\n",
       "      <td>939</td>\n",
       "      <td>445</td>\n",
       "    </tr>\n",
       "    <tr>\n",
       "      <th>Developer, full-stack</th>\n",
       "      <td>431</td>\n",
       "      <td>1257</td>\n",
       "      <td>875</td>\n",
       "    </tr>\n",
       "  </tbody>\n",
       "</table>\n",
       "</div>"
      ],
      "text/plain": [
       "DevType_RoleDescription                        DA and DS  DA only  DS only\n",
       "DevOps specialist                                    206      383      298\n",
       "Developer, QA or test                                155      350      118\n",
       "Senior executive/VP                                   94      139       83\n",
       "System administrator                                 213      565      226\n",
       "Product manager                                      150      345      117\n",
       "Marketing or sales professional                       68      104       15\n",
       "Database administrator                               371      965      267\n",
       "Engineer, data                                       482      498      569\n",
       "Engineer, site reliability                           112      120       77\n",
       "Developer, embedded applications or devices          171      229      262\n",
       "Designer                                             195      540      156\n",
       "Developer, desktop or enterprise applications        278      843      386\n",
       "Scientist                                            249       97      535\n",
       "Data scientist or machine learning specialist       1114        0     2415\n",
       "Academic researcher                                  293      249      679\n",
       "Developer, mobile                                    183      400      277\n",
       "Developer, game or graphics                           96      109      141\n",
       "Educator                                             176      207      225\n",
       "Engineering manager                                  133      190      136\n",
       "Developer, back-end                                  566     1449     1099\n",
       "Data or business analyst                            1114     2423        0\n",
       "Developer, front-end                                 310      939      445\n",
       "Developer, full-stack                                431     1257      875"
      ]
     },
     "execution_count": 25,
     "metadata": {},
     "output_type": "execute_result"
    }
   ],
   "source": [
    "dfs_cooc"
   ]
  },
  {
   "cell_type": "code",
   "execution_count": 81,
   "metadata": {},
   "outputs": [],
   "source": [
    "# !!!!! IMPROVE THIS TO ADHERE TO DRY PRINCIPLES !!!! Adding % columns into the co-occurence table\n",
    "dfs_cooc['DA_share']=dfs_cooc['DA only']/n_da_only\n",
    "dfs_cooc['DA and DS_share']=dfs_cooc['DA and DS']/n_da_and_ds\n",
    "dfs_cooc['DS_share']=dfs_cooc['DS only']/n_ds_only"
   ]
  },
  {
   "cell_type": "code",
   "execution_count": 82,
   "metadata": {
    "scrolled": true
   },
   "outputs": [
    {
     "data": {
      "image/png": "[encoded data removed]",
      "text/plain": [
       "<Figure size 720x720 with 2 Axes>"
      ]
     },
     "metadata": {
      "needs_background": "light"
     },
     "output_type": "display_data"
    }
   ],
   "source": [
    "# Plotting the table using a heatmap\n",
    "plt.figure(figsize=(10,10))\n",
    "ax=sns.heatmap(dfs_cooc[['DA_share','DS_share','DA and DS_share']].sort_values(by=['DA_share']), annot=True, fmt='.2f')\n",
    "ax.set_ylim(0,23);"
   ]
  },
  {
   "cell_type": "code",
   "execution_count": 106,
   "metadata": {},
   "outputs": [],
   "source": [
    "dfs_cooc2_da = grouping(dfs, all_devtypes, 'Data or business analyst', False)\n",
    "dfs_cooc2_ds = grouping(dfs, all_devtypes, 'Data scientist or machine learning specialist', False)\n",
    "dfs_cooc2 = pd.merge(dfs_cooc2_da, \n",
    "        dfs_cooc2_ds,\n",
    "        left_on = 'Categories',\n",
    "        right_on = 'Categories')\n",
    "dfs_cooc2 = dfs_cooc2.set_index('Categories')"
   ]
  },
  {
   "cell_type": "code",
   "execution_count": 107,
   "metadata": {
    "scrolled": true
   },
   "outputs": [
    {
     "data": {
      "text/html": [
       "<div>\n",
       "<style scoped>\n",
       "    .dataframe tbody tr th:only-of-type {\n",
       "        vertical-align: middle;\n",
       "    }\n",
       "\n",
       "    .dataframe tbody tr th {\n",
       "        vertical-align: top;\n",
       "    }\n",
       "\n",
       "    .dataframe thead th {\n",
       "        text-align: right;\n",
       "    }\n",
       "</style>\n",
       "<table border=\"1\" class=\"dataframe\">\n",
       "  <thead>\n",
       "    <tr style=\"text-align: right;\">\n",
       "      <th></th>\n",
       "      <th>Data or business analyst</th>\n",
       "      <th>Data scientist or machine learning specialist</th>\n",
       "    </tr>\n",
       "    <tr>\n",
       "      <th>Categories</th>\n",
       "      <th></th>\n",
       "      <th></th>\n",
       "    </tr>\n",
       "  </thead>\n",
       "  <tbody>\n",
       "    <tr>\n",
       "      <th>DevOps specialist</th>\n",
       "      <td>0.166525</td>\n",
       "      <td>0.142817</td>\n",
       "    </tr>\n",
       "    <tr>\n",
       "      <th>Developer, QA or test</th>\n",
       "      <td>0.142776</td>\n",
       "      <td>0.077359</td>\n",
       "    </tr>\n",
       "    <tr>\n",
       "      <th>Senior executive/VP</th>\n",
       "      <td>0.065875</td>\n",
       "      <td>0.050156</td>\n",
       "    </tr>\n",
       "    <tr>\n",
       "      <th>System administrator</th>\n",
       "      <td>0.219960</td>\n",
       "      <td>0.124398</td>\n",
       "    </tr>\n",
       "    <tr>\n",
       "      <th>Product manager</th>\n",
       "      <td>0.139949</td>\n",
       "      <td>0.075659</td>\n",
       "    </tr>\n",
       "    <tr>\n",
       "      <th>Marketing or sales professional</th>\n",
       "      <td>0.048629</td>\n",
       "      <td>0.023519</td>\n",
       "    </tr>\n",
       "    <tr>\n",
       "      <th>Database administrator</th>\n",
       "      <td>0.377721</td>\n",
       "      <td>0.180788</td>\n",
       "    </tr>\n",
       "    <tr>\n",
       "      <th>Engineer, data</th>\n",
       "      <td>0.277071</td>\n",
       "      <td>0.297818</td>\n",
       "    </tr>\n",
       "    <tr>\n",
       "      <th>Engineer, site reliability</th>\n",
       "      <td>0.065592</td>\n",
       "      <td>0.053556</td>\n",
       "    </tr>\n",
       "    <tr>\n",
       "      <th>Developer, embedded applications or devices</th>\n",
       "      <td>0.113090</td>\n",
       "      <td>0.122698</td>\n",
       "    </tr>\n",
       "    <tr>\n",
       "      <th>Designer</th>\n",
       "      <td>0.207803</td>\n",
       "      <td>0.099462</td>\n",
       "    </tr>\n",
       "    <tr>\n",
       "      <th>Developer, desktop or enterprise applications</th>\n",
       "      <td>0.316935</td>\n",
       "      <td>0.188155</td>\n",
       "    </tr>\n",
       "    <tr>\n",
       "      <th>Scientist</th>\n",
       "      <td>0.097823</td>\n",
       "      <td>0.222159</td>\n",
       "    </tr>\n",
       "    <tr>\n",
       "      <th>Data scientist or machine learning specialist</th>\n",
       "      <td>0.314956</td>\n",
       "      <td>1.000000</td>\n",
       "    </tr>\n",
       "    <tr>\n",
       "      <th>Academic researcher</th>\n",
       "      <td>0.153237</td>\n",
       "      <td>0.275432</td>\n",
       "    </tr>\n",
       "    <tr>\n",
       "      <th>Developer, mobile</th>\n",
       "      <td>0.164829</td>\n",
       "      <td>0.130349</td>\n",
       "    </tr>\n",
       "    <tr>\n",
       "      <th>Developer, game or graphics</th>\n",
       "      <td>0.057959</td>\n",
       "      <td>0.067158</td>\n",
       "    </tr>\n",
       "    <tr>\n",
       "      <th>Educator</th>\n",
       "      <td>0.108284</td>\n",
       "      <td>0.113630</td>\n",
       "    </tr>\n",
       "    <tr>\n",
       "      <th>Engineering manager</th>\n",
       "      <td>0.091320</td>\n",
       "      <td>0.076226</td>\n",
       "    </tr>\n",
       "    <tr>\n",
       "      <th>Developer, back-end</th>\n",
       "      <td>0.569692</td>\n",
       "      <td>0.471805</td>\n",
       "    </tr>\n",
       "    <tr>\n",
       "      <th>Data or business analyst</th>\n",
       "      <td>1.000000</td>\n",
       "      <td>0.315670</td>\n",
       "    </tr>\n",
       "    <tr>\n",
       "      <th>Developer, front-end</th>\n",
       "      <td>0.353124</td>\n",
       "      <td>0.213942</td>\n",
       "    </tr>\n",
       "    <tr>\n",
       "      <th>Developer, full-stack</th>\n",
       "      <td>0.477241</td>\n",
       "      <td>0.370077</td>\n",
       "    </tr>\n",
       "  </tbody>\n",
       "</table>\n",
       "</div>"
      ],
      "text/plain": [
       "                                               Data or business analyst  \\\n",
       "Categories                                                                \n",
       "DevOps specialist                                              0.166525   \n",
       "Developer, QA or test                                          0.142776   \n",
       "Senior executive/VP                                            0.065875   \n",
       "System administrator                                           0.219960   \n",
       "Product manager                                                0.139949   \n",
       "Marketing or sales professional                                0.048629   \n",
       "Database administrator                                         0.377721   \n",
       "Engineer, data                                                 0.277071   \n",
       "Engineer, site reliability                                     0.065592   \n",
       "Developer, embedded applications or devices                    0.113090   \n",
       "Designer                                                       0.207803   \n",
       "Developer, desktop or enterprise applications                  0.316935   \n",
       "Scientist                                                      0.097823   \n",
       "Data scientist or machine learning specialist                  0.314956   \n",
       "Academic researcher                                            0.153237   \n",
       "Developer, mobile                                              0.164829   \n",
       "Developer, game or graphics                                    0.057959   \n",
       "Educator                                                       0.108284   \n",
       "Engineering manager                                            0.091320   \n",
       "Developer, back-end                                            0.569692   \n",
       "Data or business analyst                                       1.000000   \n",
       "Developer, front-end                                           0.353124   \n",
       "Developer, full-stack                                          0.477241   \n",
       "\n",
       "                                               Data scientist or machine learning specialist  \n",
       "Categories                                                                                    \n",
       "DevOps specialist                                                                   0.142817  \n",
       "Developer, QA or test                                                               0.077359  \n",
       "Senior executive/VP                                                                 0.050156  \n",
       "System administrator                                                                0.124398  \n",
       "Product manager                                                                     0.075659  \n",
       "Marketing or sales professional                                                     0.023519  \n",
       "Database administrator                                                              0.180788  \n",
       "Engineer, data                                                                      0.297818  \n",
       "Engineer, site reliability                                                          0.053556  \n",
       "Developer, embedded applications or devices                                         0.122698  \n",
       "Designer                                                                            0.099462  \n",
       "Developer, desktop or enterprise applications                                       0.188155  \n",
       "Scientist                                                                           0.222159  \n",
       "Data scientist or machine learning specialist                                       1.000000  \n",
       "Academic researcher                                                                 0.275432  \n",
       "Developer, mobile                                                                   0.130349  \n",
       "Developer, game or graphics                                                         0.067158  \n",
       "Educator                                                                            0.113630  \n",
       "Engineering manager                                                                 0.076226  \n",
       "Developer, back-end                                                                 0.471805  \n",
       "Data or business analyst                                                            0.315670  \n",
       "Developer, front-end                                                                0.213942  \n",
       "Developer, full-stack                                                               0.370077  "
      ]
     },
     "execution_count": 107,
     "metadata": {},
     "output_type": "execute_result"
    }
   ],
   "source": [
    "dfs_cooc2"
   ]
  },
  {
   "cell_type": "code",
   "execution_count": 32,
   "metadata": {},
   "outputs": [],
   "source": [
    "# Caluclating differences between two roles\n",
    "dfs_cooc2['Difference'] = dfs_cooc2['Data scientist or machine learning specialist'] - dfs_cooc2['Data or business analyst']"
   ]
  },
  {
   "cell_type": "code",
   "execution_count": 33,
   "metadata": {
    "collapsed": true
   },
   "outputs": [
    {
     "data": {
      "image/png": "[encoded data removed]",
      "text/plain": [
       "<Figure size 720x720 with 2 Axes>"
      ]
     },
     "metadata": {
      "needs_background": "light"
     },
     "output_type": "display_data"
    }
   ],
   "source": [
    "# Plotting the table using a heatmap\n",
    "plt.figure(figsize=(10,10))\n",
    "ax=sns.heatmap(dfs_cooc2.sort_values(by=['Difference']), annot=True, fmt='.2f')\n",
    "ax.set_ylim(0,23);"
   ]
  },
  {
   "cell_type": "code",
   "execution_count": 35,
   "metadata": {},
   "outputs": [
    {
     "data": {
      "image/png": "[encoded data removed]",
      "text/plain": [
       "<Figure size 720x720 with 1 Axes>"
      ]
     },
     "metadata": {
      "needs_background": "light"
     },
     "output_type": "display_data"
    }
   ],
   "source": [
    "plt.rcParams[\"figure.figsize\"] = [10, 10]\n",
    "dfs_cooc2[['Data or business analyst','Data scientist or machine learning specialist']].sort_values(by=['Data or business analyst']).plot.barh();"
   ]
  },
  {
   "cell_type": "markdown",
   "metadata": {},
   "source": [
    "## Do tools used by Data Analysts versus Data Scientists differ?"
   ]
  },
  {
   "cell_type": "code",
   "execution_count": 50,
   "metadata": {},
   "outputs": [],
   "source": [
    "'''\n",
    "I have a porblem here, because Microsoft Azure was in the survey TWICE. So Pandas labels them _x and _y. I need to \n",
    "prevent this duplication >>> It works now, but is not unversally applicable at all!\n",
    "\n",
    "THis function creates dummy variables for my various categorical columns. \n",
    "It is also used further up in the code already for the DevType variable. \n",
    "Once it is de-bugged, move it up to your functions'''\n",
    "def dummies(df, column_list):\n",
    "    for i in column_list:\n",
    "        df_interim = df[i].str.get_dummies(sep=';')\n",
    "        df = pd.merge(df, df_interim, left_index=True, right_index=True)\n",
    "    ''' \n",
    "    At this stage I should somehow remove the duplicated columns\n",
    "    '''\n",
    "    header_list = df.columns\n",
    "    issue_list = [i for i in header_list if i.endswith('_x') or i.endswith('_y')] #identify all duplicate cases >> WOULD BE BETTER WITH REGEX _\\D$\n",
    "    df['Microsoft Azure'] = df[issue_list[0]] + df[issue_list[1]] # NEED TO AUTOMATE THE \"AZURE\"\n",
    "    df = df.drop(columns=[issue_list[0],issue_list[1]], axis=1)\n",
    "    return df, issue_list"
   ]
  },
  {
   "cell_type": "code",
   "execution_count": 40,
   "metadata": {},
   "outputs": [],
   "source": [
    "# Listing all columns that refer to tech and tools variables\n",
    "column_list = ['MiscTechWorkedWith',\n",
    "               'LanguageWorkedWith',\n",
    "               'NEWCollabToolsWorkedWith',\n",
    "               'DatabaseWorkedWith',\n",
    "               'PlatformWorkedWith',\n",
    "               'WebframeWorkedWith']"
   ]
  },
  {
   "cell_type": "code",
   "execution_count": 51,
   "metadata": {},
   "outputs": [],
   "source": [
    "# Need to create columns for all tools\n",
    "# https://stackoverflow.com/questions/18889588/create-dummies-from-column-with-multiple-values-in-pandas\n",
    "dfs_tools, issue_list = dummies(dfs, column_list)"
   ]
  },
  {
   "cell_type": "code",
   "execution_count": 54,
   "metadata": {
    "scrolled": true
   },
   "outputs": [],
   "source": [
    "all_tools = subset_creator(dfs_tools, column_list)"
   ]
  },
  {
   "cell_type": "code",
   "execution_count": 62,
   "metadata": {},
   "outputs": [],
   "source": [
    "# CURRENTLY NOT WORKING, because the function doesn't consider duplicated rows\n",
    "dfs_cooc3 = dfs_tools.groupby('DevType_RoleDescription')[all_tools].sum().transpose()"
   ]
  },
  {
   "cell_type": "code",
   "execution_count": 83,
   "metadata": {},
   "outputs": [],
   "source": [
    "# !!!!! IMPROVE THIS TO ADHERE TO DRY PRINCIPLES !!!! Adding % columns into the co-occurence table\n",
    "dfs_cooc3['DA_share']=dfs_cooc3['DA only']/n_da_only\n",
    "dfs_cooc3['DA and DS_share']=dfs_cooc3['DA and DS']/n_da_and_ds\n",
    "dfs_cooc3['DS_share']=dfs_cooc3['DS only']/n_ds_only"
   ]
  },
  {
   "cell_type": "code",
   "execution_count": 84,
   "metadata": {
    "collapsed": true
   },
   "outputs": [
    {
     "data": {
      "text/html": [
       "<div>\n",
       "<style scoped>\n",
       "    .dataframe tbody tr th:only-of-type {\n",
       "        vertical-align: middle;\n",
       "    }\n",
       "\n",
       "    .dataframe tbody tr th {\n",
       "        vertical-align: top;\n",
       "    }\n",
       "\n",
       "    .dataframe thead th {\n",
       "        text-align: right;\n",
       "    }\n",
       "</style>\n",
       "<table border=\"1\" class=\"dataframe\">\n",
       "  <thead>\n",
       "    <tr style=\"text-align: right;\">\n",
       "      <th>DevType_RoleDescription</th>\n",
       "      <th>DA and DS</th>\n",
       "      <th>DA only</th>\n",
       "      <th>DS only</th>\n",
       "      <th>DA_share</th>\n",
       "      <th>DA and DS_share</th>\n",
       "      <th>DS_share</th>\n",
       "    </tr>\n",
       "  </thead>\n",
       "  <tbody>\n",
       "    <tr>\n",
       "      <th>Heroku</th>\n",
       "      <td>123</td>\n",
       "      <td>192</td>\n",
       "      <td>200</td>\n",
       "      <td>0.079241</td>\n",
       "      <td>0.110413</td>\n",
       "      <td>0.082816</td>\n",
       "    </tr>\n",
       "    <tr>\n",
       "      <th>Vue.js</th>\n",
       "      <td>118</td>\n",
       "      <td>242</td>\n",
       "      <td>213</td>\n",
       "      <td>0.099876</td>\n",
       "      <td>0.105925</td>\n",
       "      <td>0.088199</td>\n",
       "    </tr>\n",
       "    <tr>\n",
       "      <th>Assembly</th>\n",
       "      <td>89</td>\n",
       "      <td>92</td>\n",
       "      <td>138</td>\n",
       "      <td>0.037969</td>\n",
       "      <td>0.079892</td>\n",
       "      <td>0.057143</td>\n",
       "    </tr>\n",
       "    <tr>\n",
       "      <th>Chef</th>\n",
       "      <td>37</td>\n",
       "      <td>29</td>\n",
       "      <td>34</td>\n",
       "      <td>0.011969</td>\n",
       "      <td>0.033214</td>\n",
       "      <td>0.014079</td>\n",
       "    </tr>\n",
       "    <tr>\n",
       "      <th>WordPress</th>\n",
       "      <td>164</td>\n",
       "      <td>408</td>\n",
       "      <td>228</td>\n",
       "      <td>0.168386</td>\n",
       "      <td>0.147217</td>\n",
       "      <td>0.094410</td>\n",
       "    </tr>\n",
       "    <tr>\n",
       "      <th>...</th>\n",
       "      <td>...</td>\n",
       "      <td>...</td>\n",
       "      <td>...</td>\n",
       "      <td>...</td>\n",
       "      <td>...</td>\n",
       "      <td>...</td>\n",
       "    </tr>\n",
       "    <tr>\n",
       "      <th>VBA</th>\n",
       "      <td>198</td>\n",
       "      <td>485</td>\n",
       "      <td>117</td>\n",
       "      <td>0.200165</td>\n",
       "      <td>0.177738</td>\n",
       "      <td>0.048447</td>\n",
       "    </tr>\n",
       "    <tr>\n",
       "      <th>Microsoft Teams</th>\n",
       "      <td>341</td>\n",
       "      <td>729</td>\n",
       "      <td>567</td>\n",
       "      <td>0.300867</td>\n",
       "      <td>0.306104</td>\n",
       "      <td>0.234783</td>\n",
       "    </tr>\n",
       "    <tr>\n",
       "      <th>Rust</th>\n",
       "      <td>50</td>\n",
       "      <td>63</td>\n",
       "      <td>164</td>\n",
       "      <td>0.026001</td>\n",
       "      <td>0.044883</td>\n",
       "      <td>0.067909</td>\n",
       "    </tr>\n",
       "    <tr>\n",
       "      <th>Xamarin</th>\n",
       "      <td>54</td>\n",
       "      <td>128</td>\n",
       "      <td>59</td>\n",
       "      <td>0.052827</td>\n",
       "      <td>0.048474</td>\n",
       "      <td>0.024431</td>\n",
       "    </tr>\n",
       "    <tr>\n",
       "      <th>Redis</th>\n",
       "      <td>150</td>\n",
       "      <td>285</td>\n",
       "      <td>414</td>\n",
       "      <td>0.117623</td>\n",
       "      <td>0.134650</td>\n",
       "      <td>0.171429</td>\n",
       "    </tr>\n",
       "  </tbody>\n",
       "</table>\n",
       "<p>100 rows × 6 columns</p>\n",
       "</div>"
      ],
      "text/plain": [
       "DevType_RoleDescription  DA and DS  DA only  DS only  DA_share  \\\n",
       "Heroku                         123      192      200  0.079241   \n",
       "Vue.js                         118      242      213  0.099876   \n",
       "Assembly                        89       92      138  0.037969   \n",
       "Chef                            37       29       34  0.011969   \n",
       "WordPress                      164      408      228  0.168386   \n",
       "...                            ...      ...      ...       ...   \n",
       "VBA                            198      485      117  0.200165   \n",
       "Microsoft Teams                341      729      567  0.300867   \n",
       "Rust                            50       63      164  0.026001   \n",
       "Xamarin                         54      128       59  0.052827   \n",
       "Redis                          150      285      414  0.117623   \n",
       "\n",
       "DevType_RoleDescription  DA and DS_share  DS_share  \n",
       "Heroku                          0.110413  0.082816  \n",
       "Vue.js                          0.105925  0.088199  \n",
       "Assembly                        0.079892  0.057143  \n",
       "Chef                            0.033214  0.014079  \n",
       "WordPress                       0.147217  0.094410  \n",
       "...                                  ...       ...  \n",
       "VBA                             0.177738  0.048447  \n",
       "Microsoft Teams                 0.306104  0.234783  \n",
       "Rust                            0.044883  0.067909  \n",
       "Xamarin                         0.048474  0.024431  \n",
       "Redis                           0.134650  0.171429  \n",
       "\n",
       "[100 rows x 6 columns]"
      ]
     },
     "execution_count": 84,
     "metadata": {},
     "output_type": "execute_result"
    }
   ],
   "source": [
    "dfs_cooc3"
   ]
  },
  {
   "cell_type": "code",
   "execution_count": 145,
   "metadata": {
    "scrolled": true
   },
   "outputs": [],
   "source": [
    "dfs_cooc4_da = grouping(dfs_tools, all_tools, 'Data or business analyst', True)\n",
    "dfs_cooc4_ds = grouping(dfs_tools, all_tools, 'Data scientist or machine learning specialist', True)\n",
    "dfs_cooc4 = pd.merge(dfs_cooc4_da, \n",
    "        dfs_cooc4_ds,\n",
    "        left_on = 'Categories',\n",
    "        right_on = 'Categories')\n",
    "dfs_cooc4 = dfs_cooc4.set_index('Categories')\n",
    "\n",
    "# Adding a difference column\n",
    "dfs_cooc4['Difference'] = dfs_cooc4['Data scientist or machine learning specialist'] - dfs_cooc4['Data or business analyst']\n",
    "\n",
    "# Removing tools with low base sizes\n",
    "min_bs = 100 # adjust as desired\n",
    "dfs_cooc4 = dfs_cooc4.loc[(dfs_cooc4['Data or business analyst_bs'] > min_bs) | (dfs_cooc4['Data scientist or machine learning specialist_bs'] > min_bs)]\n",
    "\n",
    "# Removing tools with low endorsement\n",
    "min_end = 0.3 # adjust as desired\n",
    "dfs_cooc4 = dfs_cooc4.loc[(dfs_cooc4['Data or business analyst'] > min_end) | (dfs_cooc4['Data scientist or machine learning specialist'] > min_end)]\n"
   ]
  },
  {
   "cell_type": "code",
   "execution_count": 146,
   "metadata": {
    "scrolled": true
   },
   "outputs": [
    {
     "data": {
      "text/html": [
       "<div>\n",
       "<style scoped>\n",
       "    .dataframe tbody tr th:only-of-type {\n",
       "        vertical-align: middle;\n",
       "    }\n",
       "\n",
       "    .dataframe tbody tr th {\n",
       "        vertical-align: top;\n",
       "    }\n",
       "\n",
       "    .dataframe thead th {\n",
       "        text-align: right;\n",
       "    }\n",
       "</style>\n",
       "<table border=\"1\" class=\"dataframe\">\n",
       "  <thead>\n",
       "    <tr style=\"text-align: right;\">\n",
       "      <th></th>\n",
       "      <th>Data or business analyst</th>\n",
       "      <th>Data or business analyst_bs</th>\n",
       "      <th>Data scientist or machine learning specialist</th>\n",
       "      <th>Data scientist or machine learning specialist_bs</th>\n",
       "      <th>Difference</th>\n",
       "    </tr>\n",
       "    <tr>\n",
       "      <th>Categories</th>\n",
       "      <th></th>\n",
       "      <th></th>\n",
       "      <th></th>\n",
       "      <th></th>\n",
       "      <th></th>\n",
       "    </tr>\n",
       "  </thead>\n",
       "  <tbody>\n",
       "    <tr>\n",
       "      <th>Microsoft Azure</th>\n",
       "      <td>0.367543</td>\n",
       "      <td>1300</td>\n",
       "      <td>0.316237</td>\n",
       "      <td>1116</td>\n",
       "      <td>-0.051306</td>\n",
       "    </tr>\n",
       "    <tr>\n",
       "      <th>Java</th>\n",
       "      <td>0.303364</td>\n",
       "      <td>1073</td>\n",
       "      <td>0.337206</td>\n",
       "      <td>1190</td>\n",
       "      <td>0.033842</td>\n",
       "    </tr>\n",
       "    <tr>\n",
       "      <th>Confluence</th>\n",
       "      <td>0.254170</td>\n",
       "      <td>899</td>\n",
       "      <td>0.308019</td>\n",
       "      <td>1087</td>\n",
       "      <td>0.053849</td>\n",
       "    </tr>\n",
       "    <tr>\n",
       "      <th>Bash/Shell/PowerShell</th>\n",
       "      <td>0.361889</td>\n",
       "      <td>1280</td>\n",
       "      <td>0.409464</td>\n",
       "      <td>1445</td>\n",
       "      <td>0.047576</td>\n",
       "    </tr>\n",
       "    <tr>\n",
       "      <th>TensorFlow</th>\n",
       "      <td>0.130619</td>\n",
       "      <td>462</td>\n",
       "      <td>0.382545</td>\n",
       "      <td>1350</td>\n",
       "      <td>0.251925</td>\n",
       "    </tr>\n",
       "    <tr>\n",
       "      <th>Jira</th>\n",
       "      <td>0.386486</td>\n",
       "      <td>1367</td>\n",
       "      <td>0.436668</td>\n",
       "      <td>1541</td>\n",
       "      <td>0.050182</td>\n",
       "    </tr>\n",
       "    <tr>\n",
       "      <th>Slack</th>\n",
       "      <td>0.415041</td>\n",
       "      <td>1468</td>\n",
       "      <td>0.530179</td>\n",
       "      <td>1871</td>\n",
       "      <td>0.115138</td>\n",
       "    </tr>\n",
       "    <tr>\n",
       "      <th>Google Suite (Docs, Meet, etc)</th>\n",
       "      <td>0.378569</td>\n",
       "      <td>1339</td>\n",
       "      <td>0.444319</td>\n",
       "      <td>1568</td>\n",
       "      <td>0.065749</td>\n",
       "    </tr>\n",
       "    <tr>\n",
       "      <th>Gitlab</th>\n",
       "      <td>0.274244</td>\n",
       "      <td>970</td>\n",
       "      <td>0.370643</td>\n",
       "      <td>1308</td>\n",
       "      <td>0.096400</td>\n",
       "    </tr>\n",
       "    <tr>\n",
       "      <th>Linux</th>\n",
       "      <td>0.472152</td>\n",
       "      <td>1670</td>\n",
       "      <td>0.650326</td>\n",
       "      <td>2295</td>\n",
       "      <td>0.178174</td>\n",
       "    </tr>\n",
       "    <tr>\n",
       "      <th>Docker</th>\n",
       "      <td>0.277354</td>\n",
       "      <td>981</td>\n",
       "      <td>0.421082</td>\n",
       "      <td>1486</td>\n",
       "      <td>0.143729</td>\n",
       "    </tr>\n",
       "    <tr>\n",
       "      <th>jQuery</th>\n",
       "      <td>0.338705</td>\n",
       "      <td>1198</td>\n",
       "      <td>0.232927</td>\n",
       "      <td>822</td>\n",
       "      <td>-0.105778</td>\n",
       "    </tr>\n",
       "    <tr>\n",
       "      <th>Windows</th>\n",
       "      <td>0.594289</td>\n",
       "      <td>2102</td>\n",
       "      <td>0.482290</td>\n",
       "      <td>1702</td>\n",
       "      <td>-0.111999</td>\n",
       "    </tr>\n",
       "    <tr>\n",
       "      <th>Microsoft SQL Server</th>\n",
       "      <td>0.465366</td>\n",
       "      <td>1646</td>\n",
       "      <td>0.271748</td>\n",
       "      <td>959</td>\n",
       "      <td>-0.193618</td>\n",
       "    </tr>\n",
       "    <tr>\n",
       "      <th>SQLite</th>\n",
       "      <td>0.303082</td>\n",
       "      <td>1072</td>\n",
       "      <td>0.329272</td>\n",
       "      <td>1162</td>\n",
       "      <td>0.026190</td>\n",
       "    </tr>\n",
       "    <tr>\n",
       "      <th>Github</th>\n",
       "      <td>0.679107</td>\n",
       "      <td>2402</td>\n",
       "      <td>0.781808</td>\n",
       "      <td>2759</td>\n",
       "      <td>0.102701</td>\n",
       "    </tr>\n",
       "    <tr>\n",
       "      <th>Pandas</th>\n",
       "      <td>0.268589</td>\n",
       "      <td>950</td>\n",
       "      <td>0.508359</td>\n",
       "      <td>1794</td>\n",
       "      <td>0.239770</td>\n",
       "    </tr>\n",
       "    <tr>\n",
       "      <th>JavaScript</th>\n",
       "      <td>0.586090</td>\n",
       "      <td>2073</td>\n",
       "      <td>0.480306</td>\n",
       "      <td>1695</td>\n",
       "      <td>-0.105784</td>\n",
       "    </tr>\n",
       "    <tr>\n",
       "      <th>SQL</th>\n",
       "      <td>0.749505</td>\n",
       "      <td>2651</td>\n",
       "      <td>0.585718</td>\n",
       "      <td>2067</td>\n",
       "      <td>-0.163787</td>\n",
       "    </tr>\n",
       "    <tr>\n",
       "      <th>Python</th>\n",
       "      <td>0.530393</td>\n",
       "      <td>1876</td>\n",
       "      <td>0.788042</td>\n",
       "      <td>2781</td>\n",
       "      <td>0.257649</td>\n",
       "    </tr>\n",
       "    <tr>\n",
       "      <th>AWS</th>\n",
       "      <td>0.262369</td>\n",
       "      <td>928</td>\n",
       "      <td>0.340606</td>\n",
       "      <td>1202</td>\n",
       "      <td>0.078237</td>\n",
       "    </tr>\n",
       "    <tr>\n",
       "      <th>PostgreSQL</th>\n",
       "      <td>0.352559</td>\n",
       "      <td>1247</td>\n",
       "      <td>0.404080</td>\n",
       "      <td>1426</td>\n",
       "      <td>0.051522</td>\n",
       "    </tr>\n",
       "    <tr>\n",
       "      <th>HTML/CSS</th>\n",
       "      <td>0.588069</td>\n",
       "      <td>2080</td>\n",
       "      <td>0.464721</td>\n",
       "      <td>1640</td>\n",
       "      <td>-0.123348</td>\n",
       "    </tr>\n",
       "    <tr>\n",
       "      <th>MySQL</th>\n",
       "      <td>0.484309</td>\n",
       "      <td>1713</td>\n",
       "      <td>0.444885</td>\n",
       "      <td>1570</td>\n",
       "      <td>-0.039423</td>\n",
       "    </tr>\n",
       "    <tr>\n",
       "      <th>C#</th>\n",
       "      <td>0.320328</td>\n",
       "      <td>1133</td>\n",
       "      <td>0.209124</td>\n",
       "      <td>738</td>\n",
       "      <td>-0.111204</td>\n",
       "    </tr>\n",
       "    <tr>\n",
       "      <th>Microsoft Teams</th>\n",
       "      <td>0.302516</td>\n",
       "      <td>1070</td>\n",
       "      <td>0.257297</td>\n",
       "      <td>908</td>\n",
       "      <td>-0.045220</td>\n",
       "    </tr>\n",
       "  </tbody>\n",
       "</table>\n",
       "</div>"
      ],
      "text/plain": [
       "                                Data or business analyst  \\\n",
       "Categories                                                 \n",
       "Microsoft Azure                                 0.367543   \n",
       "Java                                            0.303364   \n",
       "Confluence                                      0.254170   \n",
       "Bash/Shell/PowerShell                           0.361889   \n",
       "TensorFlow                                      0.130619   \n",
       "Jira                                            0.386486   \n",
       "Slack                                           0.415041   \n",
       "Google Suite (Docs, Meet, etc)                  0.378569   \n",
       "Gitlab                                          0.274244   \n",
       "Linux                                           0.472152   \n",
       "Docker                                          0.277354   \n",
       "jQuery                                          0.338705   \n",
       "Windows                                         0.594289   \n",
       "Microsoft SQL Server                            0.465366   \n",
       "SQLite                                          0.303082   \n",
       "Github                                          0.679107   \n",
       "Pandas                                          0.268589   \n",
       "JavaScript                                      0.586090   \n",
       "SQL                                             0.749505   \n",
       "Python                                          0.530393   \n",
       "AWS                                             0.262369   \n",
       "PostgreSQL                                      0.352559   \n",
       "HTML/CSS                                        0.588069   \n",
       "MySQL                                           0.484309   \n",
       "C#                                              0.320328   \n",
       "Microsoft Teams                                 0.302516   \n",
       "\n",
       "                                Data or business analyst_bs  \\\n",
       "Categories                                                    \n",
       "Microsoft Azure                                        1300   \n",
       "Java                                                   1073   \n",
       "Confluence                                              899   \n",
       "Bash/Shell/PowerShell                                  1280   \n",
       "TensorFlow                                              462   \n",
       "Jira                                                   1367   \n",
       "Slack                                                  1468   \n",
       "Google Suite (Docs, Meet, etc)                         1339   \n",
       "Gitlab                                                  970   \n",
       "Linux                                                  1670   \n",
       "Docker                                                  981   \n",
       "jQuery                                                 1198   \n",
       "Windows                                                2102   \n",
       "Microsoft SQL Server                                   1646   \n",
       "SQLite                                                 1072   \n",
       "Github                                                 2402   \n",
       "Pandas                                                  950   \n",
       "JavaScript                                             2073   \n",
       "SQL                                                    2651   \n",
       "Python                                                 1876   \n",
       "AWS                                                     928   \n",
       "PostgreSQL                                             1247   \n",
       "HTML/CSS                                               2080   \n",
       "MySQL                                                  1713   \n",
       "C#                                                     1133   \n",
       "Microsoft Teams                                        1070   \n",
       "\n",
       "                                Data scientist or machine learning specialist  \\\n",
       "Categories                                                                      \n",
       "Microsoft Azure                                                      0.316237   \n",
       "Java                                                                 0.337206   \n",
       "Confluence                                                           0.308019   \n",
       "Bash/Shell/PowerShell                                                0.409464   \n",
       "TensorFlow                                                           0.382545   \n",
       "Jira                                                                 0.436668   \n",
       "Slack                                                                0.530179   \n",
       "Google Suite (Docs, Meet, etc)                                       0.444319   \n",
       "Gitlab                                                               0.370643   \n",
       "Linux                                                                0.650326   \n",
       "Docker                                                               0.421082   \n",
       "jQuery                                                               0.232927   \n",
       "Windows                                                              0.482290   \n",
       "Microsoft SQL Server                                                 0.271748   \n",
       "SQLite                                                               0.329272   \n",
       "Github                                                               0.781808   \n",
       "Pandas                                                               0.508359   \n",
       "JavaScript                                                           0.480306   \n",
       "SQL                                                                  0.585718   \n",
       "Python                                                               0.788042   \n",
       "AWS                                                                  0.340606   \n",
       "PostgreSQL                                                           0.404080   \n",
       "HTML/CSS                                                             0.464721   \n",
       "MySQL                                                                0.444885   \n",
       "C#                                                                   0.209124   \n",
       "Microsoft Teams                                                      0.257297   \n",
       "\n",
       "                                Data scientist or machine learning specialist_bs  \\\n",
       "Categories                                                                         \n",
       "Microsoft Azure                                                             1116   \n",
       "Java                                                                        1190   \n",
       "Confluence                                                                  1087   \n",
       "Bash/Shell/PowerShell                                                       1445   \n",
       "TensorFlow                                                                  1350   \n",
       "Jira                                                                        1541   \n",
       "Slack                                                                       1871   \n",
       "Google Suite (Docs, Meet, etc)                                              1568   \n",
       "Gitlab                                                                      1308   \n",
       "Linux                                                                       2295   \n",
       "Docker                                                                      1486   \n",
       "jQuery                                                                       822   \n",
       "Windows                                                                     1702   \n",
       "Microsoft SQL Server                                                         959   \n",
       "SQLite                                                                      1162   \n",
       "Github                                                                      2759   \n",
       "Pandas                                                                      1794   \n",
       "JavaScript                                                                  1695   \n",
       "SQL                                                                         2067   \n",
       "Python                                                                      2781   \n",
       "AWS                                                                         1202   \n",
       "PostgreSQL                                                                  1426   \n",
       "HTML/CSS                                                                    1640   \n",
       "MySQL                                                                       1570   \n",
       "C#                                                                           738   \n",
       "Microsoft Teams                                                              908   \n",
       "\n",
       "                                Difference  \n",
       "Categories                                  \n",
       "Microsoft Azure                  -0.051306  \n",
       "Java                              0.033842  \n",
       "Confluence                        0.053849  \n",
       "Bash/Shell/PowerShell             0.047576  \n",
       "TensorFlow                        0.251925  \n",
       "Jira                              0.050182  \n",
       "Slack                             0.115138  \n",
       "Google Suite (Docs, Meet, etc)    0.065749  \n",
       "Gitlab                            0.096400  \n",
       "Linux                             0.178174  \n",
       "Docker                            0.143729  \n",
       "jQuery                           -0.105778  \n",
       "Windows                          -0.111999  \n",
       "Microsoft SQL Server             -0.193618  \n",
       "SQLite                            0.026190  \n",
       "Github                            0.102701  \n",
       "Pandas                            0.239770  \n",
       "JavaScript                       -0.105784  \n",
       "SQL                              -0.163787  \n",
       "Python                            0.257649  \n",
       "AWS                               0.078237  \n",
       "PostgreSQL                        0.051522  \n",
       "HTML/CSS                         -0.123348  \n",
       "MySQL                            -0.039423  \n",
       "C#                               -0.111204  \n",
       "Microsoft Teams                  -0.045220  "
      ]
     },
     "execution_count": 146,
     "metadata": {},
     "output_type": "execute_result"
    }
   ],
   "source": [
    "dfs_cooc4"
   ]
  },
  {
   "cell_type": "code",
   "execution_count": 149,
   "metadata": {
    "collapsed": true
   },
   "outputs": [
    {
     "data": {
      "image/png": "[encoded data removed]",
      "text/plain": [
       "<Figure size 720x1080 with 1 Axes>"
      ]
     },
     "metadata": {
      "needs_background": "light"
     },
     "output_type": "display_data"
    }
   ],
   "source": [
    "plt.rcParams[\"figure.figsize\"] = [10, 15]\n",
    "dfs_cooc4[['Data or business analyst','Data scientist or machine learning specialist', 'Difference']].sort_values(by=['Difference']).plot.barh();"
   ]
  }
 ],
 "metadata": {
  "kernelspec": {
   "display_name": "Python 3",
   "language": "python",
   "name": "python3"
  },
  "language_info": {
   "codemirror_mode": {
    "name": "ipython",
    "version": 3
   },
   "file_extension": ".py",
   "mimetype": "text/x-python",
   "name": "python",
   "nbconvert_exporter": "python",
   "pygments_lexer": "ipython3",
   "version": "3.7.10"
  }
 },
 "nbformat": 4,
 "nbformat_minor": 2
}
