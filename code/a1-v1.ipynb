{
 "cells": [
  {
   "cell_type": "markdown",
   "metadata": {},
   "source": [
    "Link to kaggle dataset: https://www.kaggle.com/andrewmvd/data-scientist-jobs from user Larxel. Downloaded on 30/06 at roughly 9:15am.\n",
    "\n",
    "Link to Stackoverflow dataset: https://insights.stackoverflow.com/survey - downloaded 2020 survey results.\n",
    "\n",
    "\n",
    "### Idea\n",
    "Compare Data Scientist and Data Analyst role profiles by required skills\n",
    "\n",
    "### Reasoning\n",
    "For people at the beginning of their career in data, it can be difficult to understand the difference between data scientist and data analyst roles. What is the day to day like? How much coding will I be doing? Having recently applied for jobs again myself, I find that the definition varies a lot between companies. Some, one might even argue, advertise using the \"data scientist\" title because it sounds more \"sexy\". So what is the difference? How clear-cut is it? And what skills are needed to land a job?\n",
    "\n",
    "A lot of what you do in a job day to day is defined by the technology you work with. The technology is also an indicator for how much code you will actually be writing and how \"technical\" a role is. I am therefore looking at the technology that's being used by data analysts versus data scientists to understand where the differences lie. I will be looking at two data sources: First, I will look at job descriptions to understand what skills are crucial to put on your CV to score a job in either field and how this differs. Secondly, I will have a look at the stackoverflow developer survey 2020 to understand which tools data analysts and data scientists use most and are planning to learn. \n",
    "Between these two analyses, we should be able to see the differences between Data Analyst and Data Scientist jobs. Also, we should be able to see if the reality of the jobs matches the job descriptions.\n",
    "\n",
    "##### Questions:\n",
    "* How distinctive are these roles from each other and from other roles in the field? \n",
    "    \n",
    "Looking only at the roles of Data Analysts and Data Scientists, 81% of people in the field say they are only one of the two. 19% state they are both. THis looks like people working in these roles seem to distinguish them quite clearly from one another. \n",
    "\n",
    "However, only a small share of Data Analysts and Data Scientists does not also consider themselves as working in another role. Data Analysts declare on average more other roles than Data Scientists. Those who state they are Data Analysts (but not Data Scientists) list on average 5.1 roles, whereas those who state they are Data Scientists (but not Data Analysts) list 3.9 roles.\n",
    "\n",
    "Data Analysts often also work as back-end Developers (57%), full-stack Developers (48%) or Database Administrators (38%). Only in 5th place with 31% comes 'Data Scientist or Machine Learning Specialist'.\n",
    "Data Scientists similarly also work as back-end Developers (47%) and full-stack Developers (37%). In third place comes 'Data or business analyst' with 32%.\n",
    "\n",
    "The biggest differences between Data Analysts and Data Scientists are for the roles Scientist and Academic Researcher (Data Scientist +12%pts) and Database Administrator, front-end Developer and desktop and enterprise applications Developer (Data Analyst +20%pts, +14%pts, +13%pts)\n",
    "\n",
    "The data unfortunately provides no insights into which role respondents consider their \"primary\" role. It is therefore quite possible that many consider themselves as Data Analysts, because data analysis is part of another, *primary* role they fulfil (likely a Developer role). Data Scientist, in comparison, seems to be somewhat more of a \"standalone\" role.\n",
    "\n",
    "What does this mean for aspiring Data Analysts? Will they always have to wear multiple hats and even bring developer skills to the table? Or is the stackoverflow data biased towards developers who also do data analysis and does not actually capture many \"pure\" Data Analysts? Based on my own recent job search, the latter seems more likely. \n",
    "\n",
    "> Data Analysis skills are important in many roles\n",
    "\n",
    "> Data Scientist is a more \"standalone\" role, at least in the Stackoverflow/Developer world\n",
    "\n",
    "* What tools are Data Analysts using versus what tools are Data Scientists using (Stackoverflow)?\n",
    "\n",
    "Data Analysts are stronger on the SQL side, wherras DS use more Python (+ libraries)\n",
    "\n",
    "* What are they each looking to start using next year (Stackoverflow)? Is either group trying to learn more about the \"other group's\" tools?\n",
    "\n",
    "What they want to use in the next year largely reflects what they are already using\n",
    "\n",
    "* Do job descriptions reflect this difference accurately? What skills are required according to job descriptions (Kaggle) and does this match what we see from Stackoverflow?\n",
    "\n",
    "Python and R for DS, Excel, Tableau for Data Analyst. SQL required in both.\n",
    "\n",
    "### Further analysis:\n",
    "* Bring the two analyses together: Are job ads acurately reflecting what is used in the job? E.g. job ads say DS use 80 SQL, but in reality it is only 50% (this is just an example). Finding would be: Job ads suggest you will be doing more/less of this than you probably will in the end.\n",
    "\n",
    "### Possible further improvement of existing analysis:\n",
    "* Different charts\n",
    "* Statistical analysis of % differences - are they significant/for which tools are they significant?\n",
    "\n",
    "\n",
    "### Other questions\n",
    "* Do DS or DA desire to use more new tools next year?\n",
    "* Do people in smaller companies have to take on more different roles?\n",
    "* Kaggle: Do requirements become more similar or more different the more senior a role gets?\n",
    "* Is job satisfaction higher amongst Data Scientists?\n",
    "* Do Data Analysts try to learn tools that are used more by data scientists?\n",
    "* Which other roles do the DSs and DAs usually also fulfill? >> Done, could potentially make a nicer chart\n"
   ]
  },
  {
   "cell_type": "markdown",
   "metadata": {},
   "source": [
    "# Preparations"
   ]
  },
  {
   "cell_type": "code",
   "execution_count": 56,
   "metadata": {},
   "outputs": [],
   "source": [
    "import os\n",
    "import numpy as np\n",
    "import pandas as pd\n",
    "import seaborn as sns\n",
    "import matplotlib.pyplot as plt\n",
    "import re\n",
    "import networkx as nx"
   ]
  },
  {
   "cell_type": "code",
   "execution_count": 2,
   "metadata": {},
   "outputs": [],
   "source": [
    "os.chdir(r\"C:\\Users\\j\\Documents\\udacity-ds-nanodegree\\assignment1\\data\")"
   ]
  },
  {
   "cell_type": "code",
   "execution_count": 3,
   "metadata": {},
   "outputs": [],
   "source": [
    "pd.set_option(\"display.max_columns\", None)"
   ]
  },
  {
   "cell_type": "markdown",
   "metadata": {},
   "source": [
    "## Reading in data"
   ]
  },
  {
   "cell_type": "code",
   "execution_count": 4,
   "metadata": {},
   "outputs": [],
   "source": [
    "dfk = pd.read_csv(\n",
    "    r\"C:\\Users\\j\\Documents\\udacity-ds-nanodegree\\assignment1\\data\\kaggle_ds_jobs\\DataScientist.csv\")"
   ]
  },
  {
   "cell_type": "code",
   "execution_count": 5,
   "metadata": {},
   "outputs": [],
   "source": [
    "dfs = pd.read_csv(r\"stackoverflow_survey\\survey_results_public.csv\")"
   ]
  },
  {
   "cell_type": "markdown",
   "metadata": {},
   "source": [
    "# Part 1 - The Kaggle Job Data"
   ]
  },
  {
   "cell_type": "markdown",
   "metadata": {
    "heading_collapsed": true
   },
   "source": [
    "## Inspecting data"
   ]
  },
  {
   "cell_type": "code",
   "execution_count": 6,
   "metadata": {
    "collapsed": true,
    "hidden": true
   },
   "outputs": [
    {
     "data": {
      "text/html": [
       "<div>\n",
       "<style scoped>\n",
       "    .dataframe tbody tr th:only-of-type {\n",
       "        vertical-align: middle;\n",
       "    }\n",
       "\n",
       "    .dataframe tbody tr th {\n",
       "        vertical-align: top;\n",
       "    }\n",
       "\n",
       "    .dataframe thead th {\n",
       "        text-align: right;\n",
       "    }\n",
       "</style>\n",
       "<table border=\"1\" class=\"dataframe\">\n",
       "  <thead>\n",
       "    <tr style=\"text-align: right;\">\n",
       "      <th></th>\n",
       "      <th>Unnamed: 0</th>\n",
       "      <th>index</th>\n",
       "      <th>Job Title</th>\n",
       "      <th>Salary Estimate</th>\n",
       "      <th>Job Description</th>\n",
       "      <th>Rating</th>\n",
       "      <th>Company Name</th>\n",
       "      <th>Location</th>\n",
       "      <th>Headquarters</th>\n",
       "      <th>Size</th>\n",
       "      <th>Founded</th>\n",
       "      <th>Type of ownership</th>\n",
       "      <th>Industry</th>\n",
       "      <th>Sector</th>\n",
       "      <th>Revenue</th>\n",
       "      <th>Competitors</th>\n",
       "      <th>Easy Apply</th>\n",
       "    </tr>\n",
       "  </thead>\n",
       "  <tbody>\n",
       "    <tr>\n",
       "      <th>0</th>\n",
       "      <td>0</td>\n",
       "      <td>0</td>\n",
       "      <td>Senior Data Scientist</td>\n",
       "      <td>$111K-$181K (Glassdoor est.)</td>\n",
       "      <td>ABOUT HOPPER\\n\\nAt Hopper, we’re on a mission ...</td>\n",
       "      <td>3.5</td>\n",
       "      <td>Hopper\\n3.5</td>\n",
       "      <td>New York, NY</td>\n",
       "      <td>Montreal, Canada</td>\n",
       "      <td>501 to 1000 employees</td>\n",
       "      <td>2007</td>\n",
       "      <td>Company - Private</td>\n",
       "      <td>Travel Agencies</td>\n",
       "      <td>Travel &amp; Tourism</td>\n",
       "      <td>Unknown / Non-Applicable</td>\n",
       "      <td>-1</td>\n",
       "      <td>-1</td>\n",
       "    </tr>\n",
       "    <tr>\n",
       "      <th>1</th>\n",
       "      <td>1</td>\n",
       "      <td>1</td>\n",
       "      <td>Data Scientist, Product Analytics</td>\n",
       "      <td>$111K-$181K (Glassdoor est.)</td>\n",
       "      <td>At Noom, we use scientifically proven methods ...</td>\n",
       "      <td>4.5</td>\n",
       "      <td>Noom US\\n4.5</td>\n",
       "      <td>New York, NY</td>\n",
       "      <td>New York, NY</td>\n",
       "      <td>1001 to 5000 employees</td>\n",
       "      <td>2008</td>\n",
       "      <td>Company - Private</td>\n",
       "      <td>Health, Beauty, &amp; Fitness</td>\n",
       "      <td>Consumer Services</td>\n",
       "      <td>Unknown / Non-Applicable</td>\n",
       "      <td>-1</td>\n",
       "      <td>-1</td>\n",
       "    </tr>\n",
       "    <tr>\n",
       "      <th>2</th>\n",
       "      <td>2</td>\n",
       "      <td>2</td>\n",
       "      <td>Data Science Manager</td>\n",
       "      <td>$111K-$181K (Glassdoor est.)</td>\n",
       "      <td>Decode_M\\n\\nhttps://www.decode-m.com/\\n\\nData ...</td>\n",
       "      <td>-1.0</td>\n",
       "      <td>Decode_M</td>\n",
       "      <td>New York, NY</td>\n",
       "      <td>New York, NY</td>\n",
       "      <td>1 to 50 employees</td>\n",
       "      <td>-1</td>\n",
       "      <td>Unknown</td>\n",
       "      <td>-1</td>\n",
       "      <td>-1</td>\n",
       "      <td>Unknown / Non-Applicable</td>\n",
       "      <td>-1</td>\n",
       "      <td>True</td>\n",
       "    </tr>\n",
       "    <tr>\n",
       "      <th>3</th>\n",
       "      <td>3</td>\n",
       "      <td>3</td>\n",
       "      <td>Data Analyst</td>\n",
       "      <td>$111K-$181K (Glassdoor est.)</td>\n",
       "      <td>Sapphire Digital seeks a dynamic and driven mi...</td>\n",
       "      <td>3.4</td>\n",
       "      <td>Sapphire Digital\\n3.4</td>\n",
       "      <td>Lyndhurst, NJ</td>\n",
       "      <td>Lyndhurst, NJ</td>\n",
       "      <td>201 to 500 employees</td>\n",
       "      <td>2019</td>\n",
       "      <td>Company - Private</td>\n",
       "      <td>Internet</td>\n",
       "      <td>Information Technology</td>\n",
       "      <td>Unknown / Non-Applicable</td>\n",
       "      <td>Zocdoc, Healthgrades</td>\n",
       "      <td>-1</td>\n",
       "    </tr>\n",
       "    <tr>\n",
       "      <th>4</th>\n",
       "      <td>4</td>\n",
       "      <td>4</td>\n",
       "      <td>Director, Data Science</td>\n",
       "      <td>$111K-$181K (Glassdoor est.)</td>\n",
       "      <td>Director, Data Science - (200537)\\nDescription...</td>\n",
       "      <td>3.4</td>\n",
       "      <td>United Entertainment Group\\n3.4</td>\n",
       "      <td>New York, NY</td>\n",
       "      <td>New York, NY</td>\n",
       "      <td>51 to 200 employees</td>\n",
       "      <td>2007</td>\n",
       "      <td>Company - Private</td>\n",
       "      <td>Advertising &amp; Marketing</td>\n",
       "      <td>Business Services</td>\n",
       "      <td>Unknown / Non-Applicable</td>\n",
       "      <td>BBDO, Grey Group, Droga5</td>\n",
       "      <td>-1</td>\n",
       "    </tr>\n",
       "  </tbody>\n",
       "</table>\n",
       "</div>"
      ],
      "text/plain": [
       "   Unnamed: 0  index                          Job Title  \\\n",
       "0           0      0              Senior Data Scientist   \n",
       "1           1      1  Data Scientist, Product Analytics   \n",
       "2           2      2               Data Science Manager   \n",
       "3           3      3                       Data Analyst   \n",
       "4           4      4             Director, Data Science   \n",
       "\n",
       "                Salary Estimate  \\\n",
       "0  $111K-$181K (Glassdoor est.)   \n",
       "1  $111K-$181K (Glassdoor est.)   \n",
       "2  $111K-$181K (Glassdoor est.)   \n",
       "3  $111K-$181K (Glassdoor est.)   \n",
       "4  $111K-$181K (Glassdoor est.)   \n",
       "\n",
       "                                     Job Description  Rating  \\\n",
       "0  ABOUT HOPPER\\n\\nAt Hopper, we’re on a mission ...     3.5   \n",
       "1  At Noom, we use scientifically proven methods ...     4.5   \n",
       "2  Decode_M\\n\\nhttps://www.decode-m.com/\\n\\nData ...    -1.0   \n",
       "3  Sapphire Digital seeks a dynamic and driven mi...     3.4   \n",
       "4  Director, Data Science - (200537)\\nDescription...     3.4   \n",
       "\n",
       "                      Company Name       Location      Headquarters  \\\n",
       "0                      Hopper\\n3.5   New York, NY  Montreal, Canada   \n",
       "1                     Noom US\\n4.5   New York, NY      New York, NY   \n",
       "2                         Decode_M   New York, NY      New York, NY   \n",
       "3            Sapphire Digital\\n3.4  Lyndhurst, NJ     Lyndhurst, NJ   \n",
       "4  United Entertainment Group\\n3.4   New York, NY      New York, NY   \n",
       "\n",
       "                     Size  Founded  Type of ownership  \\\n",
       "0   501 to 1000 employees     2007  Company - Private   \n",
       "1  1001 to 5000 employees     2008  Company - Private   \n",
       "2       1 to 50 employees       -1            Unknown   \n",
       "3    201 to 500 employees     2019  Company - Private   \n",
       "4     51 to 200 employees     2007  Company - Private   \n",
       "\n",
       "                    Industry                  Sector  \\\n",
       "0            Travel Agencies        Travel & Tourism   \n",
       "1  Health, Beauty, & Fitness       Consumer Services   \n",
       "2                         -1                      -1   \n",
       "3                   Internet  Information Technology   \n",
       "4    Advertising & Marketing       Business Services   \n",
       "\n",
       "                    Revenue               Competitors Easy Apply  \n",
       "0  Unknown / Non-Applicable                        -1         -1  \n",
       "1  Unknown / Non-Applicable                        -1         -1  \n",
       "2  Unknown / Non-Applicable                        -1       True  \n",
       "3  Unknown / Non-Applicable      Zocdoc, Healthgrades         -1  \n",
       "4  Unknown / Non-Applicable  BBDO, Grey Group, Droga5         -1  "
      ]
     },
     "execution_count": 6,
     "metadata": {},
     "output_type": "execute_result"
    }
   ],
   "source": [
    "dfk.head()"
   ]
  },
  {
   "cell_type": "code",
   "execution_count": null,
   "metadata": {
    "hidden": true
   },
   "outputs": [],
   "source": [
    "# Checking for base size\n",
    "dfk.shape"
   ]
  },
  {
   "cell_type": "code",
   "execution_count": null,
   "metadata": {
    "hidden": true
   },
   "outputs": [],
   "source": [
    "# Checking for missing data\n",
    "dfk.info()"
   ]
  },
  {
   "cell_type": "markdown",
   "metadata": {
    "heading_collapsed": true
   },
   "source": [
    "## Defining functions"
   ]
  },
  {
   "cell_type": "markdown",
   "metadata": {
    "heading_collapsed": true
   },
   "source": [
    "## Creating comprehensive list of tools"
   ]
  },
  {
   "cell_type": "markdown",
   "metadata": {
    "hidden": true
   },
   "source": [
    "Sources: \n",
    "* Tools listed in Stackoverflow survey\n",
    "* Top BI, statistical software & data visualisation tools as found online: (Note: There is a plethora of tools out there. After some research I came up with the list below which contains, to my knowledge, all currently highly popular tools plus some more I am myself unfamiliar with. In the analysis, any tools that have low incidence will be removed)\n",
    "    * https://www.datapine.com/articles/best-bi-tools-software-review-list\n",
    "     * Datapine\n",
    "     * SAS\n",
    "     * Clear Analytics\n",
    "     * SAP\n",
    "     * Domo\n",
    "     * Metric Insights\n",
    "     * Zoho Analytics\n",
    "     * Microstrategy\n",
    "     * Gooddata\n",
    "     * Cognos Analytics (by IBM)\n",
    "     * QlikView\n",
    "     * Yellowfin\n",
    "    * https://towardsdatascience.com/top-5-bi-tools-that-you-must-use-for-data-visualization-7ccc2a852bd3\n",
    "     * Qlik Sense\n",
    "     * Tableau\n",
    "     * Power BI (by Microsoft)\n",
    "     * SAP Hana\n",
    "    * https://www.cio.com/article/3322749/top-business-intelligence-bi-tools.html\n",
    "     * Board (remove as potentially confusing word)\n",
    "     * Dundas BI\n",
    "     * MicroStrategy\n",
    "     * Oracly Analytics Cloud\n",
    "     * Sisense\n",
    "     * Tibco\n",
    "    * https://www.forbes.com/sites/bernardmarr/2020/05/22/the-9-best-analytics-tools-for-data-visualization-available-today/?sh=36ebb06a4743\n",
    "     * Infogram\n",
    "     * Google Charts\n",
    "     * Paraview\n",
    "     * Looker\n",
    "    * https://uk.pcmag.com/cloud-services/83744/the-best-data-visualization-tools-for-2020\n",
    "     * Google Analytics\n",
    "    * https://mopinion.com/business-intelligence-bi-tools-overview/\n",
    "     * Oracle BI\n",
    "    * https://www.trustradius.com/business-intelligence-bi\n",
    "     * SAP Analytics Cloud\n",
    "    * Selection of https://www.capterra.com/statistical-analysis-software/\n",
    "     * SPSS\n",
    "     * Stata\n",
    "     * Minitab\n",
    "     * Matlab\n",
    "     * Alteryx\n",
    "     * Google DataStudio\n",
    "* Excel\n",
    "* Adding other names of tools in list, e.g. abbreviations of names (e.g. GCP = Google Cloud Platform)"
   ]
  },
  {
   "cell_type": "code",
   "execution_count": null,
   "metadata": {
    "hidden": true
   },
   "outputs": [],
   "source": [
    "online_research_list = ['Datapine',\n",
    "                   'SAS',\n",
    "                   'Clear Analytics', \n",
    "                   'SAP', \n",
    "                   'Domo', \n",
    "                   'Metric Insights', \n",
    "                   'Zoho Analytics',\n",
    "                   'Microstrategy',\n",
    "                   'GoodData',\n",
    "                   'Cognos Analytics',\n",
    "                  'QlikView',\n",
    "                  'Yellowfin',\n",
    "                  'Qlik Sense',\n",
    "                  'Tableau',\n",
    "                  'Power BI',\n",
    "                  'SAP Hana',\n",
    "                  'Dundas BI',\n",
    "                  'MicroStrategy',\n",
    "                  'Oracle Analytics Cloud',\n",
    "                  'Sisense',\n",
    "                  'Tibco',\n",
    "                  'Infrogram',\n",
    "                  'Google Charts',\n",
    "                  'Paraview',\n",
    "                  'Looker',\n",
    "                  'Google Analytics',\n",
    "                  'Oracle BI',\n",
    "                  'SAP Analytics Cloud',\n",
    "                  'SPSS',\n",
    "                  'Stata',\n",
    "                  'Minitab',\n",
    "                  'Matlab',\n",
    "                  'Alteryx',\n",
    "                  'Data Studio']"
   ]
  },
  {
   "cell_type": "code",
   "execution_count": null,
   "metadata": {
    "hidden": true
   },
   "outputs": [],
   "source": [
    "# Retrieving all DevTypes from the Stackoverflow data\n",
    "all_tools = subset_creator(dfs_tools, column_list)"
   ]
  },
  {
   "cell_type": "code",
   "execution_count": null,
   "metadata": {
    "hidden": true
   },
   "outputs": [],
   "source": [
    "# Compiling a comprehensive list without duplicates, sorted\n",
    "full_list = all_tools + online_research_list + ['Excel', 'MS Office'] + ['Workplace','Azure','Bash','Shell','PowerShell','IBM Cloud','IBM Watson','Google Suite','Slack','SQL Server','GCP','Torch','PyTorch','Amazon Web Services','Visual Basic', 'PowerBI']\n",
    "full_list = list(set(full_list))\n",
    "full_list = sorted(full_list, key=lambda x: x.upper())"
   ]
  },
  {
   "cell_type": "markdown",
   "metadata": {
    "heading_collapsed": true
   },
   "source": [
    "## Filtering"
   ]
  },
  {
   "cell_type": "markdown",
   "metadata": {
    "hidden": true
   },
   "source": [
    "**Sensible Filters**\n",
    "\n",
    "**Job Title**: Only job titles that contain the key descriptions: Data Analyst, Business Intelligence Analyst, Business Analyst, Data Scientist, Machine Learning Specialist"
   ]
  },
  {
   "cell_type": "code",
   "execution_count": null,
   "metadata": {
    "hidden": true
   },
   "outputs": [],
   "source": [
    "# Reducing the dataset to jobs that contain \"Data Scientist\" or \"Data Analyst\"\n",
    "dfk_f = dfk.loc[dfk['Job Title'].str.contains(r'Data Analyst|Business Intelligence Analyst|Business Analyst|Data Scientist|Machine Learning Specialist')]"
   ]
  },
  {
   "cell_type": "code",
   "execution_count": null,
   "metadata": {
    "hidden": true,
    "scrolled": true
   },
   "outputs": [],
   "source": [
    "# Checking new base size\n",
    "dfk_f.shape"
   ]
  },
  {
   "cell_type": "markdown",
   "metadata": {
    "heading_collapsed": true
   },
   "source": [
    "## Marking job postings as Data Analyst or Data Scientist postings"
   ]
  },
  {
   "cell_type": "code",
   "execution_count": null,
   "metadata": {
    "hidden": true
   },
   "outputs": [],
   "source": [
    "# Adding binary identifiers for Data Analyst and Data Scientist\n",
    "dfk_f['Data or business Analyst']=0\n",
    "dfk_f.loc[dfk_f['Job Title'].str.contains(r'Data Analyst|Business Intelligence Analyst|Business Analyst'),'Data or business Analyst'] = 1\n",
    "\n",
    "dfk_f['Data scientist or machine learning specialist']=0\n",
    "dfk_f.loc[dfk_f['Job Title'].str.contains(r'Data Scientist|Machine Learning Specialist'),'Data scientist or machine learning specialist'] = 1"
   ]
  },
  {
   "cell_type": "code",
   "execution_count": null,
   "metadata": {
    "hidden": true
   },
   "outputs": [],
   "source": [
    "# Checking if there is overlap\n",
    "dfk_f['Both job titles'] = dfk_f['Data or business Analyst'] + dfk_f['Data scientist or machine learning specialist']\n",
    "dfk_f['Both job titles'].value_counts()"
   ]
  },
  {
   "cell_type": "code",
   "execution_count": null,
   "metadata": {
    "hidden": true
   },
   "outputs": [],
   "source": [
    "# Removing ambiguous job titles (losing 3 rows >> minimal loss)\n",
    "dfk_f = dfk_f.loc[dfk_f['Both job titles']==1]"
   ]
  },
  {
   "cell_type": "code",
   "execution_count": null,
   "metadata": {
    "hidden": true
   },
   "outputs": [],
   "source": [
    "# Creating column that identifies DA and DS jobs\n",
    "dfk_f['Job Title Reduced']='no information'\n",
    "dfk_f.loc[dfk_f['Data or business Analyst']==1,'Job Title Reduced']='DA'\n",
    "dfk_f.loc[dfk_f['Data scientist or machine learning specialist']==1,'Job Title Reduced']='DS'"
   ]
  },
  {
   "cell_type": "code",
   "execution_count": null,
   "metadata": {
    "hidden": true
   },
   "outputs": [],
   "source": [
    "# Checking base size for each group\n",
    "dfk_f['Job Title Reduced'].value_counts()"
   ]
  },
  {
   "cell_type": "code",
   "execution_count": null,
   "metadata": {
    "hidden": true
   },
   "outputs": [],
   "source": [
    "# Storing abse sizes for further analysis\n",
    "n_da_k = dfk_f.loc[dfk_f['Job Title Reduced']=='DA']['index'].count()\n",
    "n_ds_k = dfk_f.loc[dfk_f['Job Title Reduced']=='DS']['index'].count()"
   ]
  },
  {
   "cell_type": "code",
   "execution_count": null,
   "metadata": {
    "hidden": true
   },
   "outputs": [],
   "source": [
    "print(\"Base size DA: \",n_da_k)\n",
    "print(\"Base size DS: \",n_ds_k)"
   ]
  },
  {
   "cell_type": "markdown",
   "metadata": {
    "heading_collapsed": true
   },
   "source": [
    "## Creating columns for tech/tools (0/1 coded)"
   ]
  },
  {
   "cell_type": "code",
   "execution_count": null,
   "metadata": {
    "hidden": true
   },
   "outputs": [],
   "source": [
    "dfk_f"
   ]
  },
  {
   "cell_type": "code",
   "execution_count": null,
   "metadata": {
    "hidden": true,
    "scrolled": false
   },
   "outputs": [],
   "source": [
    "# Creating one column per tool\n",
    "dfk_f[full_list] = np.nan"
   ]
  },
  {
   "cell_type": "code",
   "execution_count": null,
   "metadata": {
    "hidden": true,
    "scrolled": true
   },
   "outputs": [],
   "source": [
    "# Adding 1 for tool if mentioned in job description\n",
    "# Test your regex: https://regexr.com/\n",
    "for i in full_list:\n",
    "    r1 = r\"[\\s.,;:/(]\"\n",
    "    r2 = r\"[\\s.,;:/)]\"\n",
    "    regex_string = re.compile(r1 + re.escape(i) + r2, re.IGNORECASE)\n",
    "    dfk_f.loc[dfk_f['Job Description'].str.contains(regex_string),i] = 1"
   ]
  },
  {
   "cell_type": "code",
   "execution_count": null,
   "metadata": {
    "hidden": true
   },
   "outputs": [],
   "source": [
    "dfk_f = dfk_f.fillna(0)"
   ]
  },
  {
   "cell_type": "code",
   "execution_count": null,
   "metadata": {
    "hidden": true
   },
   "outputs": [],
   "source": [
    "dfk_f"
   ]
  },
  {
   "cell_type": "markdown",
   "metadata": {
    "heading_collapsed": true
   },
   "source": [
    "## Question 1.1: Do tool/tech requirements differ for Data Analysts and Data Scientists?"
   ]
  },
  {
   "cell_type": "code",
   "execution_count": null,
   "metadata": {
    "hidden": true
   },
   "outputs": [],
   "source": [
    "dfk_cooc1 = dfk_f.groupby('Job Title Reduced')[full_list].sum().transpose()"
   ]
  },
  {
   "cell_type": "code",
   "execution_count": null,
   "metadata": {
    "hidden": true
   },
   "outputs": [],
   "source": [
    "# !!!!! IMPROVE THIS TO ADHERE TO DRY PRINCIPLES !!!! Adding % columns into the co-occurence table\n",
    "dfk_cooc1['DA_share']=dfk_cooc1['DA']/n_da_k\n",
    "dfk_cooc1['DS_share']=dfk_cooc1['DS']/n_ds_k"
   ]
  },
  {
   "cell_type": "code",
   "execution_count": null,
   "metadata": {
    "hidden": true
   },
   "outputs": [],
   "source": [
    "# Adding a difference column\n",
    "dfk_cooc1['Difference'] = dfk_cooc1['DA_share'] - dfk_cooc1['DS_share']\n",
    "\n",
    "# Removing tools with low base sizes\n",
    "min_bs = 50 # adjust as desired\n",
    "dfk_cooc1 = dfk_cooc1.loc[(dfk_cooc1['DA'] > min_bs) | (dfk_cooc1['DS'] > min_bs)]\n",
    "\n",
    "# Removing tools with low endorsement >> ISN'T THIS EFFECTIVELY DOING THE SAME AS THE BASESIZE?\n",
    "min_end = 0.1 # adjust as desired\n",
    "dfk_cooc1 = dfk_cooc1.loc[(dfk_cooc1['DA'] > min_end) | (dfk_cooc1['DS'] > min_end)]\n"
   ]
  },
  {
   "cell_type": "code",
   "execution_count": null,
   "metadata": {
    "hidden": true,
    "scrolled": false
   },
   "outputs": [],
   "source": [
    "plt.rcParams[\"figure.figsize\"] = [10, 15]\n",
    "dfk_cooc1[['DA_share','DS_share', 'Difference']].sort_values(by=['Difference']).plot.barh();"
   ]
  },
  {
   "cell_type": "markdown",
   "metadata": {},
   "source": [
    "# Part 2 - The Stackoverflow Data"
   ]
  },
  {
   "cell_type": "markdown",
   "metadata": {},
   "source": [
    "## Inspecting data"
   ]
  },
  {
   "cell_type": "code",
   "execution_count": 7,
   "metadata": {
    "collapsed": true
   },
   "outputs": [
    {
     "data": {
      "text/html": [
       "<div>\n",
       "<style scoped>\n",
       "    .dataframe tbody tr th:only-of-type {\n",
       "        vertical-align: middle;\n",
       "    }\n",
       "\n",
       "    .dataframe tbody tr th {\n",
       "        vertical-align: top;\n",
       "    }\n",
       "\n",
       "    .dataframe thead th {\n",
       "        text-align: right;\n",
       "    }\n",
       "</style>\n",
       "<table border=\"1\" class=\"dataframe\">\n",
       "  <thead>\n",
       "    <tr style=\"text-align: right;\">\n",
       "      <th></th>\n",
       "      <th>Respondent</th>\n",
       "      <th>MainBranch</th>\n",
       "      <th>Hobbyist</th>\n",
       "      <th>Age</th>\n",
       "      <th>Age1stCode</th>\n",
       "      <th>CompFreq</th>\n",
       "      <th>CompTotal</th>\n",
       "      <th>ConvertedComp</th>\n",
       "      <th>Country</th>\n",
       "      <th>CurrencyDesc</th>\n",
       "      <th>CurrencySymbol</th>\n",
       "      <th>DatabaseDesireNextYear</th>\n",
       "      <th>DatabaseWorkedWith</th>\n",
       "      <th>DevType</th>\n",
       "      <th>EdLevel</th>\n",
       "      <th>Employment</th>\n",
       "      <th>Ethnicity</th>\n",
       "      <th>Gender</th>\n",
       "      <th>JobFactors</th>\n",
       "      <th>JobSat</th>\n",
       "      <th>JobSeek</th>\n",
       "      <th>LanguageDesireNextYear</th>\n",
       "      <th>LanguageWorkedWith</th>\n",
       "      <th>MiscTechDesireNextYear</th>\n",
       "      <th>MiscTechWorkedWith</th>\n",
       "      <th>NEWCollabToolsDesireNextYear</th>\n",
       "      <th>NEWCollabToolsWorkedWith</th>\n",
       "      <th>NEWDevOps</th>\n",
       "      <th>NEWDevOpsImpt</th>\n",
       "      <th>NEWEdImpt</th>\n",
       "      <th>NEWJobHunt</th>\n",
       "      <th>NEWJobHuntResearch</th>\n",
       "      <th>NEWLearn</th>\n",
       "      <th>NEWOffTopic</th>\n",
       "      <th>NEWOnboardGood</th>\n",
       "      <th>NEWOtherComms</th>\n",
       "      <th>NEWOvertime</th>\n",
       "      <th>NEWPurchaseResearch</th>\n",
       "      <th>NEWPurpleLink</th>\n",
       "      <th>NEWSOSites</th>\n",
       "      <th>NEWStuck</th>\n",
       "      <th>OpSys</th>\n",
       "      <th>OrgSize</th>\n",
       "      <th>PlatformDesireNextYear</th>\n",
       "      <th>PlatformWorkedWith</th>\n",
       "      <th>PurchaseWhat</th>\n",
       "      <th>Sexuality</th>\n",
       "      <th>SOAccount</th>\n",
       "      <th>SOComm</th>\n",
       "      <th>SOPartFreq</th>\n",
       "      <th>SOVisitFreq</th>\n",
       "      <th>SurveyEase</th>\n",
       "      <th>SurveyLength</th>\n",
       "      <th>Trans</th>\n",
       "      <th>UndergradMajor</th>\n",
       "      <th>WebframeDesireNextYear</th>\n",
       "      <th>WebframeWorkedWith</th>\n",
       "      <th>WelcomeChange</th>\n",
       "      <th>WorkWeekHrs</th>\n",
       "      <th>YearsCode</th>\n",
       "      <th>YearsCodePro</th>\n",
       "    </tr>\n",
       "  </thead>\n",
       "  <tbody>\n",
       "    <tr>\n",
       "      <th>0</th>\n",
       "      <td>1</td>\n",
       "      <td>I am a developer by profession</td>\n",
       "      <td>Yes</td>\n",
       "      <td>NaN</td>\n",
       "      <td>13</td>\n",
       "      <td>Monthly</td>\n",
       "      <td>NaN</td>\n",
       "      <td>NaN</td>\n",
       "      <td>Germany</td>\n",
       "      <td>European Euro</td>\n",
       "      <td>EUR</td>\n",
       "      <td>Microsoft SQL Server</td>\n",
       "      <td>Elasticsearch;Microsoft SQL Server;Oracle</td>\n",
       "      <td>Developer, desktop or enterprise applications;...</td>\n",
       "      <td>Master’s degree (M.A., M.S., M.Eng., MBA, etc.)</td>\n",
       "      <td>Independent contractor, freelancer, or self-em...</td>\n",
       "      <td>White or of European descent</td>\n",
       "      <td>Man</td>\n",
       "      <td>Languages, frameworks, and other technologies ...</td>\n",
       "      <td>Slightly satisfied</td>\n",
       "      <td>I am not interested in new job opportunities</td>\n",
       "      <td>C#;HTML/CSS;JavaScript</td>\n",
       "      <td>C#;HTML/CSS;JavaScript</td>\n",
       "      <td>.NET Core;Xamarin</td>\n",
       "      <td>.NET;.NET Core</td>\n",
       "      <td>Microsoft Teams;Microsoft Azure;Trello</td>\n",
       "      <td>Confluence;Jira;Slack;Microsoft Azure;Trello</td>\n",
       "      <td>No</td>\n",
       "      <td>Somewhat important</td>\n",
       "      <td>Fairly important</td>\n",
       "      <td>NaN</td>\n",
       "      <td>NaN</td>\n",
       "      <td>Once a year</td>\n",
       "      <td>Not sure</td>\n",
       "      <td>NaN</td>\n",
       "      <td>No</td>\n",
       "      <td>Often: 1-2 days per week or more</td>\n",
       "      <td>Start a free trial;Ask developers I know/work ...</td>\n",
       "      <td>Amused</td>\n",
       "      <td>Stack Overflow (public Q&amp;A for anyone who codes)</td>\n",
       "      <td>Visit Stack Overflow;Go for a walk or other ph...</td>\n",
       "      <td>Windows</td>\n",
       "      <td>2 to 9 employees</td>\n",
       "      <td>Android;iOS;Kubernetes;Microsoft Azure;Windows</td>\n",
       "      <td>Windows</td>\n",
       "      <td>NaN</td>\n",
       "      <td>Straight / Heterosexual</td>\n",
       "      <td>No</td>\n",
       "      <td>No, not at all</td>\n",
       "      <td>NaN</td>\n",
       "      <td>Multiple times per day</td>\n",
       "      <td>Neither easy nor difficult</td>\n",
       "      <td>Appropriate in length</td>\n",
       "      <td>No</td>\n",
       "      <td>Computer science, computer engineering, or sof...</td>\n",
       "      <td>ASP.NET Core</td>\n",
       "      <td>ASP.NET;ASP.NET Core</td>\n",
       "      <td>Just as welcome now as I felt last year</td>\n",
       "      <td>50.0</td>\n",
       "      <td>36</td>\n",
       "      <td>27</td>\n",
       "    </tr>\n",
       "    <tr>\n",
       "      <th>1</th>\n",
       "      <td>2</td>\n",
       "      <td>I am a developer by profession</td>\n",
       "      <td>No</td>\n",
       "      <td>NaN</td>\n",
       "      <td>19</td>\n",
       "      <td>NaN</td>\n",
       "      <td>NaN</td>\n",
       "      <td>NaN</td>\n",
       "      <td>United Kingdom</td>\n",
       "      <td>Pound sterling</td>\n",
       "      <td>GBP</td>\n",
       "      <td>NaN</td>\n",
       "      <td>NaN</td>\n",
       "      <td>Developer, full-stack;Developer, mobile</td>\n",
       "      <td>Bachelor’s degree (B.A., B.S., B.Eng., etc.)</td>\n",
       "      <td>Employed full-time</td>\n",
       "      <td>NaN</td>\n",
       "      <td>NaN</td>\n",
       "      <td>NaN</td>\n",
       "      <td>Very dissatisfied</td>\n",
       "      <td>I am not interested in new job opportunities</td>\n",
       "      <td>Python;Swift</td>\n",
       "      <td>JavaScript;Swift</td>\n",
       "      <td>React Native;TensorFlow;Unity 3D</td>\n",
       "      <td>React Native</td>\n",
       "      <td>Github;Slack</td>\n",
       "      <td>Confluence;Jira;Github;Gitlab;Slack</td>\n",
       "      <td>NaN</td>\n",
       "      <td>NaN</td>\n",
       "      <td>Fairly important</td>\n",
       "      <td>NaN</td>\n",
       "      <td>NaN</td>\n",
       "      <td>Once a year</td>\n",
       "      <td>Not sure</td>\n",
       "      <td>NaN</td>\n",
       "      <td>No</td>\n",
       "      <td>NaN</td>\n",
       "      <td>NaN</td>\n",
       "      <td>Amused</td>\n",
       "      <td>Stack Overflow (public Q&amp;A for anyone who code...</td>\n",
       "      <td>Visit Stack Overflow;Go for a walk or other ph...</td>\n",
       "      <td>MacOS</td>\n",
       "      <td>1,000 to 4,999 employees</td>\n",
       "      <td>iOS;Kubernetes;Linux;MacOS</td>\n",
       "      <td>iOS</td>\n",
       "      <td>I have little or no influence</td>\n",
       "      <td>NaN</td>\n",
       "      <td>Yes</td>\n",
       "      <td>Yes, definitely</td>\n",
       "      <td>Less than once per month or monthly</td>\n",
       "      <td>Multiple times per day</td>\n",
       "      <td>NaN</td>\n",
       "      <td>NaN</td>\n",
       "      <td>NaN</td>\n",
       "      <td>Computer science, computer engineering, or sof...</td>\n",
       "      <td>NaN</td>\n",
       "      <td>NaN</td>\n",
       "      <td>Somewhat more welcome now than last year</td>\n",
       "      <td>NaN</td>\n",
       "      <td>7</td>\n",
       "      <td>4</td>\n",
       "    </tr>\n",
       "    <tr>\n",
       "      <th>2</th>\n",
       "      <td>3</td>\n",
       "      <td>I code primarily as a hobby</td>\n",
       "      <td>Yes</td>\n",
       "      <td>NaN</td>\n",
       "      <td>15</td>\n",
       "      <td>NaN</td>\n",
       "      <td>NaN</td>\n",
       "      <td>NaN</td>\n",
       "      <td>Russian Federation</td>\n",
       "      <td>NaN</td>\n",
       "      <td>NaN</td>\n",
       "      <td>NaN</td>\n",
       "      <td>NaN</td>\n",
       "      <td>NaN</td>\n",
       "      <td>NaN</td>\n",
       "      <td>NaN</td>\n",
       "      <td>NaN</td>\n",
       "      <td>NaN</td>\n",
       "      <td>NaN</td>\n",
       "      <td>NaN</td>\n",
       "      <td>NaN</td>\n",
       "      <td>Objective-C;Python;Swift</td>\n",
       "      <td>Objective-C;Python;Swift</td>\n",
       "      <td>NaN</td>\n",
       "      <td>NaN</td>\n",
       "      <td>NaN</td>\n",
       "      <td>NaN</td>\n",
       "      <td>NaN</td>\n",
       "      <td>NaN</td>\n",
       "      <td>NaN</td>\n",
       "      <td>NaN</td>\n",
       "      <td>NaN</td>\n",
       "      <td>Once a decade</td>\n",
       "      <td>NaN</td>\n",
       "      <td>NaN</td>\n",
       "      <td>No</td>\n",
       "      <td>NaN</td>\n",
       "      <td>NaN</td>\n",
       "      <td>NaN</td>\n",
       "      <td>Stack Overflow (public Q&amp;A for anyone who codes)</td>\n",
       "      <td>NaN</td>\n",
       "      <td>Linux-based</td>\n",
       "      <td>NaN</td>\n",
       "      <td>NaN</td>\n",
       "      <td>NaN</td>\n",
       "      <td>NaN</td>\n",
       "      <td>NaN</td>\n",
       "      <td>Yes</td>\n",
       "      <td>Yes, somewhat</td>\n",
       "      <td>A few times per month or weekly</td>\n",
       "      <td>Daily or almost daily</td>\n",
       "      <td>Neither easy nor difficult</td>\n",
       "      <td>Appropriate in length</td>\n",
       "      <td>NaN</td>\n",
       "      <td>NaN</td>\n",
       "      <td>NaN</td>\n",
       "      <td>NaN</td>\n",
       "      <td>Somewhat more welcome now than last year</td>\n",
       "      <td>NaN</td>\n",
       "      <td>4</td>\n",
       "      <td>NaN</td>\n",
       "    </tr>\n",
       "    <tr>\n",
       "      <th>3</th>\n",
       "      <td>4</td>\n",
       "      <td>I am a developer by profession</td>\n",
       "      <td>Yes</td>\n",
       "      <td>25.0</td>\n",
       "      <td>18</td>\n",
       "      <td>NaN</td>\n",
       "      <td>NaN</td>\n",
       "      <td>NaN</td>\n",
       "      <td>Albania</td>\n",
       "      <td>Albanian lek</td>\n",
       "      <td>ALL</td>\n",
       "      <td>NaN</td>\n",
       "      <td>NaN</td>\n",
       "      <td>NaN</td>\n",
       "      <td>Master’s degree (M.A., M.S., M.Eng., MBA, etc.)</td>\n",
       "      <td>NaN</td>\n",
       "      <td>White or of European descent</td>\n",
       "      <td>Man</td>\n",
       "      <td>Flex time or a flexible schedule;Office enviro...</td>\n",
       "      <td>Slightly dissatisfied</td>\n",
       "      <td>I’m not actively looking, but I am open to new...</td>\n",
       "      <td>NaN</td>\n",
       "      <td>NaN</td>\n",
       "      <td>NaN</td>\n",
       "      <td>NaN</td>\n",
       "      <td>NaN</td>\n",
       "      <td>NaN</td>\n",
       "      <td>No</td>\n",
       "      <td>NaN</td>\n",
       "      <td>Not at all important/not necessary</td>\n",
       "      <td>Curious about other opportunities;Wanting to w...</td>\n",
       "      <td>NaN</td>\n",
       "      <td>Once a year</td>\n",
       "      <td>Not sure</td>\n",
       "      <td>Yes</td>\n",
       "      <td>Yes</td>\n",
       "      <td>Occasionally: 1-2 days per quarter but less th...</td>\n",
       "      <td>NaN</td>\n",
       "      <td>NaN</td>\n",
       "      <td>Stack Overflow (public Q&amp;A for anyone who code...</td>\n",
       "      <td>NaN</td>\n",
       "      <td>Linux-based</td>\n",
       "      <td>20 to 99 employees</td>\n",
       "      <td>NaN</td>\n",
       "      <td>NaN</td>\n",
       "      <td>I have a great deal of influence</td>\n",
       "      <td>Straight / Heterosexual</td>\n",
       "      <td>Yes</td>\n",
       "      <td>Yes, definitely</td>\n",
       "      <td>A few times per month or weekly</td>\n",
       "      <td>Multiple times per day</td>\n",
       "      <td>NaN</td>\n",
       "      <td>NaN</td>\n",
       "      <td>No</td>\n",
       "      <td>Computer science, computer engineering, or sof...</td>\n",
       "      <td>NaN</td>\n",
       "      <td>NaN</td>\n",
       "      <td>Somewhat less welcome now than last year</td>\n",
       "      <td>40.0</td>\n",
       "      <td>7</td>\n",
       "      <td>4</td>\n",
       "    </tr>\n",
       "    <tr>\n",
       "      <th>4</th>\n",
       "      <td>5</td>\n",
       "      <td>I used to be a developer by profession, but no...</td>\n",
       "      <td>Yes</td>\n",
       "      <td>31.0</td>\n",
       "      <td>16</td>\n",
       "      <td>NaN</td>\n",
       "      <td>NaN</td>\n",
       "      <td>NaN</td>\n",
       "      <td>United States</td>\n",
       "      <td>NaN</td>\n",
       "      <td>NaN</td>\n",
       "      <td>MySQL;PostgreSQL</td>\n",
       "      <td>MySQL;PostgreSQL;Redis;SQLite</td>\n",
       "      <td>NaN</td>\n",
       "      <td>Bachelor’s degree (B.A., B.S., B.Eng., etc.)</td>\n",
       "      <td>Employed full-time</td>\n",
       "      <td>White or of European descent</td>\n",
       "      <td>Man</td>\n",
       "      <td>NaN</td>\n",
       "      <td>NaN</td>\n",
       "      <td>NaN</td>\n",
       "      <td>Java;Ruby;Scala</td>\n",
       "      <td>HTML/CSS;Ruby;SQL</td>\n",
       "      <td>Ansible;Chef</td>\n",
       "      <td>Ansible</td>\n",
       "      <td>Github;Google Suite (Docs, Meet, etc)</td>\n",
       "      <td>Confluence;Jira;Github;Slack;Google Suite (Doc...</td>\n",
       "      <td>NaN</td>\n",
       "      <td>NaN</td>\n",
       "      <td>Very important</td>\n",
       "      <td>NaN</td>\n",
       "      <td>NaN</td>\n",
       "      <td>Once a year</td>\n",
       "      <td>No</td>\n",
       "      <td>NaN</td>\n",
       "      <td>Yes</td>\n",
       "      <td>NaN</td>\n",
       "      <td>Start a free trial;Ask developers I know/work ...</td>\n",
       "      <td>Hello, old friend</td>\n",
       "      <td>Stack Overflow (public Q&amp;A for anyone who code...</td>\n",
       "      <td>Call a coworker or friend;Visit Stack Overflow...</td>\n",
       "      <td>Windows</td>\n",
       "      <td>NaN</td>\n",
       "      <td>Docker;Google Cloud Platform;Heroku;Linux;Windows</td>\n",
       "      <td>AWS;Docker;Linux;MacOS;Windows</td>\n",
       "      <td>NaN</td>\n",
       "      <td>Straight / Heterosexual</td>\n",
       "      <td>Yes</td>\n",
       "      <td>Yes, somewhat</td>\n",
       "      <td>Less than once per month or monthly</td>\n",
       "      <td>A few times per month or weekly</td>\n",
       "      <td>Easy</td>\n",
       "      <td>Too short</td>\n",
       "      <td>No</td>\n",
       "      <td>Computer science, computer engineering, or sof...</td>\n",
       "      <td>Django;Ruby on Rails</td>\n",
       "      <td>Ruby on Rails</td>\n",
       "      <td>Just as welcome now as I felt last year</td>\n",
       "      <td>NaN</td>\n",
       "      <td>15</td>\n",
       "      <td>8</td>\n",
       "    </tr>\n",
       "  </tbody>\n",
       "</table>\n",
       "</div>"
      ],
      "text/plain": [
       "   Respondent                                         MainBranch Hobbyist  \\\n",
       "0           1                     I am a developer by profession      Yes   \n",
       "1           2                     I am a developer by profession       No   \n",
       "2           3                        I code primarily as a hobby      Yes   \n",
       "3           4                     I am a developer by profession      Yes   \n",
       "4           5  I used to be a developer by profession, but no...      Yes   \n",
       "\n",
       "    Age Age1stCode CompFreq  CompTotal  ConvertedComp             Country  \\\n",
       "0   NaN         13  Monthly        NaN            NaN             Germany   \n",
       "1   NaN         19      NaN        NaN            NaN      United Kingdom   \n",
       "2   NaN         15      NaN        NaN            NaN  Russian Federation   \n",
       "3  25.0         18      NaN        NaN            NaN             Albania   \n",
       "4  31.0         16      NaN        NaN            NaN       United States   \n",
       "\n",
       "     CurrencyDesc CurrencySymbol DatabaseDesireNextYear  \\\n",
       "0   European Euro            EUR   Microsoft SQL Server   \n",
       "1  Pound sterling            GBP                    NaN   \n",
       "2             NaN            NaN                    NaN   \n",
       "3    Albanian lek            ALL                    NaN   \n",
       "4             NaN            NaN       MySQL;PostgreSQL   \n",
       "\n",
       "                          DatabaseWorkedWith  \\\n",
       "0  Elasticsearch;Microsoft SQL Server;Oracle   \n",
       "1                                        NaN   \n",
       "2                                        NaN   \n",
       "3                                        NaN   \n",
       "4              MySQL;PostgreSQL;Redis;SQLite   \n",
       "\n",
       "                                             DevType  \\\n",
       "0  Developer, desktop or enterprise applications;...   \n",
       "1            Developer, full-stack;Developer, mobile   \n",
       "2                                                NaN   \n",
       "3                                                NaN   \n",
       "4                                                NaN   \n",
       "\n",
       "                                           EdLevel  \\\n",
       "0  Master’s degree (M.A., M.S., M.Eng., MBA, etc.)   \n",
       "1     Bachelor’s degree (B.A., B.S., B.Eng., etc.)   \n",
       "2                                              NaN   \n",
       "3  Master’s degree (M.A., M.S., M.Eng., MBA, etc.)   \n",
       "4     Bachelor’s degree (B.A., B.S., B.Eng., etc.)   \n",
       "\n",
       "                                          Employment  \\\n",
       "0  Independent contractor, freelancer, or self-em...   \n",
       "1                                 Employed full-time   \n",
       "2                                                NaN   \n",
       "3                                                NaN   \n",
       "4                                 Employed full-time   \n",
       "\n",
       "                      Ethnicity Gender  \\\n",
       "0  White or of European descent    Man   \n",
       "1                           NaN    NaN   \n",
       "2                           NaN    NaN   \n",
       "3  White or of European descent    Man   \n",
       "4  White or of European descent    Man   \n",
       "\n",
       "                                          JobFactors                 JobSat  \\\n",
       "0  Languages, frameworks, and other technologies ...     Slightly satisfied   \n",
       "1                                                NaN      Very dissatisfied   \n",
       "2                                                NaN                    NaN   \n",
       "3  Flex time or a flexible schedule;Office enviro...  Slightly dissatisfied   \n",
       "4                                                NaN                    NaN   \n",
       "\n",
       "                                             JobSeek  \\\n",
       "0       I am not interested in new job opportunities   \n",
       "1       I am not interested in new job opportunities   \n",
       "2                                                NaN   \n",
       "3  I’m not actively looking, but I am open to new...   \n",
       "4                                                NaN   \n",
       "\n",
       "     LanguageDesireNextYear        LanguageWorkedWith  \\\n",
       "0    C#;HTML/CSS;JavaScript    C#;HTML/CSS;JavaScript   \n",
       "1              Python;Swift          JavaScript;Swift   \n",
       "2  Objective-C;Python;Swift  Objective-C;Python;Swift   \n",
       "3                       NaN                       NaN   \n",
       "4           Java;Ruby;Scala         HTML/CSS;Ruby;SQL   \n",
       "\n",
       "             MiscTechDesireNextYear MiscTechWorkedWith  \\\n",
       "0                 .NET Core;Xamarin     .NET;.NET Core   \n",
       "1  React Native;TensorFlow;Unity 3D       React Native   \n",
       "2                               NaN                NaN   \n",
       "3                               NaN                NaN   \n",
       "4                      Ansible;Chef            Ansible   \n",
       "\n",
       "             NEWCollabToolsDesireNextYear  \\\n",
       "0  Microsoft Teams;Microsoft Azure;Trello   \n",
       "1                            Github;Slack   \n",
       "2                                     NaN   \n",
       "3                                     NaN   \n",
       "4   Github;Google Suite (Docs, Meet, etc)   \n",
       "\n",
       "                            NEWCollabToolsWorkedWith NEWDevOps  \\\n",
       "0       Confluence;Jira;Slack;Microsoft Azure;Trello        No   \n",
       "1                Confluence;Jira;Github;Gitlab;Slack       NaN   \n",
       "2                                                NaN       NaN   \n",
       "3                                                NaN        No   \n",
       "4  Confluence;Jira;Github;Slack;Google Suite (Doc...       NaN   \n",
       "\n",
       "        NEWDevOpsImpt                           NEWEdImpt  \\\n",
       "0  Somewhat important                    Fairly important   \n",
       "1                 NaN                    Fairly important   \n",
       "2                 NaN                                 NaN   \n",
       "3                 NaN  Not at all important/not necessary   \n",
       "4                 NaN                      Very important   \n",
       "\n",
       "                                          NEWJobHunt NEWJobHuntResearch  \\\n",
       "0                                                NaN                NaN   \n",
       "1                                                NaN                NaN   \n",
       "2                                                NaN                NaN   \n",
       "3  Curious about other opportunities;Wanting to w...                NaN   \n",
       "4                                                NaN                NaN   \n",
       "\n",
       "        NEWLearn NEWOffTopic NEWOnboardGood NEWOtherComms  \\\n",
       "0    Once a year    Not sure            NaN            No   \n",
       "1    Once a year    Not sure            NaN            No   \n",
       "2  Once a decade         NaN            NaN            No   \n",
       "3    Once a year    Not sure            Yes           Yes   \n",
       "4    Once a year          No            NaN           Yes   \n",
       "\n",
       "                                         NEWOvertime  \\\n",
       "0                   Often: 1-2 days per week or more   \n",
       "1                                                NaN   \n",
       "2                                                NaN   \n",
       "3  Occasionally: 1-2 days per quarter but less th...   \n",
       "4                                                NaN   \n",
       "\n",
       "                                 NEWPurchaseResearch      NEWPurpleLink  \\\n",
       "0  Start a free trial;Ask developers I know/work ...             Amused   \n",
       "1                                                NaN             Amused   \n",
       "2                                                NaN                NaN   \n",
       "3                                                NaN                NaN   \n",
       "4  Start a free trial;Ask developers I know/work ...  Hello, old friend   \n",
       "\n",
       "                                          NEWSOSites  \\\n",
       "0   Stack Overflow (public Q&A for anyone who codes)   \n",
       "1  Stack Overflow (public Q&A for anyone who code...   \n",
       "2   Stack Overflow (public Q&A for anyone who codes)   \n",
       "3  Stack Overflow (public Q&A for anyone who code...   \n",
       "4  Stack Overflow (public Q&A for anyone who code...   \n",
       "\n",
       "                                            NEWStuck        OpSys  \\\n",
       "0  Visit Stack Overflow;Go for a walk or other ph...      Windows   \n",
       "1  Visit Stack Overflow;Go for a walk or other ph...        MacOS   \n",
       "2                                                NaN  Linux-based   \n",
       "3                                                NaN  Linux-based   \n",
       "4  Call a coworker or friend;Visit Stack Overflow...      Windows   \n",
       "\n",
       "                    OrgSize  \\\n",
       "0          2 to 9 employees   \n",
       "1  1,000 to 4,999 employees   \n",
       "2                       NaN   \n",
       "3        20 to 99 employees   \n",
       "4                       NaN   \n",
       "\n",
       "                              PlatformDesireNextYear  \\\n",
       "0     Android;iOS;Kubernetes;Microsoft Azure;Windows   \n",
       "1                         iOS;Kubernetes;Linux;MacOS   \n",
       "2                                                NaN   \n",
       "3                                                NaN   \n",
       "4  Docker;Google Cloud Platform;Heroku;Linux;Windows   \n",
       "\n",
       "               PlatformWorkedWith                      PurchaseWhat  \\\n",
       "0                         Windows                               NaN   \n",
       "1                             iOS     I have little or no influence   \n",
       "2                             NaN                               NaN   \n",
       "3                             NaN  I have a great deal of influence   \n",
       "4  AWS;Docker;Linux;MacOS;Windows                               NaN   \n",
       "\n",
       "                 Sexuality SOAccount           SOComm  \\\n",
       "0  Straight / Heterosexual        No   No, not at all   \n",
       "1                      NaN       Yes  Yes, definitely   \n",
       "2                      NaN       Yes    Yes, somewhat   \n",
       "3  Straight / Heterosexual       Yes  Yes, definitely   \n",
       "4  Straight / Heterosexual       Yes    Yes, somewhat   \n",
       "\n",
       "                            SOPartFreq                      SOVisitFreq  \\\n",
       "0                                  NaN           Multiple times per day   \n",
       "1  Less than once per month or monthly           Multiple times per day   \n",
       "2      A few times per month or weekly            Daily or almost daily   \n",
       "3      A few times per month or weekly           Multiple times per day   \n",
       "4  Less than once per month or monthly  A few times per month or weekly   \n",
       "\n",
       "                   SurveyEase           SurveyLength Trans  \\\n",
       "0  Neither easy nor difficult  Appropriate in length    No   \n",
       "1                         NaN                    NaN   NaN   \n",
       "2  Neither easy nor difficult  Appropriate in length   NaN   \n",
       "3                         NaN                    NaN    No   \n",
       "4                        Easy              Too short    No   \n",
       "\n",
       "                                      UndergradMajor WebframeDesireNextYear  \\\n",
       "0  Computer science, computer engineering, or sof...           ASP.NET Core   \n",
       "1  Computer science, computer engineering, or sof...                    NaN   \n",
       "2                                                NaN                    NaN   \n",
       "3  Computer science, computer engineering, or sof...                    NaN   \n",
       "4  Computer science, computer engineering, or sof...   Django;Ruby on Rails   \n",
       "\n",
       "     WebframeWorkedWith                             WelcomeChange  \\\n",
       "0  ASP.NET;ASP.NET Core   Just as welcome now as I felt last year   \n",
       "1                   NaN  Somewhat more welcome now than last year   \n",
       "2                   NaN  Somewhat more welcome now than last year   \n",
       "3                   NaN  Somewhat less welcome now than last year   \n",
       "4         Ruby on Rails   Just as welcome now as I felt last year   \n",
       "\n",
       "   WorkWeekHrs YearsCode YearsCodePro  \n",
       "0         50.0        36           27  \n",
       "1          NaN         7            4  \n",
       "2          NaN         4          NaN  \n",
       "3         40.0         7            4  \n",
       "4          NaN        15            8  "
      ]
     },
     "execution_count": 7,
     "metadata": {},
     "output_type": "execute_result"
    }
   ],
   "source": [
    "dfs.head(5)"
   ]
  },
  {
   "cell_type": "code",
   "execution_count": 11,
   "metadata": {},
   "outputs": [
    {
     "name": "stdout",
     "output_type": "stream",
     "text": [
      "The original base size is 64461\n",
      "The number of columns is 61\n"
     ]
    }
   ],
   "source": [
    "print(\"The original base size is\",dfs.shape[0])\n",
    "print(\"The number of columns is\",dfs.shape[1])"
   ]
  },
  {
   "cell_type": "code",
   "execution_count": 14,
   "metadata": {
    "collapsed": true
   },
   "outputs": [
    {
     "name": "stdout",
     "output_type": "stream",
     "text": [
      "<class 'pandas.core.frame.DataFrame'>\n",
      "RangeIndex: 64461 entries, 0 to 64460\n",
      "Data columns (total 61 columns):\n",
      " #   Column                        Non-Null Count  Dtype  \n",
      "---  ------                        --------------  -----  \n",
      " 0   Respondent                    64461 non-null  int64  \n",
      " 1   MainBranch                    64162 non-null  object \n",
      " 2   Hobbyist                      64416 non-null  object \n",
      " 3   Age                           45446 non-null  float64\n",
      " 4   Age1stCode                    57900 non-null  object \n",
      " 5   CompFreq                      40069 non-null  object \n",
      " 6   CompTotal                     34826 non-null  float64\n",
      " 7   ConvertedComp                 34756 non-null  float64\n",
      " 8   Country                       64072 non-null  object \n",
      " 9   CurrencyDesc                  45472 non-null  object \n",
      " 10  CurrencySymbol                45472 non-null  object \n",
      " 11  DatabaseDesireNextYear        44070 non-null  object \n",
      " 12  DatabaseWorkedWith            49537 non-null  object \n",
      " 13  DevType                       49370 non-null  object \n",
      " 14  EdLevel                       57431 non-null  object \n",
      " 15  Employment                    63854 non-null  object \n",
      " 16  Ethnicity                     45948 non-null  object \n",
      " 17  Gender                        50557 non-null  object \n",
      " 18  JobFactors                    49349 non-null  object \n",
      " 19  JobSat                        45194 non-null  object \n",
      " 20  JobSeek                       51727 non-null  object \n",
      " 21  LanguageDesireNextYear        54113 non-null  object \n",
      " 22  LanguageWorkedWith            57378 non-null  object \n",
      " 23  MiscTechDesireNextYear        42379 non-null  object \n",
      " 24  MiscTechWorkedWith            40314 non-null  object \n",
      " 25  NEWCollabToolsDesireNextYear  47287 non-null  object \n",
      " 26  NEWCollabToolsWorkedWith      52883 non-null  object \n",
      " 27  NEWDevOps                     42686 non-null  object \n",
      " 28  NEWDevOpsImpt                 41732 non-null  object \n",
      " 29  NEWEdImpt                     48465 non-null  object \n",
      " 30  NEWJobHunt                    42286 non-null  object \n",
      " 31  NEWJobHuntResearch            41022 non-null  object \n",
      " 32  NEWLearn                      56156 non-null  object \n",
      " 33  NEWOffTopic                   50804 non-null  object \n",
      " 34  NEWOnboardGood                42623 non-null  object \n",
      " 35  NEWOtherComms                 57205 non-null  object \n",
      " 36  NEWOvertime                   43231 non-null  object \n",
      " 37  NEWPurchaseResearch           37321 non-null  object \n",
      " 38  NEWPurpleLink                 54803 non-null  object \n",
      " 39  NEWSOSites                    58275 non-null  object \n",
      " 40  NEWStuck                      54983 non-null  object \n",
      " 41  OpSys                         56228 non-null  object \n",
      " 42  OrgSize                       44334 non-null  object \n",
      " 43  PlatformDesireNextYear        50605 non-null  object \n",
      " 44  PlatformWorkedWith            53843 non-null  object \n",
      " 45  PurchaseWhat                  39364 non-null  object \n",
      " 46  Sexuality                     43992 non-null  object \n",
      " 47  SOAccount                     56805 non-null  object \n",
      " 48  SOComm                        56476 non-null  object \n",
      " 49  SOPartFreq                    46792 non-null  object \n",
      " 50  SOVisitFreq                   56970 non-null  object \n",
      " 51  SurveyEase                    51802 non-null  object \n",
      " 52  SurveyLength                  51701 non-null  object \n",
      " 53  Trans                         49345 non-null  object \n",
      " 54  UndergradMajor                50995 non-null  object \n",
      " 55  WebframeDesireNextYear        40024 non-null  object \n",
      " 56  WebframeWorkedWith            42279 non-null  object \n",
      " 57  WelcomeChange                 52683 non-null  object \n",
      " 58  WorkWeekHrs                   41151 non-null  float64\n",
      " 59  YearsCode                     57684 non-null  object \n",
      " 60  YearsCodePro                  46349 non-null  object \n",
      "dtypes: float64(4), int64(1), object(56)\n",
      "memory usage: 30.0+ MB\n"
     ]
    }
   ],
   "source": [
    "# Inspecting data types and missing values\n",
    "dfs.info()"
   ]
  },
  {
   "cell_type": "markdown",
   "metadata": {
    "heading_collapsed": true
   },
   "source": [
    "## Defining functions"
   ]
  },
  {
   "cell_type": "code",
   "execution_count": 15,
   "metadata": {
    "hidden": true
   },
   "outputs": [],
   "source": [
    "def subset_creator(df, column_list):\n",
    "    '''\n",
    "    INPUT:\n",
    "    df: full dataframe\n",
    "    column_list: list of columns from which unique string values need to e extracted\n",
    "\n",
    "    OUTPUT:\n",
    "    super_list2: list that contains each unqiue value from the columns in column_list once\n",
    "\n",
    "    What the function does:\n",
    "    The functions takes in columns which contain string values, \n",
    "    where each row multiple can contained multiple values separated by a delimiter (e.g. 'dog;cat;rabbit').\n",
    "    The function extracts all unique strings values from all columns from column_list and returns them in super_list2.\n",
    "    Each value is only contained once in super_list2.\n",
    "    '''\n",
    "    df = df.fillna('No information')\n",
    "    super_list = []\n",
    "    for i in column_list:\n",
    "        nested_list = list(df[i].str.split(';'))\n",
    "        flat_list = [item for sublist in nested_list for item in sublist]\n",
    "        all_set = set(flat_list)\n",
    "        all_list = list(all_set)\n",
    "        super_list.append(all_list)\n",
    "    super_list = [item for sublist in super_list for item in sublist]\n",
    "    super_list_all_set = set(super_list)\n",
    "    super_list_all_list = list(super_list_all_set)\n",
    "    super_list2 = [i for i in super_list_all_list if i != 'No information']\n",
    "    return super_list2"
   ]
  },
  {
   "cell_type": "code",
   "execution_count": 16,
   "metadata": {
    "hidden": true
   },
   "outputs": [],
   "source": [
    "def grouping_formatting(df, column):\n",
    "    '''\n",
    "    INPUT:\n",
    "    df: df to be reformatted\n",
    "    column: To set column name\n",
    "\n",
    "    Output:\n",
    "    Reformatted dataframe\n",
    "\n",
    "    What this function does:\n",
    "    This function reformats the dataframe after running groupby. It is used inside the grouping function.\n",
    "    '''\n",
    "    df = df.reset_index()\n",
    "    df = df.drop(columns=[0], axis=1)\n",
    "    df = df.rename(columns={\"index\": \"Categories\", 1: column})\n",
    "    return df"
   ]
  },
  {
   "cell_type": "code",
   "execution_count": 17,
   "metadata": {
    "hidden": true
   },
   "outputs": [],
   "source": [
    "def grouping(df, all_items, column, bs):\n",
    "    '''\n",
    "    INPUT:\n",
    "    df: dataframe with all data\n",
    "    all_devtypes: list of all different Developer roles\n",
    "    column: binary coded column\n",
    "    bs: True/False value deciding whether to include base sizes\n",
    "\n",
    "    OUTPUT:\n",
    "    df_cooc: grouped by df that is transposed and contains column % based on total and - if wanted - base sizes\n",
    "\n",
    "    What this function does:\n",
    "    1. Save the base size n for DevType of interest\n",
    "    2. Create new df by running groupby, immediately followed by transposing and dividing counts by n\n",
    "    3. Tidying up the new df using grouping_formatting function\n",
    "    4. Adding in base size if requested\n",
    "    '''\n",
    "    n = df[column].sum()\n",
    "    df_cooc = df.groupby([column])[all_items].sum().transpose()/n\n",
    "    df_cooc = grouping_formatting(df_cooc, column)\n",
    "    if bs:\n",
    "        df_bs = df.groupby([column])[all_items].sum().transpose()\n",
    "        df_bs = grouping_formatting(df_bs, column)\n",
    "        # changing column names to indicate it is base size\n",
    "        bs_columns = list(df_bs.columns)\n",
    "        bs_columns.remove(\"Categories\")\n",
    "        for i in bs_columns:\n",
    "            df_bs = df_bs.rename(columns={i: i+\"_bs\"})\n",
    "        # merging\n",
    "        df_cooc = pd.merge(\n",
    "            df_cooc, df_bs, left_on='Categories', right_on='Categories')\n",
    "    return df_cooc"
   ]
  },
  {
   "cell_type": "code",
   "execution_count": 18,
   "metadata": {
    "hidden": true
   },
   "outputs": [],
   "source": [
    "'''\n",
    "I have a problem here, because Microsoft Azure was in the survey TWICE. So Pandas labels them _x and _y. I need to \n",
    "prevent this duplication >>> It works now, but is not unversally applicable at all!\n",
    "\n",
    "This function creates dummy variables for my various categorical columns. \n",
    "It is also used further up in the code already for the DevType variable. \n",
    "Once it is de-bugged, move it up to your functions'''\n",
    "\n",
    "\n",
    "def dummies(df, column_list):\n",
    "    for i in column_list:\n",
    "        df_interim = df[i].str.get_dummies(sep=';')\n",
    "        df = pd.merge(df, df_interim, left_index=True, right_index=True)\n",
    "    ''' \n",
    "    At this stage I should somehow remove the duplicated columns\n",
    "    CHECK THIS OUT : https://pandas.pydata.org/docs/reference/api/pandas.DataFrame.filter.html\n",
    "    '''\n",
    "    header_list = df.columns\n",
    "    # identify all duplicate cases >> WOULD BE BETTER WITH REGEX _\\D$\n",
    "    issue_list = [i for i in header_list if i.endswith(\n",
    "        '_x') or i.endswith('_y')]\n",
    "    df['Microsoft Azure'] = df[issue_list[0]] + \\\n",
    "        df[issue_list[1]]  # NEED TO AUTOMATE THE \"AZURE\"\n",
    "    df = df.drop(columns=[issue_list[0], issue_list[1]], axis=1)\n",
    "    return df, issue_list"
   ]
  },
  {
   "cell_type": "markdown",
   "metadata": {
    "heading_collapsed": true
   },
   "source": [
    "## Filtering  (includes creating dummy variables for DevTypes)"
   ]
  },
  {
   "cell_type": "markdown",
   "metadata": {
    "hidden": true
   },
   "source": [
    "**Sensible filters**\n",
    "\n",
    "**MainBranch**: Developers by profession; code sometimes as part of their work\n",
    "\n",
    "**Employment**: Employed full-time; employed part-time; independent contractor, freelancer or self-employed\n",
    "\n",
    "**DevType**: Not NA >> This is used for grouping sample into Data Analysts and Data Scientists, hence cannot work with null values\n",
    "\n",
    "**DevType**: Data or business analyst; Data scientist or machine learning specialist >> This is my desired sample"
   ]
  },
  {
   "cell_type": "code",
   "execution_count": 19,
   "metadata": {
    "hidden": true
   },
   "outputs": [],
   "source": [
    "# Filerting on MainBranch\n",
    "dfs=dfs.loc[(dfs['MainBranch']==\"I am a developer by profession\")|(dfs['MainBranch']==\"I am not primarily a developer, but I write code sometimes as part of my work\")]"
   ]
  },
  {
   "cell_type": "code",
   "execution_count": 20,
   "metadata": {
    "hidden": true
   },
   "outputs": [],
   "source": [
    "# Filtering on Employment status\n",
    "dfs=dfs.loc[(dfs['Employment']==\"Employed full-time\")|(dfs['Employment']==\"Employed part-time\")|(dfs['Employment']==\"Independent contractor, freelancer, or self-employed\")]"
   ]
  },
  {
   "cell_type": "code",
   "execution_count": 21,
   "metadata": {
    "hidden": true,
    "scrolled": true
   },
   "outputs": [],
   "source": [
    "# Filerting on DevType = NaN\n",
    "dfs=dfs.dropna(subset=['DevType'])"
   ]
  },
  {
   "cell_type": "code",
   "execution_count": 22,
   "metadata": {
    "hidden": true
   },
   "outputs": [],
   "source": [
    "# Need to create columns for two professions I am interested in\n",
    "# https://stackoverflow.com/questions/18889588/create-dummies-from-column-with-multiple-values-in-pandas\n",
    "dfs_d1 = dfs['DevType'].str.get_dummies(sep=';')"
   ]
  },
  {
   "cell_type": "code",
   "execution_count": 23,
   "metadata": {
    "hidden": true
   },
   "outputs": [],
   "source": [
    "# Merging the dummy dataframe onto the original dataframe\n",
    "dfs = pd.merge(dfs, dfs_d1, left_index=True, right_index=True)"
   ]
  },
  {
   "cell_type": "code",
   "execution_count": 24,
   "metadata": {
    "hidden": true
   },
   "outputs": [],
   "source": [
    "# Filtering on respondents that work as Data Scientist or Data Analyst\n",
    "dfs = dfs.loc[(dfs['Data or business analyst']==1)|(dfs['Data scientist or machine learning specialist']==1)]"
   ]
  },
  {
   "cell_type": "code",
   "execution_count": 26,
   "metadata": {
    "hidden": true
   },
   "outputs": [
    {
     "name": "stdout",
     "output_type": "stream",
     "text": [
      "The new base size after filtering is 5952\n"
     ]
    }
   ],
   "source": [
    "# Checking new base size\n",
    "print(\"The new base size after filtering is\",dfs.shape[0])"
   ]
  },
  {
   "cell_type": "markdown",
   "metadata": {
    "heading_collapsed": true
   },
   "source": [
    "## Question 2.1: How distinctive are the Data Analyst and the Data Scientist roles from each other?"
   ]
  },
  {
   "cell_type": "markdown",
   "metadata": {
    "hidden": true
   },
   "source": [
    "How many % of people are Data Analysts, how many Data Scientists and how many are both?"
   ]
  },
  {
   "cell_type": "code",
   "execution_count": 27,
   "metadata": {
    "hidden": true
   },
   "outputs": [
    {
     "data": {
      "text/plain": [
       "0.5942540322580645"
      ]
     },
     "execution_count": 27,
     "metadata": {},
     "output_type": "execute_result"
    }
   ],
   "source": [
    "dfs['Data or business analyst'].mean()"
   ]
  },
  {
   "cell_type": "code",
   "execution_count": 28,
   "metadata": {
    "hidden": true
   },
   "outputs": [
    {
     "data": {
      "text/plain": [
       "0.5929099462365591"
      ]
     },
     "execution_count": 28,
     "metadata": {},
     "output_type": "execute_result"
    }
   ],
   "source": [
    "dfs['Data scientist or machine learning specialist'].mean()"
   ]
  },
  {
   "cell_type": "code",
   "execution_count": 29,
   "metadata": {
    "hidden": true
   },
   "outputs": [
    {
     "data": {
      "text/plain": [
       "0.18716397849462366"
      ]
     },
     "execution_count": 29,
     "metadata": {},
     "output_type": "execute_result"
    }
   ],
   "source": [
    "dfs['DA and DS']=0\n",
    "dfs.loc[(dfs['Data or business analyst']==1) & (dfs['Data scientist or machine learning specialist']==1),'DA and DS']=1\n",
    "dfs['DA and DS'].mean()"
   ]
  },
  {
   "cell_type": "markdown",
   "metadata": {
    "hidden": true
   },
   "source": [
    "Creating a variable to identify DAs, DSs and those who are both DA and DS >> Needed for further analysis"
   ]
  },
  {
   "cell_type": "code",
   "execution_count": 30,
   "metadata": {
    "hidden": true
   },
   "outputs": [],
   "source": [
    "dfs['DevType_RoleDescription']=np.nan\n",
    "dfs.loc[dfs['DA and DS']==1,'DevType_RoleDescription']='DA and DS'\n",
    "dfs.loc[(dfs['DA and DS']==0) & (dfs['Data scientist or machine learning specialist']==1),'DevType_RoleDescription']='DS only'\n",
    "dfs.loc[(dfs['DA and DS']==0) & (dfs['Data or business analyst']==1),'DevType_RoleDescription']='DA only'"
   ]
  },
  {
   "cell_type": "markdown",
   "metadata": {
    "hidden": true
   },
   "source": [
    "#### Creating base sizes for further analysis\n",
    "Get base size for each of the three groups (DA only, DS only, DA and DS)"
   ]
  },
  {
   "cell_type": "code",
   "execution_count": 31,
   "metadata": {
    "hidden": true
   },
   "outputs": [],
   "source": [
    "n_da_only = dfs.loc[dfs['DevType_RoleDescription']=='DA only']['Respondent'].count()\n",
    "n_ds_only = dfs.loc[dfs['DevType_RoleDescription']=='DS only']['Respondent'].count()\n",
    "n_da_and_ds = dfs.loc[dfs['DevType_RoleDescription']=='DA and DS']['Respondent'].count()"
   ]
  },
  {
   "cell_type": "code",
   "execution_count": 32,
   "metadata": {
    "hidden": true
   },
   "outputs": [
    {
     "name": "stdout",
     "output_type": "stream",
     "text": [
      "Base size DA only:  2423\n",
      "Base size DS only:  2415\n",
      "Base size DA and DS:  1114\n"
     ]
    }
   ],
   "source": [
    "print(\"Base size DA only: \",n_da_only)\n",
    "print(\"Base size DS only: \",n_ds_only)\n",
    "print(\"Base size DA and DS: \",n_da_and_ds)"
   ]
  },
  {
   "cell_type": "markdown",
   "metadata": {
    "hidden": true
   },
   "source": [
    "Get base size for two groups (DS, DA >> They have a certain overlap)"
   ]
  },
  {
   "cell_type": "code",
   "execution_count": 33,
   "metadata": {
    "hidden": true
   },
   "outputs": [],
   "source": [
    "n_da = dfs['Data or business analyst'].sum()\n",
    "n_ds = dfs['Data scientist or machine learning specialist'].sum()"
   ]
  },
  {
   "cell_type": "code",
   "execution_count": 34,
   "metadata": {
    "hidden": true
   },
   "outputs": [
    {
     "name": "stdout",
     "output_type": "stream",
     "text": [
      "Base size DA:  3537\n",
      "Base size DS:  3529\n"
     ]
    }
   ],
   "source": [
    "print(\"Base size DA: \",n_da)\n",
    "print(\"Base size DS: \",n_ds)"
   ]
  },
  {
   "cell_type": "markdown",
   "metadata": {
    "hidden": true
   },
   "source": [
    "### How distinctive are the DA and DS role from other roles in the field?"
   ]
  },
  {
   "cell_type": "code",
   "execution_count": 35,
   "metadata": {
    "hidden": true
   },
   "outputs": [],
   "source": [
    "# Retrieving all DevTypes from the Stackoverflow data\n",
    "all_devtypes = subset_creator(dfs, ['DevType'])"
   ]
  },
  {
   "cell_type": "markdown",
   "metadata": {
    "hidden": true
   },
   "source": [
    "##### How many respondents claim to ONLY be a Data Analyst or a Data Scientist?"
   ]
  },
  {
   "cell_type": "code",
   "execution_count": 36,
   "metadata": {
    "hidden": true
   },
   "outputs": [],
   "source": [
    "# Create column that shows number of roles chosen\n",
    "dfs['NumberOfRoles']=dfs[all_devtypes].sum(axis=1)"
   ]
  },
  {
   "cell_type": "code",
   "execution_count": 37,
   "metadata": {
    "collapsed": true,
    "hidden": true
   },
   "outputs": [
    {
     "data": {
      "text/html": [
       "<div>\n",
       "<style scoped>\n",
       "    .dataframe tbody tr th:only-of-type {\n",
       "        vertical-align: middle;\n",
       "    }\n",
       "\n",
       "    .dataframe tbody tr th {\n",
       "        vertical-align: top;\n",
       "    }\n",
       "\n",
       "    .dataframe thead th {\n",
       "        text-align: right;\n",
       "    }\n",
       "</style>\n",
       "<table border=\"1\" class=\"dataframe\">\n",
       "  <thead>\n",
       "    <tr style=\"text-align: right;\">\n",
       "      <th>DevType_RoleDescription</th>\n",
       "      <th>DA and DS</th>\n",
       "      <th>DA only</th>\n",
       "      <th>DS only</th>\n",
       "    </tr>\n",
       "    <tr>\n",
       "      <th>NumberOfRoles</th>\n",
       "      <th></th>\n",
       "      <th></th>\n",
       "      <th></th>\n",
       "    </tr>\n",
       "  </thead>\n",
       "  <tbody>\n",
       "    <tr>\n",
       "      <th>1</th>\n",
       "      <td>0</td>\n",
       "      <td>225</td>\n",
       "      <td>325</td>\n",
       "    </tr>\n",
       "    <tr>\n",
       "      <th>2</th>\n",
       "      <td>164</td>\n",
       "      <td>313</td>\n",
       "      <td>476</td>\n",
       "    </tr>\n",
       "    <tr>\n",
       "      <th>3</th>\n",
       "      <td>174</td>\n",
       "      <td>344</td>\n",
       "      <td>495</td>\n",
       "    </tr>\n",
       "    <tr>\n",
       "      <th>4</th>\n",
       "      <td>151</td>\n",
       "      <td>292</td>\n",
       "      <td>395</td>\n",
       "    </tr>\n",
       "    <tr>\n",
       "      <th>5</th>\n",
       "      <td>124</td>\n",
       "      <td>315</td>\n",
       "      <td>248</td>\n",
       "    </tr>\n",
       "    <tr>\n",
       "      <th>6</th>\n",
       "      <td>98</td>\n",
       "      <td>246</td>\n",
       "      <td>147</td>\n",
       "    </tr>\n",
       "    <tr>\n",
       "      <th>7</th>\n",
       "      <td>85</td>\n",
       "      <td>203</td>\n",
       "      <td>118</td>\n",
       "    </tr>\n",
       "    <tr>\n",
       "      <th>8</th>\n",
       "      <td>56</td>\n",
       "      <td>136</td>\n",
       "      <td>59</td>\n",
       "    </tr>\n",
       "    <tr>\n",
       "      <th>9</th>\n",
       "      <td>52</td>\n",
       "      <td>120</td>\n",
       "      <td>47</td>\n",
       "    </tr>\n",
       "    <tr>\n",
       "      <th>10</th>\n",
       "      <td>40</td>\n",
       "      <td>71</td>\n",
       "      <td>33</td>\n",
       "    </tr>\n",
       "    <tr>\n",
       "      <th>11</th>\n",
       "      <td>25</td>\n",
       "      <td>58</td>\n",
       "      <td>28</td>\n",
       "    </tr>\n",
       "    <tr>\n",
       "      <th>12</th>\n",
       "      <td>33</td>\n",
       "      <td>34</td>\n",
       "      <td>23</td>\n",
       "    </tr>\n",
       "    <tr>\n",
       "      <th>13</th>\n",
       "      <td>21</td>\n",
       "      <td>25</td>\n",
       "      <td>10</td>\n",
       "    </tr>\n",
       "    <tr>\n",
       "      <th>14</th>\n",
       "      <td>16</td>\n",
       "      <td>20</td>\n",
       "      <td>5</td>\n",
       "    </tr>\n",
       "    <tr>\n",
       "      <th>15</th>\n",
       "      <td>16</td>\n",
       "      <td>5</td>\n",
       "      <td>2</td>\n",
       "    </tr>\n",
       "    <tr>\n",
       "      <th>16</th>\n",
       "      <td>9</td>\n",
       "      <td>8</td>\n",
       "      <td>1</td>\n",
       "    </tr>\n",
       "    <tr>\n",
       "      <th>17</th>\n",
       "      <td>9</td>\n",
       "      <td>1</td>\n",
       "      <td>2</td>\n",
       "    </tr>\n",
       "    <tr>\n",
       "      <th>18</th>\n",
       "      <td>5</td>\n",
       "      <td>4</td>\n",
       "      <td>0</td>\n",
       "    </tr>\n",
       "    <tr>\n",
       "      <th>19</th>\n",
       "      <td>5</td>\n",
       "      <td>3</td>\n",
       "      <td>0</td>\n",
       "    </tr>\n",
       "    <tr>\n",
       "      <th>20</th>\n",
       "      <td>4</td>\n",
       "      <td>0</td>\n",
       "      <td>0</td>\n",
       "    </tr>\n",
       "    <tr>\n",
       "      <th>21</th>\n",
       "      <td>1</td>\n",
       "      <td>0</td>\n",
       "      <td>0</td>\n",
       "    </tr>\n",
       "    <tr>\n",
       "      <th>22</th>\n",
       "      <td>2</td>\n",
       "      <td>0</td>\n",
       "      <td>1</td>\n",
       "    </tr>\n",
       "    <tr>\n",
       "      <th>23</th>\n",
       "      <td>24</td>\n",
       "      <td>0</td>\n",
       "      <td>0</td>\n",
       "    </tr>\n",
       "  </tbody>\n",
       "</table>\n",
       "</div>"
      ],
      "text/plain": [
       "DevType_RoleDescription  DA and DS  DA only  DS only\n",
       "NumberOfRoles                                       \n",
       "1                                0      225      325\n",
       "2                              164      313      476\n",
       "3                              174      344      495\n",
       "4                              151      292      395\n",
       "5                              124      315      248\n",
       "6                               98      246      147\n",
       "7                               85      203      118\n",
       "8                               56      136       59\n",
       "9                               52      120       47\n",
       "10                              40       71       33\n",
       "11                              25       58       28\n",
       "12                              33       34       23\n",
       "13                              21       25       10\n",
       "14                              16       20        5\n",
       "15                              16        5        2\n",
       "16                               9        8        1\n",
       "17                               9        1        2\n",
       "18                               5        4        0\n",
       "19                               5        3        0\n",
       "20                               4        0        0\n",
       "21                               1        0        0\n",
       "22                               2        0        1\n",
       "23                              24        0        0"
      ]
     },
     "execution_count": 37,
     "metadata": {},
     "output_type": "execute_result"
    }
   ],
   "source": [
    "pd.crosstab(dfs['NumberOfRoles'],dfs['DevType_RoleDescription'])"
   ]
  },
  {
   "cell_type": "markdown",
   "metadata": {
    "hidden": true
   },
   "source": [
    "##### How many roles do respondents say they fill on average?"
   ]
  },
  {
   "cell_type": "code",
   "execution_count": 38,
   "metadata": {
    "hidden": true
   },
   "outputs": [
    {
     "data": {
      "text/plain": [
       "DevType_RoleDescription\n",
       "DA and DS    6.427289\n",
       "DA only      5.118035\n",
       "DS only      3.892754\n",
       "Name: NumberOfRoles, dtype: float64"
      ]
     },
     "execution_count": 38,
     "metadata": {},
     "output_type": "execute_result"
    }
   ],
   "source": [
    "dfs.groupby('DevType_RoleDescription')['NumberOfRoles'].mean()\n"
   ]
  },
  {
   "cell_type": "markdown",
   "metadata": {
    "hidden": true
   },
   "source": [
    "##### What else do they claim to be?"
   ]
  },
  {
   "cell_type": "markdown",
   "metadata": {
    "hidden": true
   },
   "source": [
    "Analysis for 3-way split (DA only, DS only, DA and DS)"
   ]
  },
  {
   "cell_type": "markdown",
   "metadata": {
    "hidden": true
   },
   "source": [
    "Link to article about co-occurence: https://tm4ss.github.io/docs/Tutorial_5_Co-occurrence.html"
   ]
  },
  {
   "cell_type": "code",
   "execution_count": 39,
   "metadata": {
    "hidden": true,
    "scrolled": true
   },
   "outputs": [],
   "source": [
    "# Creating a co-occurence table\n",
    "dfs_cooc1 = dfs.groupby('DevType_RoleDescription')[all_devtypes].sum().transpose()"
   ]
  },
  {
   "cell_type": "code",
   "execution_count": 40,
   "metadata": {
    "hidden": true
   },
   "outputs": [],
   "source": [
    "# !!!!! IMPROVE THIS TO ADHERE TO DRY PRINCIPLES !!!! Adding % columns into the co-occurence table\n",
    "dfs_cooc1['DA_share']=dfs_cooc1['DA only']/n_da_only\n",
    "dfs_cooc1['DA and DS_share']=dfs_cooc1['DA and DS']/n_da_and_ds\n",
    "dfs_cooc1['DS_share']=dfs_cooc1['DS only']/n_ds_only"
   ]
  },
  {
   "cell_type": "code",
   "execution_count": 41,
   "metadata": {
    "collapsed": true,
    "hidden": true
   },
   "outputs": [
    {
     "data": {
      "image/png": "[encoded data removed]",
      "text/plain": [
       "<Figure size 720x720 with 2 Axes>"
      ]
     },
     "metadata": {
      "needs_background": "light"
     },
     "output_type": "display_data"
    }
   ],
   "source": [
    "# Plotting the table using a heatmap\n",
    "plt.figure(figsize=(10,10))\n",
    "ax=sns.heatmap(dfs_cooc1[['DA_share','DS_share','DA and DS_share']].sort_values(by=['DA_share']), annot=True, fmt='.2f')\n",
    "ax.set_ylim(0,23);"
   ]
  },
  {
   "cell_type": "markdown",
   "metadata": {
    "hidden": true
   },
   "source": [
    "Analysis for 2-way split with partial overlap (DA, DS)"
   ]
  },
  {
   "cell_type": "code",
   "execution_count": 42,
   "metadata": {
    "hidden": true
   },
   "outputs": [],
   "source": [
    "# Creating a co-occurence table\n",
    "dfs_cooc2_da = grouping(dfs, all_devtypes, 'Data or business analyst', False)\n",
    "dfs_cooc2_ds = grouping(dfs, all_devtypes, 'Data scientist or machine learning specialist', False)\n",
    "dfs_cooc2 = pd.merge(dfs_cooc2_da, \n",
    "        dfs_cooc2_ds,\n",
    "        left_on = 'Categories',\n",
    "        right_on = 'Categories')\n",
    "dfs_cooc2 = dfs_cooc2.set_index('Categories')\n",
    "\n",
    "# Adding a Difference column\n",
    "dfs_cooc2['Difference'] = dfs_cooc2['Data scientist or machine learning specialist'] - dfs_cooc2['Data or business analyst']"
   ]
  },
  {
   "cell_type": "code",
   "execution_count": null,
   "metadata": {
    "hidden": true
   },
   "outputs": [],
   "source": [
    "# Plotting the table using a heatmap\n",
    "plt.figure(figsize=(10,10))\n",
    "ax=sns.heatmap(dfs_cooc2.sort_values(by=['Difference']), annot=True, fmt='.2f')\n",
    "ax.set_ylim(0,23);"
   ]
  },
  {
   "cell_type": "code",
   "execution_count": null,
   "metadata": {
    "hidden": true
   },
   "outputs": [],
   "source": [
    "# Creating horizontal bar chart to show differences\n",
    "plt.rcParams[\"figure.figsize\"] = [10, 10]\n",
    "dfs_cooc2[['Data or business analyst','Data scientist or machine learning specialist','Difference']].sort_values(by=['Difference']).plot.barh();"
   ]
  },
  {
   "cell_type": "markdown",
   "metadata": {},
   "source": [
    "## Creating a co-occurence network graph for all roles"
   ]
  },
  {
   "cell_type": "code",
   "execution_count": 43,
   "metadata": {},
   "outputs": [],
   "source": [
    "df_ng = dfs[all_devtypes]"
   ]
  },
  {
   "cell_type": "code",
   "execution_count": 44,
   "metadata": {},
   "outputs": [],
   "source": [
    "# https://stackoverflow.com/questions/20574257/constructing-a-co-occurrence-matrix-in-python-pandas\n",
    "df_ngt = df_ng.T.dot(df_ng)"
   ]
  },
  {
   "cell_type": "code",
   "execution_count": 45,
   "metadata": {},
   "outputs": [],
   "source": [
    "np.fill_diagonal(df_ngt.values, 0)"
   ]
  },
  {
   "cell_type": "markdown",
   "metadata": {},
   "source": [
    "Video about Networkx: https://www.youtube.com/watch?v=flwcAf1_1RU"
   ]
  },
  {
   "cell_type": "markdown",
   "metadata": {},
   "source": [
    "Create an edge list from the cooccurence matrix: https://stackoverflow.com/questions/57456069/how-to-convert-a-co-occurrence-matrix-to-networkx-graph"
   ]
  },
  {
   "cell_type": "code",
   "execution_count": 49,
   "metadata": {
    "scrolled": true
   },
   "outputs": [],
   "source": [
    "df_ngt.values[np.tril(np.ones(df_ngt.shape)).astype(bool)] = 0"
   ]
  },
  {
   "cell_type": "code",
   "execution_count": 52,
   "metadata": {
    "scrolled": true
   },
   "outputs": [],
   "source": [
    "df_ngt_stacked = df_ngt.stack()"
   ]
  },
  {
   "cell_type": "code",
   "execution_count": 54,
   "metadata": {},
   "outputs": [],
   "source": [
    "df_ngt_stacked = df_ngt_stacked[df_ngt_stacked >= 1].rename_axis(('node1', 'node2')).reset_index(name='weight')"
   ]
  },
  {
   "cell_type": "code",
   "execution_count": 55,
   "metadata": {
    "scrolled": true
   },
   "outputs": [
    {
     "data": {
      "text/html": [
       "<div>\n",
       "<style scoped>\n",
       "    .dataframe tbody tr th:only-of-type {\n",
       "        vertical-align: middle;\n",
       "    }\n",
       "\n",
       "    .dataframe tbody tr th {\n",
       "        vertical-align: top;\n",
       "    }\n",
       "\n",
       "    .dataframe thead th {\n",
       "        text-align: right;\n",
       "    }\n",
       "</style>\n",
       "<table border=\"1\" class=\"dataframe\">\n",
       "  <thead>\n",
       "    <tr style=\"text-align: right;\">\n",
       "      <th></th>\n",
       "      <th>node1</th>\n",
       "      <th>node2</th>\n",
       "      <th>weight</th>\n",
       "    </tr>\n",
       "  </thead>\n",
       "  <tbody>\n",
       "    <tr>\n",
       "      <th>0</th>\n",
       "      <td>Product manager</td>\n",
       "      <td>Developer, embedded applications or devices</td>\n",
       "      <td>136</td>\n",
       "    </tr>\n",
       "    <tr>\n",
       "      <th>1</th>\n",
       "      <td>Product manager</td>\n",
       "      <td>Designer</td>\n",
       "      <td>232</td>\n",
       "    </tr>\n",
       "    <tr>\n",
       "      <th>2</th>\n",
       "      <td>Product manager</td>\n",
       "      <td>Data or business analyst</td>\n",
       "      <td>495</td>\n",
       "    </tr>\n",
       "    <tr>\n",
       "      <th>3</th>\n",
       "      <td>Product manager</td>\n",
       "      <td>Engineer, site reliability</td>\n",
       "      <td>93</td>\n",
       "    </tr>\n",
       "    <tr>\n",
       "      <th>4</th>\n",
       "      <td>Product manager</td>\n",
       "      <td>Database administrator</td>\n",
       "      <td>310</td>\n",
       "    </tr>\n",
       "    <tr>\n",
       "      <th>...</th>\n",
       "      <td>...</td>\n",
       "      <td>...</td>\n",
       "      <td>...</td>\n",
       "    </tr>\n",
       "    <tr>\n",
       "      <th>248</th>\n",
       "      <td>Engineer, data</td>\n",
       "      <td>DevOps specialist</td>\n",
       "      <td>358</td>\n",
       "    </tr>\n",
       "    <tr>\n",
       "      <th>249</th>\n",
       "      <td>Engineer, data</td>\n",
       "      <td>Marketing or sales professional</td>\n",
       "      <td>75</td>\n",
       "    </tr>\n",
       "    <tr>\n",
       "      <th>250</th>\n",
       "      <td>Scientist</td>\n",
       "      <td>DevOps specialist</td>\n",
       "      <td>134</td>\n",
       "    </tr>\n",
       "    <tr>\n",
       "      <th>251</th>\n",
       "      <td>Scientist</td>\n",
       "      <td>Marketing or sales professional</td>\n",
       "      <td>52</td>\n",
       "    </tr>\n",
       "    <tr>\n",
       "      <th>252</th>\n",
       "      <td>DevOps specialist</td>\n",
       "      <td>Marketing or sales professional</td>\n",
       "      <td>65</td>\n",
       "    </tr>\n",
       "  </tbody>\n",
       "</table>\n",
       "<p>253 rows × 3 columns</p>\n",
       "</div>"
      ],
      "text/plain": [
       "                 node1                                        node2  weight\n",
       "0      Product manager  Developer, embedded applications or devices     136\n",
       "1      Product manager                                     Designer     232\n",
       "2      Product manager                     Data or business analyst     495\n",
       "3      Product manager                   Engineer, site reliability      93\n",
       "4      Product manager                       Database administrator     310\n",
       "..                 ...                                          ...     ...\n",
       "248     Engineer, data                            DevOps specialist     358\n",
       "249     Engineer, data              Marketing or sales professional      75\n",
       "250          Scientist                            DevOps specialist     134\n",
       "251          Scientist              Marketing or sales professional      52\n",
       "252  DevOps specialist              Marketing or sales professional      65\n",
       "\n",
       "[253 rows x 3 columns]"
      ]
     },
     "execution_count": 55,
     "metadata": {},
     "output_type": "execute_result"
    }
   ],
   "source": [
    "df_ngt_stacked"
   ]
  },
  {
   "cell_type": "code",
   "execution_count": 71,
   "metadata": {},
   "outputs": [],
   "source": [
    "# Filtering only on connections with weight > 10\n",
    "df_ngt_stacked_f = df_ngt_stacked.loc[df_ngt_stacked['weight']>300]"
   ]
  },
  {
   "cell_type": "code",
   "execution_count": 72,
   "metadata": {},
   "outputs": [
    {
     "name": "stdout",
     "output_type": "stream",
     "text": [
      "No of unique characters: 19\n",
      "No of connections: 100\n"
     ]
    }
   ],
   "source": [
    "G = nx.from_pandas_edgelist(df_ngt_stacked_f, \n",
    "                            source='node1', \n",
    "                            target='node2', \n",
    "                            edge_attr='weight')\n",
    "print(\"No of unique characters:\", len(G.nodes))\n",
    "print(\"No of connections:\", len(G.edges))"
   ]
  },
  {
   "cell_type": "code",
   "execution_count": 76,
   "metadata": {
    "collapsed": true
   },
   "outputs": [
    {
     "data": {
      "image/png": "[encoded data removed]",
      "text/plain": [
       "<Figure size 800x600 with 1 Axes>"
      ]
     },
     "metadata": {},
     "output_type": "display_data"
    }
   ],
   "source": [
    "# all graph options\n",
    "graphs_viz_options = [nx.draw, nx.draw_networkx, nx.draw_circular, nx.draw_kamada_kawai, nx.draw_random, nx.draw_shell, nx.draw_spring]\n",
    "\n",
    "# plot graph option\n",
    "selected_graph_option = 0\n",
    "\n",
    "# plot\n",
    "plt.figure(figsize=(8,6), dpi=100) \n",
    "graphs_viz_options[selected_graph_option](G)"
   ]
  },
  {
   "cell_type": "markdown",
   "metadata": {
    "heading_collapsed": true
   },
   "source": [
    "## Question 2.2: Do tools used by Data Analysts versus Data Scientists differ?"
   ]
  },
  {
   "cell_type": "code",
   "execution_count": null,
   "metadata": {
    "hidden": true
   },
   "outputs": [],
   "source": [
    "# Listing all columns that refer to tech and tools variables\n",
    "column_list = ['MiscTechWorkedWith',\n",
    "               'LanguageWorkedWith',\n",
    "               'NEWCollabToolsWorkedWith',\n",
    "               'DatabaseWorkedWith',\n",
    "               'PlatformWorkedWith',\n",
    "               'WebframeWorkedWith']"
   ]
  },
  {
   "cell_type": "code",
   "execution_count": null,
   "metadata": {
    "hidden": true
   },
   "outputs": [],
   "source": [
    "# Creating columns in df for all tools\n",
    "# https://stackoverflow.com/questions/18889588/create-dummies-from-column-with-multiple-values-in-pandas\n",
    "dfs_tools, issue_list = dummies(dfs, column_list)"
   ]
  },
  {
   "cell_type": "code",
   "execution_count": null,
   "metadata": {
    "hidden": true,
    "scrolled": true
   },
   "outputs": [],
   "source": [
    "# Creating list with all tools\n",
    "all_tools = subset_creator(dfs_tools, column_list)"
   ]
  },
  {
   "cell_type": "markdown",
   "metadata": {
    "hidden": true
   },
   "source": [
    "Analysis for 3-way split (DA only, DS only, DA and DS)"
   ]
  },
  {
   "cell_type": "code",
   "execution_count": null,
   "metadata": {
    "hidden": true
   },
   "outputs": [],
   "source": [
    "# Creating a co-occurence table\n",
    "dfs_cooc3 = dfs_tools.groupby('DevType_RoleDescription')[all_tools].sum().transpose()"
   ]
  },
  {
   "cell_type": "code",
   "execution_count": null,
   "metadata": {
    "hidden": true
   },
   "outputs": [],
   "source": [
    "# !!!!! IMPROVE THIS TO ADHERE TO DRY PRINCIPLES !!!! Adding % columns into the co-occurence table\n",
    "dfs_cooc3['DA_share']=dfs_cooc3['DA only']/n_da_only\n",
    "dfs_cooc3['DA and DS_share']=dfs_cooc3['DA and DS']/n_da_and_ds\n",
    "dfs_cooc3['DS_share']=dfs_cooc3['DS only']/n_ds_only"
   ]
  },
  {
   "cell_type": "code",
   "execution_count": null,
   "metadata": {
    "hidden": true
   },
   "outputs": [],
   "source": [
    "# Plotting the table using a heatmap\n",
    "plt.figure(figsize=(10,40))\n",
    "ax=sns.heatmap(dfs_cooc3[['DA_share','DS_share','DA and DS_share']].sort_values(by=['DA_share']), annot=True, fmt='.2f')\n",
    "#ax.set_ylim(0,100);"
   ]
  },
  {
   "cell_type": "markdown",
   "metadata": {
    "hidden": true
   },
   "source": [
    "Analysis for 2-way split with partial overlap (DA, DS)"
   ]
  },
  {
   "cell_type": "code",
   "execution_count": null,
   "metadata": {
    "hidden": true,
    "scrolled": true
   },
   "outputs": [],
   "source": [
    "dfs_cooc4_da = grouping(dfs_tools, all_tools, 'Data or business analyst', True)\n",
    "dfs_cooc4_ds = grouping(dfs_tools, all_tools, 'Data scientist or machine learning specialist', True)\n",
    "dfs_cooc4 = pd.merge(dfs_cooc4_da, \n",
    "        dfs_cooc4_ds,\n",
    "        left_on = 'Categories',\n",
    "        right_on = 'Categories')\n",
    "dfs_cooc4 = dfs_cooc4.set_index('Categories')\n",
    "\n",
    "# Adding a difference column\n",
    "dfs_cooc4['Difference'] = dfs_cooc4['Data scientist or machine learning specialist'] - dfs_cooc4['Data or business analyst']\n",
    "\n",
    "# Removing tools with low base sizes\n",
    "min_bs = 100 # adjust as desired\n",
    "dfs_cooc4 = dfs_cooc4.loc[(dfs_cooc4['Data or business analyst_bs'] > min_bs) | (dfs_cooc4['Data scientist or machine learning specialist_bs'] > min_bs)]\n",
    "\n",
    "# Removing tools with low endorsement\n",
    "min_end = 0.3 # adjust as desired\n",
    "dfs_cooc4 = dfs_cooc4.loc[(dfs_cooc4['Data or business analyst'] > min_end) | (dfs_cooc4['Data scientist or machine learning specialist'] > min_end)]\n"
   ]
  },
  {
   "cell_type": "code",
   "execution_count": null,
   "metadata": {
    "hidden": true,
    "scrolled": true
   },
   "outputs": [],
   "source": [
    "plt.rcParams[\"figure.figsize\"] = [10, 15]\n",
    "dfs_cooc4[['Data or business analyst','Data scientist or machine learning specialist', 'Difference']].sort_values(by=['Difference']).plot.barh();"
   ]
  },
  {
   "cell_type": "markdown",
   "metadata": {
    "heading_collapsed": true
   },
   "source": [
    "## Question 2.3: Do tools that Data Analysts and Data Scientists want to learn differ?"
   ]
  },
  {
   "cell_type": "code",
   "execution_count": null,
   "metadata": {
    "hidden": true
   },
   "outputs": [],
   "source": [
    "# Listing all columns that refer to tech and tools variables FOR LEARNING\n",
    "column_list_dny = ['MiscTechDesireNextYear',\n",
    "               'LanguageDesireNextYear',\n",
    "               'NEWCollabToolsDesireNextYear',\n",
    "               'DatabaseDesireNextYear',\n",
    "               'PlatformDesireNextYear',\n",
    "               'WebframeDesireNextYear']"
   ]
  },
  {
   "cell_type": "code",
   "execution_count": null,
   "metadata": {
    "hidden": true
   },
   "outputs": [],
   "source": [
    "# Creating columns in df for all tools\n",
    "dfs_tools_dny, issue_list_dny = dummies(dfs, column_list_dny)"
   ]
  },
  {
   "cell_type": "code",
   "execution_count": null,
   "metadata": {
    "hidden": true
   },
   "outputs": [],
   "source": [
    "# Creating list with all tools\n",
    "all_tools_dny = subset_creator(dfs_tools_dny, column_list_dny)"
   ]
  },
  {
   "cell_type": "markdown",
   "metadata": {
    "hidden": true
   },
   "source": [
    "Analysis for 3-way split (DA only, DS only, DA and DS)"
   ]
  },
  {
   "cell_type": "code",
   "execution_count": null,
   "metadata": {
    "hidden": true
   },
   "outputs": [],
   "source": [
    "# Creating a co-occurence table\n",
    "dfs_cooc5 = dfs_tools_dny.groupby('DevType_RoleDescription')[all_tools_dny].sum().transpose()"
   ]
  },
  {
   "cell_type": "code",
   "execution_count": null,
   "metadata": {
    "hidden": true
   },
   "outputs": [],
   "source": [
    "# !!!!! IMPROVE THIS TO ADHERE TO DRY PRINCIPLES !!!! Adding % columns into the co-occurence table\n",
    "dfs_cooc5['DA_share']=dfs_cooc5['DA only']/n_da_only\n",
    "dfs_cooc5['DA and DS_share']=dfs_cooc5['DA and DS']/n_da_and_ds\n",
    "dfs_cooc5['DS_share']=dfs_cooc5['DS only']/n_ds_only"
   ]
  },
  {
   "cell_type": "code",
   "execution_count": null,
   "metadata": {
    "hidden": true
   },
   "outputs": [],
   "source": [
    "# Plotting the table using a heatmap\n",
    "plt.figure(figsize=(10,40))\n",
    "ax=sns.heatmap(dfs_cooc5[['DA_share','DS_share','DA and DS_share']].sort_values(by=['DA_share']), annot=True, fmt='.2f')\n",
    "#ax.set_ylim(0,100);"
   ]
  },
  {
   "cell_type": "markdown",
   "metadata": {
    "hidden": true
   },
   "source": [
    "Analysis for 2-way split with partial overlap (DA, DS)"
   ]
  },
  {
   "cell_type": "code",
   "execution_count": null,
   "metadata": {
    "hidden": true
   },
   "outputs": [],
   "source": [
    "dfs_cooc5_da = grouping(dfs_tools_dny, all_tools_dny, 'Data or business analyst', True)\n",
    "dfs_cooc5_ds = grouping(dfs_tools_dny, all_tools_dny, 'Data scientist or machine learning specialist', True)\n",
    "dfs_cooc5 = pd.merge(dfs_cooc5_da, \n",
    "        dfs_cooc5_ds,\n",
    "        left_on = 'Categories',\n",
    "        right_on = 'Categories')\n",
    "dfs_cooc5 = dfs_cooc5.set_index('Categories')\n",
    "\n",
    "# Adding a difference column\n",
    "dfs_cooc5['Difference'] = dfs_cooc5['Data scientist or machine learning specialist'] - dfs_cooc5['Data or business analyst']\n",
    "\n",
    "# Removing tools with low base sizes\n",
    "min_bs = 100 # adjust as desired\n",
    "dfs_cooc5 = dfs_cooc5.loc[(dfs_cooc5['Data or business analyst_bs'] > min_bs) | (dfs_cooc5['Data scientist or machine learning specialist_bs'] > min_bs)]\n",
    "\n",
    "# Removing tools with low endorsement\n",
    "min_end = 0.3 # adjust as desired\n",
    "dfs_cooc5 = dfs_cooc5.loc[(dfs_cooc5['Data or business analyst'] > min_end) | (dfs_cooc5['Data scientist or machine learning specialist'] > min_end)]\n"
   ]
  },
  {
   "cell_type": "code",
   "execution_count": null,
   "metadata": {
    "hidden": true
   },
   "outputs": [],
   "source": [
    "plt.rcParams[\"figure.figsize\"] = [10, 15]\n",
    "dfs_cooc5[['Data or business analyst','Data scientist or machine learning specialist', 'Difference']].sort_values(by=['Difference']).plot.barh();"
   ]
  }
 ],
 "metadata": {
  "kernelspec": {
   "display_name": "Python 3",
   "language": "python",
   "name": "python3"
  },
  "language_info": {
   "codemirror_mode": {
    "name": "ipython",
    "version": 3
   },
   "file_extension": ".py",
   "mimetype": "text/x-python",
   "name": "python",
   "nbconvert_exporter": "python",
   "pygments_lexer": "ipython3",
   "version": "3.7.10"
  }
 },
 "nbformat": 4,
 "nbformat_minor": 2
}
